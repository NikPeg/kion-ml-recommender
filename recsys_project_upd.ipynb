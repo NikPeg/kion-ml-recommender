{
 "cells": [
  {
   "cell_type": "markdown",
   "id": "8c9daa20-4463-4c29-86d7-e8b55a836d6a",
   "metadata": {
    "nbgrader": {
     "grade": false,
     "grade_id": "cell-11e06e57608fe1f3",
     "locked": true,
     "schema_version": 3,
     "solution": false,
     "task": false
    }
   },
   "source": [
    "# Проект по курсу \"Рекомендательные системы\"\n",
    "  \n",
    "Правила заполнения ноутбуков на авто-проверку:\n",
    "- повторить окружение преподавателя\n",
    "Python 3.13.0\n",
    "```bash\n",
    "pip install implicit==0.7.2 \"rectools[all]==0.17.0\" pandas==2.3.3 numpy==2.3.3 scipy==1.16.2  requests==2.32.5 catboost==1.2.8 scikit-learn==1.7.2\n",
    "```\n",
    "- все решение должно полностью помещаться в функцию solution(смотри пример). Если вы хотите реализовать дополнительные функции - поместите их в область видимости soluition. Нельзя использовать дополнительные файлы.\n",
    "- не добавлять новые импорты и не использовать дополнительные библиотеки. В противном случае ноутбук не пройдёт проверку и получит `0` баллов\n",
    "- не добавлять аргументов в solution\n",
    "- писать код только между # CODE BEGIN и # CODE END\n",
    "- не менять код преподавателя\n",
    "- не добавлять новые ячейки\n",
    "- следить, чтобы не было warning - они автоматом фейлят задание\n",
    "- перед сдачей проверить, что весь ноутбук прогоняется от начала до конца и все тесты проходят\n",
    "- data_path должен браться из переменной окружения как в коде ниже\n",
    "- Код должен выполняться за разумное время - ограничение 20 мин на 4 CPU и 16 Gb RAM без GPU. Не нужно ставить огромное количество эпох.\n",
    "- Постарайтесь максимально зафиксировать сиды, чтобы не было сюрпризов во время автоматической проверки. В случае, если решение выдает разное качество при разных запусках, то в зачет идет то значение, которое получилось при автоматической проверке.\n",
    "\n",
    "\n",
    "В данном проекте вам возможно захочется подбирать гипер-параметры моделей. Писать код для подбора гипер-параметров, использовать optuna и т.п. рекомендуем в отдельном ноутбуке.\n",
    "\n",
    "Библиотеки implicit и lightfm не фиксируют random state при num_threads > 1. Если результат работы модели не сильно превышает  необходимый порог и рандом может опустить его ниже требуемого уровня, рекомендуем продолжить повышение качества модели: тюнинг гипер-параметров, подбор фичей, подбор метода обработки датасета"
   ]
  },
  {
   "cell_type": "code",
   "execution_count": 5,
   "id": "979b83c0",
   "metadata": {},
   "outputs": [
    {
     "name": "stdout",
     "output_type": "stream",
     "text": [
      "Collecting implicit==0.7.2\n",
      "  Downloading implicit-0.7.2.tar.gz (70 kB)\n",
      "  Installing build dependencies ... \u001b[?25ldone\n",
      "\u001b[?25h  Getting requirements to build wheel ... \u001b[?25ldone\n",
      "\u001b[?25h  Preparing metadata (pyproject.toml) ... \u001b[?25ldone\n",
      "\u001b[?25hCollecting rectools==0.17.0 (from rectools[all]==0.17.0)\n",
      "  Downloading rectools-0.17.0-py3-none-any.whl.metadata (19 kB)\n",
      "Collecting pandas==2.3.3\n",
      "  Downloading pandas-2.3.3-cp313-cp313-macosx_11_0_arm64.whl.metadata (91 kB)\n",
      "Collecting numpy==2.3.3\n",
      "  Downloading numpy-2.3.3-cp313-cp313-macosx_14_0_arm64.whl.metadata (62 kB)\n",
      "Collecting scipy==1.16.2\n",
      "  Using cached scipy-1.16.2-cp313-cp313-macosx_14_0_arm64.whl.metadata (62 kB)\n",
      "Collecting requests==2.32.5\n",
      "  Downloading requests-2.32.5-py3-none-any.whl.metadata (4.9 kB)\n",
      "Collecting catboost==1.2.8\n",
      "  Downloading catboost-1.2.8-cp313-cp313-macosx_11_0_universal2.whl.metadata (1.4 kB)\n",
      "Collecting scikit-learn==1.7.2\n",
      "  Downloading scikit_learn-1.7.2-cp313-cp313-macosx_12_0_arm64.whl.metadata (11 kB)\n",
      "Collecting threadpoolctl\n",
      "  Using cached threadpoolctl-3.6.0-py3-none-any.whl.metadata (13 kB)\n",
      "Collecting tqdm>=4.27 (from implicit==0.7.2)\n",
      "  Using cached tqdm-4.67.1-py3-none-any.whl.metadata (57 kB)\n",
      "Collecting attrs<24.0.0,>=19.1.0 (from rectools==0.17.0->rectools[all]==0.17.0)\n",
      "  Downloading attrs-23.2.0-py3-none-any.whl.metadata (9.5 kB)\n",
      "Collecting pydantic<3.0.0,>=2.8.2 (from rectools==0.17.0->rectools[all]==0.17.0)\n",
      "  Downloading pydantic-2.12.3-py3-none-any.whl.metadata (87 kB)\n",
      "Collecting pydantic-core<3.0.0,>=2.20.1 (from rectools==0.17.0->rectools[all]==0.17.0)\n",
      "  Downloading pydantic_core-2.41.4-cp313-cp313-macosx_11_0_arm64.whl.metadata (7.3 kB)\n",
      "Collecting typeguard<5.0.0,>=4.1.0 (from rectools==0.17.0->rectools[all]==0.17.0)\n",
      "  Downloading typeguard-4.4.4-py3-none-any.whl.metadata (3.3 kB)\n",
      "Collecting typing-extensions<5.0.0,>=4.12.2 (from rectools==0.17.0->rectools[all]==0.17.0)\n",
      "  Using cached typing_extensions-4.15.0-py3-none-any.whl.metadata (3.3 kB)\n",
      "Requirement already satisfied: python-dateutil>=2.8.2 in /Users/nspeganov/.pyenv/versions/3.13.0/envs/aaa/lib/python3.13/site-packages (from pandas==2.3.3) (2.9.0.post0)\n",
      "Collecting pytz>=2020.1 (from pandas==2.3.3)\n",
      "  Downloading pytz-2025.2-py2.py3-none-any.whl.metadata (22 kB)\n",
      "Collecting tzdata>=2022.7 (from pandas==2.3.3)\n",
      "  Downloading tzdata-2025.2-py2.py3-none-any.whl.metadata (1.4 kB)\n",
      "Collecting charset_normalizer<4,>=2 (from requests==2.32.5)\n",
      "  Downloading charset_normalizer-3.4.4-cp313-cp313-macosx_10_13_universal2.whl.metadata (37 kB)\n",
      "Collecting idna<4,>=2.5 (from requests==2.32.5)\n",
      "  Downloading idna-3.11-py3-none-any.whl.metadata (8.4 kB)\n",
      "Collecting urllib3<3,>=1.21.1 (from requests==2.32.5)\n",
      "  Using cached urllib3-2.5.0-py3-none-any.whl.metadata (6.5 kB)\n",
      "Collecting certifi>=2017.4.17 (from requests==2.32.5)\n",
      "  Downloading certifi-2025.10.5-py3-none-any.whl.metadata (2.5 kB)\n",
      "Collecting graphviz (from catboost==1.2.8)\n",
      "  Downloading graphviz-0.21-py3-none-any.whl.metadata (12 kB)\n",
      "Collecting matplotlib (from catboost==1.2.8)\n",
      "  Downloading matplotlib-3.10.7-cp313-cp313-macosx_11_0_arm64.whl.metadata (11 kB)\n",
      "Collecting plotly (from catboost==1.2.8)\n",
      "  Downloading plotly-6.3.1-py3-none-any.whl.metadata (8.5 kB)\n",
      "Requirement already satisfied: six in /Users/nspeganov/.pyenv/versions/3.13.0/envs/aaa/lib/python3.13/site-packages (from catboost==1.2.8) (1.17.0)\n",
      "Collecting joblib>=1.2.0 (from scikit-learn==1.7.2)\n",
      "  Downloading joblib-1.5.2-py3-none-any.whl.metadata (5.6 kB)\n",
      "Collecting ipywidgets<8.2,>=7.7 (from rectools[all]==0.17.0)\n",
      "  Downloading ipywidgets-8.1.7-py3-none-any.whl.metadata (2.4 kB)\n",
      "Collecting nbformat>=4.2.0 (from rectools[all]==0.17.0)\n",
      "  Downloading nbformat-5.10.4-py3-none-any.whl.metadata (3.6 kB)\n",
      "Collecting plotly (from catboost==1.2.8)\n",
      "  Using cached plotly-5.24.1-py3-none-any.whl.metadata (7.3 kB)\n",
      "Collecting pytorch-lightning<3.0.0,>=2.5.1 (from rectools[all]==0.17.0)\n",
      "  Downloading pytorch_lightning-2.5.5-py3-none-any.whl.metadata (20 kB)\n",
      "Collecting rectools-lightfm<2.0.0,>=1.17.3 (from rectools[all]==0.17.0)\n",
      "  Downloading rectools-lightfm-1.17.3.tar.gz (411 kB)\n",
      "  Installing build dependencies ... \u001b[?25ldone\n",
      "\u001b[?25h  Getting requirements to build wheel ... \u001b[?25ldone\n",
      "\u001b[?25h  Preparing metadata (pyproject.toml) ... \u001b[?25ldone\n",
      "\u001b[?25hCollecting torch<3.0.0,>=2.6.0 (from rectools[all]==0.17.0)\n",
      "  Downloading torch-2.9.0-cp313-none-macosx_11_0_arm64.whl.metadata (30 kB)\n",
      "Requirement already satisfied: comm>=0.1.3 in /Users/nspeganov/.pyenv/versions/3.13.0/envs/aaa/lib/python3.13/site-packages (from ipywidgets<8.2,>=7.7->rectools[all]==0.17.0) (0.2.3)\n",
      "Requirement already satisfied: ipython>=6.1.0 in /Users/nspeganov/.pyenv/versions/3.13.0/envs/aaa/lib/python3.13/site-packages (from ipywidgets<8.2,>=7.7->rectools[all]==0.17.0) (9.6.0)\n",
      "Requirement already satisfied: traitlets>=4.3.1 in /Users/nspeganov/.pyenv/versions/3.13.0/envs/aaa/lib/python3.13/site-packages (from ipywidgets<8.2,>=7.7->rectools[all]==0.17.0) (5.14.3)\n",
      "Collecting widgetsnbextension~=4.0.14 (from ipywidgets<8.2,>=7.7->rectools[all]==0.17.0)\n",
      "  Downloading widgetsnbextension-4.0.14-py3-none-any.whl.metadata (1.6 kB)\n",
      "Collecting jupyterlab_widgets~=3.0.15 (from ipywidgets<8.2,>=7.7->rectools[all]==0.17.0)\n",
      "  Downloading jupyterlab_widgets-3.0.15-py3-none-any.whl.metadata (20 kB)\n",
      "Collecting fastjsonschema>=2.15 (from nbformat>=4.2.0->rectools[all]==0.17.0)\n",
      "  Downloading fastjsonschema-2.21.2-py3-none-any.whl.metadata (2.3 kB)\n",
      "Collecting jsonschema>=2.6 (from nbformat>=4.2.0->rectools[all]==0.17.0)\n",
      "  Downloading jsonschema-4.25.1-py3-none-any.whl.metadata (7.6 kB)\n",
      "Requirement already satisfied: jupyter-core!=5.0.*,>=4.12 in /Users/nspeganov/.pyenv/versions/3.13.0/envs/aaa/lib/python3.13/site-packages (from nbformat>=4.2.0->rectools[all]==0.17.0) (5.9.1)\n",
      "Collecting tenacity>=6.2.0 (from plotly->catboost==1.2.8)\n",
      "  Downloading tenacity-9.1.2-py3-none-any.whl.metadata (1.2 kB)\n",
      "Requirement already satisfied: packaging in /Users/nspeganov/.pyenv/versions/3.13.0/envs/aaa/lib/python3.13/site-packages (from plotly->catboost==1.2.8) (25.0)\n",
      "Collecting annotated-types>=0.6.0 (from pydantic<3.0.0,>=2.8.2->rectools==0.17.0->rectools[all]==0.17.0)\n",
      "  Using cached annotated_types-0.7.0-py3-none-any.whl.metadata (15 kB)\n",
      "Collecting typing-inspection>=0.4.2 (from pydantic<3.0.0,>=2.8.2->rectools==0.17.0->rectools[all]==0.17.0)\n",
      "  Downloading typing_inspection-0.4.2-py3-none-any.whl.metadata (2.6 kB)\n",
      "Collecting PyYAML>5.4 (from pytorch-lightning<3.0.0,>=2.5.1->rectools[all]==0.17.0)\n",
      "  Downloading pyyaml-6.0.3-cp313-cp313-macosx_11_0_arm64.whl.metadata (2.4 kB)\n",
      "Collecting fsspec>=2022.5.0 (from fsspec[http]>=2022.5.0->pytorch-lightning<3.0.0,>=2.5.1->rectools[all]==0.17.0)\n",
      "  Downloading fsspec-2025.9.0-py3-none-any.whl.metadata (10 kB)\n",
      "Collecting torchmetrics>0.7.0 (from pytorch-lightning<3.0.0,>=2.5.1->rectools[all]==0.17.0)\n",
      "  Downloading torchmetrics-1.8.2-py3-none-any.whl.metadata (22 kB)\n",
      "Collecting lightning-utilities>=0.10.0 (from pytorch-lightning<3.0.0,>=2.5.1->rectools[all]==0.17.0)\n",
      "  Downloading lightning_utilities-0.15.2-py3-none-any.whl.metadata (5.7 kB)\n",
      "Collecting filelock (from torch<3.0.0,>=2.6.0->rectools[all]==0.17.0)\n",
      "  Downloading filelock-3.20.0-py3-none-any.whl.metadata (2.1 kB)\n",
      "Collecting setuptools (from torch<3.0.0,>=2.6.0->rectools[all]==0.17.0)\n",
      "  Using cached setuptools-80.9.0-py3-none-any.whl.metadata (6.6 kB)\n",
      "Collecting sympy>=1.13.3 (from torch<3.0.0,>=2.6.0->rectools[all]==0.17.0)\n",
      "  Using cached sympy-1.14.0-py3-none-any.whl.metadata (12 kB)\n",
      "Collecting networkx>=2.5.1 (from torch<3.0.0,>=2.6.0->rectools[all]==0.17.0)\n",
      "  Using cached networkx-3.5-py3-none-any.whl.metadata (6.3 kB)\n",
      "Collecting jinja2 (from torch<3.0.0,>=2.6.0->rectools[all]==0.17.0)\n",
      "  Using cached jinja2-3.1.6-py3-none-any.whl.metadata (2.9 kB)\n",
      "Collecting contourpy>=1.0.1 (from matplotlib->catboost==1.2.8)\n",
      "  Downloading contourpy-1.3.3-cp313-cp313-macosx_11_0_arm64.whl.metadata (5.5 kB)\n",
      "Collecting cycler>=0.10 (from matplotlib->catboost==1.2.8)\n",
      "  Using cached cycler-0.12.1-py3-none-any.whl.metadata (3.8 kB)\n",
      "Collecting fonttools>=4.22.0 (from matplotlib->catboost==1.2.8)\n",
      "  Downloading fonttools-4.60.1-cp313-cp313-macosx_10_13_universal2.whl.metadata (112 kB)\n",
      "Collecting kiwisolver>=1.3.1 (from matplotlib->catboost==1.2.8)\n",
      "  Downloading kiwisolver-1.4.9-cp313-cp313-macosx_11_0_arm64.whl.metadata (6.3 kB)\n",
      "Collecting pillow>=8 (from matplotlib->catboost==1.2.8)\n",
      "  Downloading pillow-12.0.0-cp313-cp313-macosx_11_0_arm64.whl.metadata (8.8 kB)\n",
      "Collecting pyparsing>=3 (from matplotlib->catboost==1.2.8)\n",
      "  Downloading pyparsing-3.2.5-py3-none-any.whl.metadata (5.0 kB)\n",
      "Collecting aiohttp!=4.0.0a0,!=4.0.0a1 (from fsspec[http]>=2022.5.0->pytorch-lightning<3.0.0,>=2.5.1->rectools[all]==0.17.0)\n",
      "  Downloading aiohttp-3.13.1-cp313-cp313-macosx_11_0_arm64.whl.metadata (8.1 kB)\n",
      "Requirement already satisfied: decorator in /Users/nspeganov/.pyenv/versions/3.13.0/envs/aaa/lib/python3.13/site-packages (from ipython>=6.1.0->ipywidgets<8.2,>=7.7->rectools[all]==0.17.0) (5.2.1)\n",
      "Requirement already satisfied: ipython-pygments-lexers in /Users/nspeganov/.pyenv/versions/3.13.0/envs/aaa/lib/python3.13/site-packages (from ipython>=6.1.0->ipywidgets<8.2,>=7.7->rectools[all]==0.17.0) (1.1.1)\n",
      "Requirement already satisfied: jedi>=0.16 in /Users/nspeganov/.pyenv/versions/3.13.0/envs/aaa/lib/python3.13/site-packages (from ipython>=6.1.0->ipywidgets<8.2,>=7.7->rectools[all]==0.17.0) (0.19.2)\n",
      "Requirement already satisfied: matplotlib-inline in /Users/nspeganov/.pyenv/versions/3.13.0/envs/aaa/lib/python3.13/site-packages (from ipython>=6.1.0->ipywidgets<8.2,>=7.7->rectools[all]==0.17.0) (0.2.1)\n",
      "Requirement already satisfied: pexpect>4.3 in /Users/nspeganov/.pyenv/versions/3.13.0/envs/aaa/lib/python3.13/site-packages (from ipython>=6.1.0->ipywidgets<8.2,>=7.7->rectools[all]==0.17.0) (4.9.0)\n",
      "Requirement already satisfied: prompt_toolkit<3.1.0,>=3.0.41 in /Users/nspeganov/.pyenv/versions/3.13.0/envs/aaa/lib/python3.13/site-packages (from ipython>=6.1.0->ipywidgets<8.2,>=7.7->rectools[all]==0.17.0) (3.0.52)\n",
      "Requirement already satisfied: pygments>=2.4.0 in /Users/nspeganov/.pyenv/versions/3.13.0/envs/aaa/lib/python3.13/site-packages (from ipython>=6.1.0->ipywidgets<8.2,>=7.7->rectools[all]==0.17.0) (2.19.2)\n",
      "Requirement already satisfied: stack_data in /Users/nspeganov/.pyenv/versions/3.13.0/envs/aaa/lib/python3.13/site-packages (from ipython>=6.1.0->ipywidgets<8.2,>=7.7->rectools[all]==0.17.0) (0.6.3)\n",
      "Collecting jsonschema-specifications>=2023.03.6 (from jsonschema>=2.6->nbformat>=4.2.0->rectools[all]==0.17.0)\n",
      "  Downloading jsonschema_specifications-2025.9.1-py3-none-any.whl.metadata (2.9 kB)\n",
      "Collecting referencing>=0.28.4 (from jsonschema>=2.6->nbformat>=4.2.0->rectools[all]==0.17.0)\n",
      "  Downloading referencing-0.37.0-py3-none-any.whl.metadata (2.8 kB)\n",
      "Collecting rpds-py>=0.7.1 (from jsonschema>=2.6->nbformat>=4.2.0->rectools[all]==0.17.0)\n",
      "  Downloading rpds_py-0.28.0-cp313-cp313-macosx_11_0_arm64.whl.metadata (4.1 kB)\n",
      "Requirement already satisfied: platformdirs>=2.5 in /Users/nspeganov/.pyenv/versions/3.13.0/envs/aaa/lib/python3.13/site-packages (from jupyter-core!=5.0.*,>=4.12->nbformat>=4.2.0->rectools[all]==0.17.0) (4.5.0)\n",
      "Collecting mpmath<1.4,>=1.1.0 (from sympy>=1.13.3->torch<3.0.0,>=2.6.0->rectools[all]==0.17.0)\n",
      "  Using cached mpmath-1.3.0-py3-none-any.whl.metadata (8.6 kB)\n",
      "Collecting MarkupSafe>=2.0 (from jinja2->torch<3.0.0,>=2.6.0->rectools[all]==0.17.0)\n",
      "  Downloading markupsafe-3.0.3-cp313-cp313-macosx_11_0_arm64.whl.metadata (2.7 kB)\n",
      "Collecting aiohappyeyeballs>=2.5.0 (from aiohttp!=4.0.0a0,!=4.0.0a1->fsspec[http]>=2022.5.0->pytorch-lightning<3.0.0,>=2.5.1->rectools[all]==0.17.0)\n",
      "  Using cached aiohappyeyeballs-2.6.1-py3-none-any.whl.metadata (5.9 kB)\n",
      "Collecting aiosignal>=1.4.0 (from aiohttp!=4.0.0a0,!=4.0.0a1->fsspec[http]>=2022.5.0->pytorch-lightning<3.0.0,>=2.5.1->rectools[all]==0.17.0)\n",
      "  Using cached aiosignal-1.4.0-py3-none-any.whl.metadata (3.7 kB)\n",
      "Collecting frozenlist>=1.1.1 (from aiohttp!=4.0.0a0,!=4.0.0a1->fsspec[http]>=2022.5.0->pytorch-lightning<3.0.0,>=2.5.1->rectools[all]==0.17.0)\n",
      "  Downloading frozenlist-1.8.0-cp313-cp313-macosx_11_0_arm64.whl.metadata (20 kB)\n",
      "Collecting multidict<7.0,>=4.5 (from aiohttp!=4.0.0a0,!=4.0.0a1->fsspec[http]>=2022.5.0->pytorch-lightning<3.0.0,>=2.5.1->rectools[all]==0.17.0)\n",
      "  Downloading multidict-6.7.0-cp313-cp313-macosx_11_0_arm64.whl.metadata (5.3 kB)\n",
      "Collecting propcache>=0.2.0 (from aiohttp!=4.0.0a0,!=4.0.0a1->fsspec[http]>=2022.5.0->pytorch-lightning<3.0.0,>=2.5.1->rectools[all]==0.17.0)\n",
      "  Downloading propcache-0.4.1-cp313-cp313-macosx_11_0_arm64.whl.metadata (13 kB)\n",
      "Collecting yarl<2.0,>=1.17.0 (from aiohttp!=4.0.0a0,!=4.0.0a1->fsspec[http]>=2022.5.0->pytorch-lightning<3.0.0,>=2.5.1->rectools[all]==0.17.0)\n",
      "  Downloading yarl-1.22.0-cp313-cp313-macosx_11_0_arm64.whl.metadata (75 kB)\n",
      "Requirement already satisfied: parso<0.9.0,>=0.8.4 in /Users/nspeganov/.pyenv/versions/3.13.0/envs/aaa/lib/python3.13/site-packages (from jedi>=0.16->ipython>=6.1.0->ipywidgets<8.2,>=7.7->rectools[all]==0.17.0) (0.8.5)\n",
      "Requirement already satisfied: ptyprocess>=0.5 in /Users/nspeganov/.pyenv/versions/3.13.0/envs/aaa/lib/python3.13/site-packages (from pexpect>4.3->ipython>=6.1.0->ipywidgets<8.2,>=7.7->rectools[all]==0.17.0) (0.7.0)\n",
      "Requirement already satisfied: wcwidth in /Users/nspeganov/.pyenv/versions/3.13.0/envs/aaa/lib/python3.13/site-packages (from prompt_toolkit<3.1.0,>=3.0.41->ipython>=6.1.0->ipywidgets<8.2,>=7.7->rectools[all]==0.17.0) (0.2.14)\n",
      "Requirement already satisfied: executing>=1.2.0 in /Users/nspeganov/.pyenv/versions/3.13.0/envs/aaa/lib/python3.13/site-packages (from stack_data->ipython>=6.1.0->ipywidgets<8.2,>=7.7->rectools[all]==0.17.0) (2.2.1)\n",
      "Requirement already satisfied: asttokens>=2.1.0 in /Users/nspeganov/.pyenv/versions/3.13.0/envs/aaa/lib/python3.13/site-packages (from stack_data->ipython>=6.1.0->ipywidgets<8.2,>=7.7->rectools[all]==0.17.0) (3.0.0)\n",
      "Requirement already satisfied: pure-eval in /Users/nspeganov/.pyenv/versions/3.13.0/envs/aaa/lib/python3.13/site-packages (from stack_data->ipython>=6.1.0->ipywidgets<8.2,>=7.7->rectools[all]==0.17.0) (0.2.3)\n",
      "Downloading rectools-0.17.0-py3-none-any.whl (223 kB)\n",
      "Downloading pandas-2.3.3-cp313-cp313-macosx_11_0_arm64.whl (10.7 MB)\n",
      "\u001b[2K   \u001b[90m━━━━━━━━━━━━━━━━━━━━━━━━━━━━━━━━━━━━━━━━\u001b[0m \u001b[32m10.7/10.7 MB\u001b[0m \u001b[31m9.0 MB/s\u001b[0m eta \u001b[36m0:00:00\u001b[0m \u001b[36m0:00:01\u001b[0m\n",
      "\u001b[?25hDownloading numpy-2.3.3-cp313-cp313-macosx_14_0_arm64.whl (5.1 MB)\n",
      "\u001b[2K   \u001b[90m━━━━━━━━━━━━━━━━━━━━━━━━━━━━━━━━━━━━━━━━\u001b[0m \u001b[32m5.1/5.1 MB\u001b[0m \u001b[31m11.7 MB/s\u001b[0m eta \u001b[36m0:00:00\u001b[0ma \u001b[36m0:00:01\u001b[0m\n",
      "\u001b[?25hUsing cached scipy-1.16.2-cp313-cp313-macosx_14_0_arm64.whl (20.9 MB)\n",
      "Downloading requests-2.32.5-py3-none-any.whl (64 kB)\n",
      "Downloading catboost-1.2.8-cp313-cp313-macosx_11_0_universal2.whl (27.8 MB)\n",
      "\u001b[2K   \u001b[90m━━━━━━━━━━━━━━━━━━━━━━━━━━━━━━━━━━━━━━━━\u001b[0m \u001b[32m27.8/27.8 MB\u001b[0m \u001b[31m12.1 MB/s\u001b[0m eta \u001b[36m0:00:00\u001b[0m00:01\u001b[0m00:01\u001b[0m\n",
      "\u001b[?25hDownloading scikit_learn-1.7.2-cp313-cp313-macosx_12_0_arm64.whl (8.6 MB)\n",
      "\u001b[2K   \u001b[90m━━━━━━━━━━━━━━━━━━━━━━━━━━━━━━━━━━━━━━━━\u001b[0m \u001b[32m8.6/8.6 MB\u001b[0m \u001b[31m12.2 MB/s\u001b[0m eta \u001b[36m0:00:00\u001b[0ma \u001b[36m0:00:01\u001b[0m\n",
      "\u001b[?25hUsing cached threadpoolctl-3.6.0-py3-none-any.whl (18 kB)\n",
      "Downloading attrs-23.2.0-py3-none-any.whl (60 kB)\n",
      "Downloading certifi-2025.10.5-py3-none-any.whl (163 kB)\n",
      "Downloading charset_normalizer-3.4.4-cp313-cp313-macosx_10_13_universal2.whl (208 kB)\n",
      "Downloading idna-3.11-py3-none-any.whl (71 kB)\n",
      "Downloading ipywidgets-8.1.7-py3-none-any.whl (139 kB)\n",
      "Downloading joblib-1.5.2-py3-none-any.whl (308 kB)\n",
      "Downloading nbformat-5.10.4-py3-none-any.whl (78 kB)\n",
      "Using cached plotly-5.24.1-py3-none-any.whl (19.1 MB)\n",
      "Downloading pydantic-2.12.3-py3-none-any.whl (462 kB)\n",
      "Downloading pydantic_core-2.41.4-cp313-cp313-macosx_11_0_arm64.whl (1.9 MB)\n",
      "\u001b[2K   \u001b[90m━━━━━━━━━━━━━━━━━━━━━━━━━━━━━━━━━━━━━━━━\u001b[0m \u001b[32m1.9/1.9 MB\u001b[0m \u001b[31m11.7 MB/s\u001b[0m eta \u001b[36m0:00:00\u001b[0m\n",
      "\u001b[?25hDownloading pytorch_lightning-2.5.5-py3-none-any.whl (832 kB)\n",
      "\u001b[2K   \u001b[90m━━━━━━━━━━━━━━━━━━━━━━━━━━━━━━━━━━━━━━━━\u001b[0m \u001b[32m832.4/832.4 kB\u001b[0m \u001b[31m11.2 MB/s\u001b[0m eta \u001b[36m0:00:00\u001b[0m\n",
      "\u001b[?25hDownloading pytz-2025.2-py2.py3-none-any.whl (509 kB)\n",
      "Downloading torch-2.9.0-cp313-none-macosx_11_0_arm64.whl (74.5 MB)\n",
      "\u001b[2K   \u001b[90m━━━━━━━━━━━━━━━━━━━━━━━━━━━━━━━━━━━━━━━━\u001b[0m \u001b[32m74.5/74.5 MB\u001b[0m \u001b[31m12.0 MB/s\u001b[0m eta \u001b[36m0:00:00\u001b[0m00:01\u001b[0m00:01\u001b[0m\n",
      "\u001b[?25hUsing cached tqdm-4.67.1-py3-none-any.whl (78 kB)\n",
      "Downloading typeguard-4.4.4-py3-none-any.whl (34 kB)\n",
      "Using cached typing_extensions-4.15.0-py3-none-any.whl (44 kB)\n",
      "Downloading tzdata-2025.2-py2.py3-none-any.whl (347 kB)\n",
      "Using cached urllib3-2.5.0-py3-none-any.whl (129 kB)\n",
      "Downloading graphviz-0.21-py3-none-any.whl (47 kB)\n",
      "Downloading matplotlib-3.10.7-cp313-cp313-macosx_11_0_arm64.whl (8.1 MB)\n",
      "\u001b[2K   \u001b[90m━━━━━━━━━━━━━━━━━━━━━━━━━━━━━━━━━━━━━━━━\u001b[0m \u001b[32m8.1/8.1 MB\u001b[0m \u001b[31m11.5 MB/s\u001b[0m eta \u001b[36m0:00:00\u001b[0ma \u001b[36m0:00:01\u001b[0m\n",
      "\u001b[?25hUsing cached annotated_types-0.7.0-py3-none-any.whl (13 kB)\n",
      "Downloading contourpy-1.3.3-cp313-cp313-macosx_11_0_arm64.whl (274 kB)\n",
      "Using cached cycler-0.12.1-py3-none-any.whl (8.3 kB)\n",
      "Downloading fastjsonschema-2.21.2-py3-none-any.whl (24 kB)\n",
      "Downloading fonttools-4.60.1-cp313-cp313-macosx_10_13_universal2.whl (2.8 MB)\n",
      "\u001b[2K   \u001b[90m━━━━━━━━━━━━━━━━━━━━━━━━━━━━━━━━━━━━━━━━\u001b[0m \u001b[32m2.8/2.8 MB\u001b[0m \u001b[31m11.9 MB/s\u001b[0m eta \u001b[36m0:00:00\u001b[0ma \u001b[36m0:00:01\u001b[0m\n",
      "\u001b[?25hDownloading fsspec-2025.9.0-py3-none-any.whl (199 kB)\n",
      "Downloading jsonschema-4.25.1-py3-none-any.whl (90 kB)\n",
      "Downloading jupyterlab_widgets-3.0.15-py3-none-any.whl (216 kB)\n",
      "Downloading kiwisolver-1.4.9-cp313-cp313-macosx_11_0_arm64.whl (64 kB)\n",
      "Downloading lightning_utilities-0.15.2-py3-none-any.whl (29 kB)\n",
      "Using cached networkx-3.5-py3-none-any.whl (2.0 MB)\n",
      "Downloading pillow-12.0.0-cp313-cp313-macosx_11_0_arm64.whl (4.7 MB)\n",
      "\u001b[2K   \u001b[90m━━━━━━━━━━━━━━━━━━━━━━━━━━━━━━━━━━━━━━━━\u001b[0m \u001b[32m4.7/4.7 MB\u001b[0m \u001b[31m11.8 MB/s\u001b[0m eta \u001b[36m0:00:00\u001b[0ma \u001b[36m0:00:01\u001b[0m\n",
      "\u001b[?25hDownloading pyparsing-3.2.5-py3-none-any.whl (113 kB)\n",
      "Downloading pyyaml-6.0.3-cp313-cp313-macosx_11_0_arm64.whl (173 kB)\n",
      "Using cached sympy-1.14.0-py3-none-any.whl (6.3 MB)\n",
      "Downloading tenacity-9.1.2-py3-none-any.whl (28 kB)\n",
      "Downloading torchmetrics-1.8.2-py3-none-any.whl (983 kB)\n",
      "\u001b[2K   \u001b[90m━━━━━━━━━━━━━━━━━━━━━━━━━━━━━━━━━━━━━━━━\u001b[0m \u001b[32m983.2/983.2 kB\u001b[0m \u001b[31m11.2 MB/s\u001b[0m eta \u001b[36m0:00:00\u001b[0m\n",
      "\u001b[?25hDownloading typing_inspection-0.4.2-py3-none-any.whl (14 kB)\n",
      "Downloading widgetsnbextension-4.0.14-py3-none-any.whl (2.2 MB)\n",
      "\u001b[2K   \u001b[90m━━━━━━━━━━━━━━━━━━━━━━━━━━━━━━━━━━━━━━━━\u001b[0m \u001b[32m2.2/2.2 MB\u001b[0m \u001b[31m11.3 MB/s\u001b[0m eta \u001b[36m0:00:00\u001b[0m\n",
      "\u001b[?25hDownloading filelock-3.20.0-py3-none-any.whl (16 kB)\n",
      "Using cached jinja2-3.1.6-py3-none-any.whl (134 kB)\n",
      "Using cached setuptools-80.9.0-py3-none-any.whl (1.2 MB)\n",
      "Downloading aiohttp-3.13.1-cp313-cp313-macosx_11_0_arm64.whl (487 kB)\n",
      "Downloading jsonschema_specifications-2025.9.1-py3-none-any.whl (18 kB)\n",
      "Downloading markupsafe-3.0.3-cp313-cp313-macosx_11_0_arm64.whl (12 kB)\n",
      "Using cached mpmath-1.3.0-py3-none-any.whl (536 kB)\n",
      "Downloading referencing-0.37.0-py3-none-any.whl (26 kB)\n",
      "Downloading rpds_py-0.28.0-cp313-cp313-macosx_11_0_arm64.whl (348 kB)\n",
      "Using cached aiohappyeyeballs-2.6.1-py3-none-any.whl (15 kB)\n",
      "Using cached aiosignal-1.4.0-py3-none-any.whl (7.5 kB)\n",
      "Downloading frozenlist-1.8.0-cp313-cp313-macosx_11_0_arm64.whl (49 kB)\n",
      "Downloading multidict-6.7.0-cp313-cp313-macosx_11_0_arm64.whl (43 kB)\n",
      "Downloading propcache-0.4.1-cp313-cp313-macosx_11_0_arm64.whl (46 kB)\n",
      "Downloading yarl-1.22.0-cp313-cp313-macosx_11_0_arm64.whl (93 kB)\n",
      "Building wheels for collected packages: implicit, rectools-lightfm\n",
      "  Building wheel for implicit (pyproject.toml) ... \u001b[?25ldone\n",
      "\u001b[?25h  Created wheel for implicit: filename=implicit-0.7.2-cp313-cp313-macosx_14_0_arm64.whl size=686971 sha256=5ce5a0ad571b96185a192cd937491292a813239da5adc185b26873b12aff9128\n",
      "  Stored in directory: /Users/nspeganov/Library/Caches/pip/wheels/47/03/63/aac479f007af9890debd896f3de73a26609d34914054a7b071\n",
      "  Building wheel for rectools-lightfm (pyproject.toml) ... \u001b[?25ldone\n",
      "\u001b[?25h  Created wheel for rectools-lightfm: filename=rectools_lightfm-1.17.3-cp313-cp313-macosx_14_0_arm64.whl size=535054 sha256=2e92343446b3ff8b7522027b39c53004a8497ff44d1a19c37134558f0a207bb0\n",
      "  Stored in directory: /Users/nspeganov/Library/Caches/pip/wheels/0a/5a/1d/01031f7bb3e109468568c584bcd429227dd0db204d013c5fcf\n",
      "Successfully built implicit rectools-lightfm\n",
      "Installing collected packages: pytz, mpmath, fastjsonschema, widgetsnbextension, urllib3, tzdata, typing-extensions, tqdm, threadpoolctl, tenacity, sympy, setuptools, rpds-py, PyYAML, pyparsing, propcache, pillow, numpy, networkx, multidict, MarkupSafe, kiwisolver, jupyterlab_widgets, joblib, idna, graphviz, fsspec, frozenlist, fonttools, filelock, cycler, charset_normalizer, certifi, attrs, annotated-types, aiohappyeyeballs, yarl, typing-inspection, typeguard, scipy, requests, referencing, pydantic-core, plotly, pandas, lightning-utilities, jinja2, contourpy, aiosignal, torch, scikit-learn, pydantic, matplotlib, jsonschema-specifications, ipywidgets, implicit, aiohttp, torchmetrics, rectools-lightfm, rectools, jsonschema, catboost, pytorch-lightning, nbformat\n",
      "Successfully installed MarkupSafe-3.0.3 PyYAML-6.0.3 aiohappyeyeballs-2.6.1 aiohttp-3.13.1 aiosignal-1.4.0 annotated-types-0.7.0 attrs-23.2.0 catboost-1.2.8 certifi-2025.10.5 charset_normalizer-3.4.4 contourpy-1.3.3 cycler-0.12.1 fastjsonschema-2.21.2 filelock-3.20.0 fonttools-4.60.1 frozenlist-1.8.0 fsspec-2025.9.0 graphviz-0.21 idna-3.11 implicit-0.7.2 ipywidgets-8.1.7 jinja2-3.1.6 joblib-1.5.2 jsonschema-4.25.1 jsonschema-specifications-2025.9.1 jupyterlab_widgets-3.0.15 kiwisolver-1.4.9 lightning-utilities-0.15.2 matplotlib-3.10.7 mpmath-1.3.0 multidict-6.7.0 nbformat-5.10.4 networkx-3.5 numpy-2.3.3 pandas-2.3.3 pillow-12.0.0 plotly-5.24.1 propcache-0.4.1 pydantic-2.12.3 pydantic-core-2.41.4 pyparsing-3.2.5 pytorch-lightning-2.5.5 pytz-2025.2 rectools-0.17.0 rectools-lightfm-1.17.3 referencing-0.37.0 requests-2.32.5 rpds-py-0.28.0 scikit-learn-1.7.2 scipy-1.16.2 setuptools-80.9.0 sympy-1.14.0 tenacity-9.1.2 threadpoolctl-3.6.0 torch-2.9.0 torchmetrics-1.8.2 tqdm-4.67.1 typeguard-4.4.4 typing-extensions-4.15.0 typing-inspection-0.4.2 tzdata-2025.2 urllib3-2.5.0 widgetsnbextension-4.0.14 yarl-1.22.0\n",
      "\n",
      "\u001b[1m[\u001b[0m\u001b[34;49mnotice\u001b[0m\u001b[1;39;49m]\u001b[0m\u001b[39;49m A new release of pip is available: \u001b[0m\u001b[31;49m24.2\u001b[0m\u001b[39;49m -> \u001b[0m\u001b[32;49m25.2\u001b[0m\n",
      "\u001b[1m[\u001b[0m\u001b[34;49mnotice\u001b[0m\u001b[1;39;49m]\u001b[0m\u001b[39;49m To update, run: \u001b[0m\u001b[32;49mpip install --upgrade pip\u001b[0m\n",
      "Note: you may need to restart the kernel to use updated packages.\n"
     ]
    }
   ],
   "source": [
    "# Установка всех необходимых библиотек (точные версии из требований проекта)\n",
    "# ВНИМАНИЕ: Перед финальной сдачей удалите эту ячейку (правило: не добавлять новые ячейки)\n",
    "%pip install implicit==0.7.2 \"rectools[all]==0.17.0\" pandas==2.3.3 numpy==2.3.3 scipy==1.16.2 requests==2.32.5 catboost==1.2.8 scikit-learn==1.7.2 threadpoolctl\n"
   ]
  },
  {
   "cell_type": "markdown",
   "id": "e77c2daf",
   "metadata": {},
   "source": [
    "# Задание"
   ]
  },
  {
   "cell_type": "markdown",
   "id": "5661b22c",
   "metadata": {},
   "source": [
    "Вам предлагается реализовать рекомендательную систему для фильмов KION.\n",
    "Решение должно быть полностью упаковано в функцию solution. Качество будет проверяться с помощью метрики MAP@10 на отложенной неделе. Итоговый бал определеятся функцией scorer - вы можете посмотреть его сразу, но если модель не подразумевает фиксирование random state, то после прогона автоматической системой результат может немного отличаться.\n",
    "\n",
    "В качестве примера реализована базовая рекомендательная система на основе ease. Ваша задача - улучшить эту систему.\n",
    "\n",
    "Чтобы решение отрабатывало быстрее будем использовать 10% от общего числа пользователей.\n",
    "\n",
    "В случае, если в вашем решении будет найден Hardcode элементов тестового датафрейма - работа будет аннулирована.\n",
    "\n",
    "Напоминаю, что для зачета по курсу нужно набрать в сумме с доп баллами и первым дз 60 баллов.\n",
    "\n",
    "Успехов!"
   ]
  },
  {
   "cell_type": "markdown",
   "id": "34c3166e",
   "metadata": {},
   "source": [
    "Подсказки:\n",
    "- Можно посмотреть документацию rectools\n",
    "- Можно поссмотреть ноутбуки с семинаров и предыдущую версию проекта\n",
    "- Не стесняйтесь добавлять фичи в ранжирование\n",
    "- Скорее всего вам понадобятся как отбор кандидатов, так и ранжирование"
   ]
  },
  {
   "cell_type": "markdown",
   "id": "4d49cde7-2156-468a-b3e2-e8467e241cf8",
   "metadata": {
    "nbgrader": {
     "grade": false,
     "grade_id": "cell-1891eaa3c13c8609",
     "locked": true,
     "schema_version": 3,
     "solution": false,
     "task": false
    }
   },
   "source": [
    "## Импорты и данные"
   ]
  },
  {
   "cell_type": "code",
   "execution_count": 6,
   "id": "724a1ce6-1a8d-4f7a-95df-17021d831dfc",
   "metadata": {
    "nbgrader": {
     "grade": false,
     "grade_id": "cell-6e865769efae1be6",
     "locked": true,
     "schema_version": 3,
     "solution": false,
     "task": false
    }
   },
   "outputs": [
    {
     "name": "stdout",
     "output_type": "stream",
     "text": [
      "Python 3.13.0\n"
     ]
    }
   ],
   "source": [
    "!python -V"
   ]
  },
  {
   "cell_type": "code",
   "execution_count": 7,
   "id": "b118efea-a833-402f-9048-562d79dcea42",
   "metadata": {
    "nbgrader": {
     "grade": false,
     "grade_id": "cell-49e3b781726cecc9",
     "locked": true,
     "schema_version": 3,
     "solution": false,
     "task": false
    }
   },
   "outputs": [
    {
     "name": "stdout",
     "output_type": "stream",
     "text": [
      "0.7.2\n",
      "0.17.0\n",
      "2.3.3\n",
      "2.3.3\n",
      "1.16.2\n",
      "2.32.5\n",
      "1.2.8\n",
      "1.7.2\n"
     ]
    }
   ],
   "source": [
    "# Убедитесь, что вы не добавляете новые импорты в ноутбук. Решение должно быть ограничено данными библиотеками\n",
    "import os\n",
    "os.environ[\"PYTORCH_ENABLE_MPS_FALLBACK\"] = \"1\"\n",
    "\n",
    "import warnings\n",
    "warnings.simplefilter(\"ignore\")\n",
    "\n",
    "import implicit\n",
    "import rectools\n",
    "import pandas as pd\n",
    "import numpy as np\n",
    "import scipy\n",
    "import requests\n",
    "import catboost\n",
    "import sklearn\n",
    "\n",
    "from rectools import models\n",
    "from rectools import dataset\n",
    "from rectools import metrics\n",
    "\n",
    "print(implicit.__version__)\n",
    "print(rectools.__version__)\n",
    "print(pd.__version__)\n",
    "print(np.__version__)\n",
    "print(scipy.__version__)\n",
    "print(requests.__version__)\n",
    "print(catboost.__version__)\n",
    "print(sklearn.__version__)"
   ]
  },
  {
   "cell_type": "code",
   "execution_count": 8,
   "id": "e3591f25-aedf-42b5-8b65-1f02e51d3020",
   "metadata": {
    "nbgrader": {
     "grade": false,
     "grade_id": "cell-1ebdc35957207757",
     "locked": true,
     "schema_version": 3,
     "solution": false,
     "task": false
    }
   },
   "outputs": [
    {
     "data": {
      "text/plain": [
       "<threadpoolctl.threadpool_limits at 0x30af7d6a0>"
      ]
     },
     "execution_count": 8,
     "metadata": {},
     "output_type": "execute_result"
    }
   ],
   "source": [
    "import os.path\n",
    "\n",
    "# For implicit ALS\n",
    "import threadpoolctl\n",
    "os.environ[\"OPENBLAS_NUM_THREADS\"] = \"1\"\n",
    "threadpoolctl.threadpool_limits(1, \"blas\")"
   ]
  },
  {
   "cell_type": "markdown",
   "id": "0265ea46-e840-452d-b43b-343cbb7eb160",
   "metadata": {
    "nbgrader": {
     "grade": false,
     "grade_id": "cell-42bc3babcb8ca15b",
     "locked": true,
     "schema_version": 3,
     "solution": false,
     "task": false
    }
   },
   "source": [
    "Если у вас нет данных, то используйте закомментированный код"
   ]
  },
  {
   "cell_type": "code",
   "execution_count": 9,
   "id": "f385743a-3642-4152-82bd-e4eca87130bd",
   "metadata": {},
   "outputs": [],
   "source": [
    "# from tqdm.auto import tqdm\n",
    "# import zipfile as zf\n",
    "\n",
    "# url = 'https://github.com/irsafilo/KION_DATASET/raw/f69775be31fa5779907cf0a92ddedb70037fb5ae/data_original.zip'\n",
    "\n",
    "# req = requests.get(url, stream=True)\n",
    "\n",
    "# with open('kion.zip', 'wb') as fd:\n",
    "#     total_size_in_bytes = int(req.headers.get('Content-Length', 0))\n",
    "#     progress_bar = tqdm(desc='kion dataset download', total=total_size_in_bytes, unit='iB', unit_scale=True)\n",
    "#     for chunk in req.iter_content(chunk_size=2 ** 20):\n",
    "#         progress_bar.update(len(chunk))\n",
    "#         fd.write(chunk)\n",
    "\n",
    "# files = zf.ZipFile('kion.zip', 'r')\n",
    "# files.extractall()\n",
    "# files.close()"
   ]
  },
  {
   "cell_type": "code",
   "execution_count": 10,
   "id": "2b128d75-5970-42c0-b89e-1d48c1688936",
   "metadata": {},
   "outputs": [],
   "source": [
    "data_path = os.environ.get(\"DATA_PATH\")\n",
    "if data_path is None:\n",
    "    data_path = \"data_original\"  # ваш путь к данным до папки data_original включительно (поменяйте при необходимости)"
   ]
  },
  {
   "cell_type": "code",
   "execution_count": 11,
   "id": "2e1b9888-cdc7-47a3-9162-a1ae7de7144e",
   "metadata": {
    "nbgrader": {
     "grade": false,
     "grade_id": "cell-a1b82be4e2c39f91",
     "locked": true,
     "schema_version": 3,
     "solution": false,
     "task": false
    }
   },
   "outputs": [
    {
     "ename": "FileNotFoundError",
     "evalue": "[Errno 2] No such file or directory: 'data_original/users.csv'",
     "output_type": "error",
     "traceback": [
      "\u001b[31m---------------------------------------------------------------------------\u001b[39m",
      "\u001b[31mFileNotFoundError\u001b[39m                         Traceback (most recent call last)",
      "\u001b[36mCell\u001b[39m\u001b[36m \u001b[39m\u001b[32mIn[11]\u001b[39m\u001b[32m, line 1\u001b[39m\n\u001b[32m----> \u001b[39m\u001b[32m1\u001b[39m users = \u001b[43mpd\u001b[49m\u001b[43m.\u001b[49m\u001b[43mread_csv\u001b[49m\u001b[43m(\u001b[49m\u001b[43mos\u001b[49m\u001b[43m.\u001b[49m\u001b[43mpath\u001b[49m\u001b[43m.\u001b[49m\u001b[43mjoin\u001b[49m\u001b[43m(\u001b[49m\u001b[43mdata_path\u001b[49m\u001b[43m,\u001b[49m\u001b[43m \u001b[49m\u001b[33;43m\"\u001b[39;49m\u001b[33;43musers.csv\u001b[39;49m\u001b[33;43m\"\u001b[39;49m\u001b[43m)\u001b[49m\u001b[43m)\u001b[49m\n\u001b[32m      2\u001b[39m items = pd.read_csv(os.path.join(data_path, \u001b[33m\"\u001b[39m\u001b[33mitems.csv\u001b[39m\u001b[33m\"\u001b[39m))\n\u001b[32m      4\u001b[39m users = users.sample(frac=\u001b[32m0.1\u001b[39m, random_state=\u001b[32m42\u001b[39m)\n",
      "\u001b[36mFile \u001b[39m\u001b[32m~/.pyenv/versions/3.13.0/envs/aaa/lib/python3.13/site-packages/pandas/io/parsers/readers.py:1026\u001b[39m, in \u001b[36mread_csv\u001b[39m\u001b[34m(filepath_or_buffer, sep, delimiter, header, names, index_col, usecols, dtype, engine, converters, true_values, false_values, skipinitialspace, skiprows, skipfooter, nrows, na_values, keep_default_na, na_filter, verbose, skip_blank_lines, parse_dates, infer_datetime_format, keep_date_col, date_parser, date_format, dayfirst, cache_dates, iterator, chunksize, compression, thousands, decimal, lineterminator, quotechar, quoting, doublequote, escapechar, comment, encoding, encoding_errors, dialect, on_bad_lines, delim_whitespace, low_memory, memory_map, float_precision, storage_options, dtype_backend)\u001b[39m\n\u001b[32m   1013\u001b[39m kwds_defaults = _refine_defaults_read(\n\u001b[32m   1014\u001b[39m     dialect,\n\u001b[32m   1015\u001b[39m     delimiter,\n\u001b[32m   (...)\u001b[39m\u001b[32m   1022\u001b[39m     dtype_backend=dtype_backend,\n\u001b[32m   1023\u001b[39m )\n\u001b[32m   1024\u001b[39m kwds.update(kwds_defaults)\n\u001b[32m-> \u001b[39m\u001b[32m1026\u001b[39m \u001b[38;5;28;01mreturn\u001b[39;00m \u001b[43m_read\u001b[49m\u001b[43m(\u001b[49m\u001b[43mfilepath_or_buffer\u001b[49m\u001b[43m,\u001b[49m\u001b[43m \u001b[49m\u001b[43mkwds\u001b[49m\u001b[43m)\u001b[49m\n",
      "\u001b[36mFile \u001b[39m\u001b[32m~/.pyenv/versions/3.13.0/envs/aaa/lib/python3.13/site-packages/pandas/io/parsers/readers.py:620\u001b[39m, in \u001b[36m_read\u001b[39m\u001b[34m(filepath_or_buffer, kwds)\u001b[39m\n\u001b[32m    617\u001b[39m _validate_names(kwds.get(\u001b[33m\"\u001b[39m\u001b[33mnames\u001b[39m\u001b[33m\"\u001b[39m, \u001b[38;5;28;01mNone\u001b[39;00m))\n\u001b[32m    619\u001b[39m \u001b[38;5;66;03m# Create the parser.\u001b[39;00m\n\u001b[32m--> \u001b[39m\u001b[32m620\u001b[39m parser = \u001b[43mTextFileReader\u001b[49m\u001b[43m(\u001b[49m\u001b[43mfilepath_or_buffer\u001b[49m\u001b[43m,\u001b[49m\u001b[43m \u001b[49m\u001b[43m*\u001b[49m\u001b[43m*\u001b[49m\u001b[43mkwds\u001b[49m\u001b[43m)\u001b[49m\n\u001b[32m    622\u001b[39m \u001b[38;5;28;01mif\u001b[39;00m chunksize \u001b[38;5;129;01mor\u001b[39;00m iterator:\n\u001b[32m    623\u001b[39m     \u001b[38;5;28;01mreturn\u001b[39;00m parser\n",
      "\u001b[36mFile \u001b[39m\u001b[32m~/.pyenv/versions/3.13.0/envs/aaa/lib/python3.13/site-packages/pandas/io/parsers/readers.py:1620\u001b[39m, in \u001b[36mTextFileReader.__init__\u001b[39m\u001b[34m(self, f, engine, **kwds)\u001b[39m\n\u001b[32m   1617\u001b[39m     \u001b[38;5;28mself\u001b[39m.options[\u001b[33m\"\u001b[39m\u001b[33mhas_index_names\u001b[39m\u001b[33m\"\u001b[39m] = kwds[\u001b[33m\"\u001b[39m\u001b[33mhas_index_names\u001b[39m\u001b[33m\"\u001b[39m]\n\u001b[32m   1619\u001b[39m \u001b[38;5;28mself\u001b[39m.handles: IOHandles | \u001b[38;5;28;01mNone\u001b[39;00m = \u001b[38;5;28;01mNone\u001b[39;00m\n\u001b[32m-> \u001b[39m\u001b[32m1620\u001b[39m \u001b[38;5;28mself\u001b[39m._engine = \u001b[38;5;28;43mself\u001b[39;49m\u001b[43m.\u001b[49m\u001b[43m_make_engine\u001b[49m\u001b[43m(\u001b[49m\u001b[43mf\u001b[49m\u001b[43m,\u001b[49m\u001b[43m \u001b[49m\u001b[38;5;28;43mself\u001b[39;49m\u001b[43m.\u001b[49m\u001b[43mengine\u001b[49m\u001b[43m)\u001b[49m\n",
      "\u001b[36mFile \u001b[39m\u001b[32m~/.pyenv/versions/3.13.0/envs/aaa/lib/python3.13/site-packages/pandas/io/parsers/readers.py:1880\u001b[39m, in \u001b[36mTextFileReader._make_engine\u001b[39m\u001b[34m(self, f, engine)\u001b[39m\n\u001b[32m   1878\u001b[39m     \u001b[38;5;28;01mif\u001b[39;00m \u001b[33m\"\u001b[39m\u001b[33mb\u001b[39m\u001b[33m\"\u001b[39m \u001b[38;5;129;01mnot\u001b[39;00m \u001b[38;5;129;01min\u001b[39;00m mode:\n\u001b[32m   1879\u001b[39m         mode += \u001b[33m\"\u001b[39m\u001b[33mb\u001b[39m\u001b[33m\"\u001b[39m\n\u001b[32m-> \u001b[39m\u001b[32m1880\u001b[39m \u001b[38;5;28mself\u001b[39m.handles = \u001b[43mget_handle\u001b[49m\u001b[43m(\u001b[49m\n\u001b[32m   1881\u001b[39m \u001b[43m    \u001b[49m\u001b[43mf\u001b[49m\u001b[43m,\u001b[49m\n\u001b[32m   1882\u001b[39m \u001b[43m    \u001b[49m\u001b[43mmode\u001b[49m\u001b[43m,\u001b[49m\n\u001b[32m   1883\u001b[39m \u001b[43m    \u001b[49m\u001b[43mencoding\u001b[49m\u001b[43m=\u001b[49m\u001b[38;5;28;43mself\u001b[39;49m\u001b[43m.\u001b[49m\u001b[43moptions\u001b[49m\u001b[43m.\u001b[49m\u001b[43mget\u001b[49m\u001b[43m(\u001b[49m\u001b[33;43m\"\u001b[39;49m\u001b[33;43mencoding\u001b[39;49m\u001b[33;43m\"\u001b[39;49m\u001b[43m,\u001b[49m\u001b[43m \u001b[49m\u001b[38;5;28;43;01mNone\u001b[39;49;00m\u001b[43m)\u001b[49m\u001b[43m,\u001b[49m\n\u001b[32m   1884\u001b[39m \u001b[43m    \u001b[49m\u001b[43mcompression\u001b[49m\u001b[43m=\u001b[49m\u001b[38;5;28;43mself\u001b[39;49m\u001b[43m.\u001b[49m\u001b[43moptions\u001b[49m\u001b[43m.\u001b[49m\u001b[43mget\u001b[49m\u001b[43m(\u001b[49m\u001b[33;43m\"\u001b[39;49m\u001b[33;43mcompression\u001b[39;49m\u001b[33;43m\"\u001b[39;49m\u001b[43m,\u001b[49m\u001b[43m \u001b[49m\u001b[38;5;28;43;01mNone\u001b[39;49;00m\u001b[43m)\u001b[49m\u001b[43m,\u001b[49m\n\u001b[32m   1885\u001b[39m \u001b[43m    \u001b[49m\u001b[43mmemory_map\u001b[49m\u001b[43m=\u001b[49m\u001b[38;5;28;43mself\u001b[39;49m\u001b[43m.\u001b[49m\u001b[43moptions\u001b[49m\u001b[43m.\u001b[49m\u001b[43mget\u001b[49m\u001b[43m(\u001b[49m\u001b[33;43m\"\u001b[39;49m\u001b[33;43mmemory_map\u001b[39;49m\u001b[33;43m\"\u001b[39;49m\u001b[43m,\u001b[49m\u001b[43m \u001b[49m\u001b[38;5;28;43;01mFalse\u001b[39;49;00m\u001b[43m)\u001b[49m\u001b[43m,\u001b[49m\n\u001b[32m   1886\u001b[39m \u001b[43m    \u001b[49m\u001b[43mis_text\u001b[49m\u001b[43m=\u001b[49m\u001b[43mis_text\u001b[49m\u001b[43m,\u001b[49m\n\u001b[32m   1887\u001b[39m \u001b[43m    \u001b[49m\u001b[43merrors\u001b[49m\u001b[43m=\u001b[49m\u001b[38;5;28;43mself\u001b[39;49m\u001b[43m.\u001b[49m\u001b[43moptions\u001b[49m\u001b[43m.\u001b[49m\u001b[43mget\u001b[49m\u001b[43m(\u001b[49m\u001b[33;43m\"\u001b[39;49m\u001b[33;43mencoding_errors\u001b[39;49m\u001b[33;43m\"\u001b[39;49m\u001b[43m,\u001b[49m\u001b[43m \u001b[49m\u001b[33;43m\"\u001b[39;49m\u001b[33;43mstrict\u001b[39;49m\u001b[33;43m\"\u001b[39;49m\u001b[43m)\u001b[49m\u001b[43m,\u001b[49m\n\u001b[32m   1888\u001b[39m \u001b[43m    \u001b[49m\u001b[43mstorage_options\u001b[49m\u001b[43m=\u001b[49m\u001b[38;5;28;43mself\u001b[39;49m\u001b[43m.\u001b[49m\u001b[43moptions\u001b[49m\u001b[43m.\u001b[49m\u001b[43mget\u001b[49m\u001b[43m(\u001b[49m\u001b[33;43m\"\u001b[39;49m\u001b[33;43mstorage_options\u001b[39;49m\u001b[33;43m\"\u001b[39;49m\u001b[43m,\u001b[49m\u001b[43m \u001b[49m\u001b[38;5;28;43;01mNone\u001b[39;49;00m\u001b[43m)\u001b[49m\u001b[43m,\u001b[49m\n\u001b[32m   1889\u001b[39m \u001b[43m\u001b[49m\u001b[43m)\u001b[49m\n\u001b[32m   1890\u001b[39m \u001b[38;5;28;01massert\u001b[39;00m \u001b[38;5;28mself\u001b[39m.handles \u001b[38;5;129;01mis\u001b[39;00m \u001b[38;5;129;01mnot\u001b[39;00m \u001b[38;5;28;01mNone\u001b[39;00m\n\u001b[32m   1891\u001b[39m f = \u001b[38;5;28mself\u001b[39m.handles.handle\n",
      "\u001b[36mFile \u001b[39m\u001b[32m~/.pyenv/versions/3.13.0/envs/aaa/lib/python3.13/site-packages/pandas/io/common.py:873\u001b[39m, in \u001b[36mget_handle\u001b[39m\u001b[34m(path_or_buf, mode, encoding, compression, memory_map, is_text, errors, storage_options)\u001b[39m\n\u001b[32m    868\u001b[39m \u001b[38;5;28;01melif\u001b[39;00m \u001b[38;5;28misinstance\u001b[39m(handle, \u001b[38;5;28mstr\u001b[39m):\n\u001b[32m    869\u001b[39m     \u001b[38;5;66;03m# Check whether the filename is to be opened in binary mode.\u001b[39;00m\n\u001b[32m    870\u001b[39m     \u001b[38;5;66;03m# Binary mode does not support 'encoding' and 'newline'.\u001b[39;00m\n\u001b[32m    871\u001b[39m     \u001b[38;5;28;01mif\u001b[39;00m ioargs.encoding \u001b[38;5;129;01mand\u001b[39;00m \u001b[33m\"\u001b[39m\u001b[33mb\u001b[39m\u001b[33m\"\u001b[39m \u001b[38;5;129;01mnot\u001b[39;00m \u001b[38;5;129;01min\u001b[39;00m ioargs.mode:\n\u001b[32m    872\u001b[39m         \u001b[38;5;66;03m# Encoding\u001b[39;00m\n\u001b[32m--> \u001b[39m\u001b[32m873\u001b[39m         handle = \u001b[38;5;28;43mopen\u001b[39;49m\u001b[43m(\u001b[49m\n\u001b[32m    874\u001b[39m \u001b[43m            \u001b[49m\u001b[43mhandle\u001b[49m\u001b[43m,\u001b[49m\n\u001b[32m    875\u001b[39m \u001b[43m            \u001b[49m\u001b[43mioargs\u001b[49m\u001b[43m.\u001b[49m\u001b[43mmode\u001b[49m\u001b[43m,\u001b[49m\n\u001b[32m    876\u001b[39m \u001b[43m            \u001b[49m\u001b[43mencoding\u001b[49m\u001b[43m=\u001b[49m\u001b[43mioargs\u001b[49m\u001b[43m.\u001b[49m\u001b[43mencoding\u001b[49m\u001b[43m,\u001b[49m\n\u001b[32m    877\u001b[39m \u001b[43m            \u001b[49m\u001b[43merrors\u001b[49m\u001b[43m=\u001b[49m\u001b[43merrors\u001b[49m\u001b[43m,\u001b[49m\n\u001b[32m    878\u001b[39m \u001b[43m            \u001b[49m\u001b[43mnewline\u001b[49m\u001b[43m=\u001b[49m\u001b[33;43m\"\u001b[39;49m\u001b[33;43m\"\u001b[39;49m\u001b[43m,\u001b[49m\n\u001b[32m    879\u001b[39m \u001b[43m        \u001b[49m\u001b[43m)\u001b[49m\n\u001b[32m    880\u001b[39m     \u001b[38;5;28;01melse\u001b[39;00m:\n\u001b[32m    881\u001b[39m         \u001b[38;5;66;03m# Binary mode\u001b[39;00m\n\u001b[32m    882\u001b[39m         handle = \u001b[38;5;28mopen\u001b[39m(handle, ioargs.mode)\n",
      "\u001b[31mFileNotFoundError\u001b[39m: [Errno 2] No such file or directory: 'data_original/users.csv'"
     ]
    }
   ],
   "source": [
    "users = pd.read_csv(os.path.join(data_path, \"users.csv\"))\n",
    "items = pd.read_csv(os.path.join(data_path, \"items.csv\"))\n",
    "\n",
    "users = users.sample(frac=0.1, random_state=42)\n",
    "\n",
    "interactions = (\n",
    "    pd.read_csv(os.path.join(data_path, \"interactions.csv\"), parse_dates=[\"last_watch_dt\"])\n",
    "    .rename(columns={'total_dur': rectools.Columns.Weight,\n",
    "                     'last_watch_dt': rectools.Columns.Datetime})\n",
    ")\n",
    "\n",
    "\n",
    "interactions = interactions[interactions[\"user_id\"].isin(users[\"user_id\"])]\n",
    "\n",
    "\n",
    "print(interactions.shape)\n",
    "interactions.head(5)"
   ]
  },
  {
   "cell_type": "code",
   "execution_count": null,
   "id": "ecfa3e3e-477e-449c-863f-83decd2a608f",
   "metadata": {
    "nbgrader": {
     "grade": false,
     "grade_id": "cell-457223d68ac460f6",
     "locked": true,
     "schema_version": 3,
     "solution": false,
     "task": false
    }
   },
   "outputs": [
    {
     "name": "stdout",
     "output_type": "stream",
     "text": [
      "24771\n",
      "9099\n"
     ]
    }
   ],
   "source": [
    "N_DAYS = 7\n",
    "\n",
    "max_date = interactions['datetime'].max()\n",
    "train = interactions[(interactions['datetime'] <= max_date - pd.Timedelta(days=N_DAYS))]\n",
    "test = interactions[(interactions['datetime'] > max_date - pd.Timedelta(days=N_DAYS))]\n",
    "\n",
    "catalog = train[rectools.Columns.Item].unique()\n",
    "\n",
    "test_users = test[rectools.Columns.User].unique()\n",
    "cold_users = set(test_users) - set(train[rectools.Columns.User])\n",
    "test.drop(test[test[rectools.Columns.User].isin(cold_users)].index, inplace=True)\n",
    "hot_users = test[rectools.Columns.User].unique()\n",
    "print(test.shape[0])\n",
    "print(test[rectools.Columns.User].nunique())\n",
    "\n",
    "def scorer(map: float):\n",
    "    print(f\"Ваш MAP: {map}\")\n",
    "    UPPER_BOUND = 0.089\n",
    "    LOWER_BOUND = 0.071\n",
    "    score = int(min(max( (map - LOWER_BOUND) / (UPPER_BOUND - LOWER_BOUND), 0), 1) * 80)\n",
    "    print(f\"Ваш итоговый балл: {score}\")\n",
    "    return score"
   ]
  },
  {
   "cell_type": "code",
   "execution_count": null,
   "id": "5d2619d5",
   "metadata": {},
   "outputs": [],
   "source": [
    "def solution(train: pd.DataFrame, users: pd.DataFrame, items: pd.DataFrame):\n",
    "    #  CODE BEGIN\n",
    "    def filter_dataset(train):\n",
    "        train[rectools.Columns.Weight] = np.where(train['watched_pct'] > 10, 3, 1)\n",
    "        dataset_ease = rectools.dataset.Dataset.construct(train)\n",
    "        return dataset_ease\n",
    "    \n",
    "    dataset_ease = filter_dataset(train)\n",
    "    ease = rectools.models.EASEModel()\n",
    "    ease_model = ease.fit(dataset_ease)\n",
    "\n",
    "    \n",
    "    ease_res = ease_model.recommend(\n",
    "        users=hot_users,\n",
    "        dataset=dataset_ease,\n",
    "        k=10,\n",
    "        filter_viewed=True,\n",
    "    )\n",
    "    #  CODE END\n",
    "    return ease_res\n"
   ]
  },
  {
   "cell_type": "code",
   "execution_count": null,
   "id": "5e5101e4",
   "metadata": {},
   "outputs": [
    {
     "name": "stdout",
     "output_type": "stream",
     "text": [
      "Ваш MAP: 0.03321778223372767\n",
      "Ваш итоговый балл: 0\n",
      "CPU times: user 37.2 s, sys: 3.38 s, total: 40.5 s\n",
      "Wall time: 41.4 s\n"
     ]
    },
    {
     "data": {
      "text/plain": [
       "0"
      ]
     },
     "execution_count": 8,
     "metadata": {},
     "output_type": "execute_result"
    }
   ],
   "source": [
    "%%time\n",
    "\n",
    "recos = solution(train.copy(), users.copy(), items.copy())\n",
    "scorer(rectools.metrics.MAP(10).calc(recos, test))"
   ]
  }
 ],
 "metadata": {
  "kernelspec": {
   "display_name": "aaa",
   "language": "python",
   "name": "python3"
  },
  "language_info": {
   "codemirror_mode": {
    "name": "ipython",
    "version": 3
   },
   "file_extension": ".py",
   "mimetype": "text/x-python",
   "name": "python",
   "nbconvert_exporter": "python",
   "pygments_lexer": "ipython3",
   "version": "3.13.0"
  },
  "widgets": {
   "application/vnd.jupyter.widget-state+json": {
    "state": {},
    "version_major": 2,
    "version_minor": 0
   }
  }
 },
 "nbformat": 4,
 "nbformat_minor": 5
}
