{
 "cells": [
  {
   "cell_type": "markdown",
   "id": "6a163dba-2862-431f-96d6-96c8d067cfdc",
   "metadata": {
    "id": "6a163dba-2862-431f-96d6-96c8d067cfdc"
   },
   "source": [
    "# Семинар 3 \"Матричное разложение\""
   ]
  },
  {
   "cell_type": "markdown",
   "id": "24d395d8-e61c-45f1-b035-f9f84af6a2d4",
   "metadata": {
    "id": "24d395d8-e61c-45f1-b035-f9f84af6a2d4"
   },
   "source": [
    "**План Семинара:**\n",
    "    \n",
    "    - ALS from scratch\n",
    "    \n",
    "    - MF w/o features based on RecTools implementations\n",
    "    \n",
    "    - Advantages of ANN"
   ]
  },
  {
   "cell_type": "markdown",
   "id": "c3b151e0-89aa-4a1e-93d3-32795ad34022",
   "metadata": {
    "id": "c3b151e0-89aa-4a1e-93d3-32795ad34022"
   },
   "source": [
    "# iALS from scratch"
   ]
  },
  {
   "cell_type": "code",
   "execution_count": 7,
   "id": "515116bf-1e1a-4389-bc52-79b8a7ea4961",
   "metadata": {
    "id": "515116bf-1e1a-4389-bc52-79b8a7ea4961"
   },
   "outputs": [],
   "source": [
    "import numpy as np\n",
    "import pandas as pd\n",
    "import seaborn as sns"
   ]
  },
  {
   "cell_type": "markdown",
   "id": "ca509c5f-cfa5-48b2-a0dc-354f083cf607",
   "metadata": {
    "id": "ca509c5f-cfa5-48b2-a0dc-354f083cf607"
   },
   "source": [
    "$$\n",
    "\\begin{aligned}\n",
    "&\\frac{\\partial L}{\\partial p_u}=0 \\Rightarrow p_u=\\left(Q^TC_u Q+\\lambda I\\right)^{-1} Q^T C_u \\phi_u \\\\\n",
    "&\\frac{\\partial L}{\\partial q_i}=0 \\Rightarrow q_i=\\left(P^TC_i P+\\lambda I\\right)^{-1} P^T C_i \\phi_i\n",
    "\\end{aligned}\n",
    "$$"
   ]
  },
  {
   "cell_type": "markdown",
   "id": "58e84742-6a75-4ec6-a168-0c157d3c92d9",
   "metadata": {
    "id": "58e84742-6a75-4ec6-a168-0c157d3c92d9"
   },
   "source": [
    "$$\n",
    "\\begin{aligned}\n",
    "&\\frac{\\partial L}{\\partial p_u}=0 \\Rightarrow p_u=\\left(Q^T Q+Q^T\\left(C_u-I\\right) Q+\\lambda I\\right)^{-1} Q^T C_u \\phi_u \\\\\n",
    "&\\frac{\\partial L}{\\partial q_i}=0 \\Rightarrow q_i=\\left(P^T P+P^T\\left(C_i-I\\right) P+\\lambda I\\right)^{-1} P^T C_i \\phi_i\n",
    "\\end{aligned}\n",
    "$$"
   ]
  },
  {
   "cell_type": "markdown",
   "id": "9473f5c6-84ec-41fb-b591-6c94fbbfa34d",
   "metadata": {
    "id": "9473f5c6-84ec-41fb-b591-6c94fbbfa34d"
   },
   "source": [
    "$$ L\\left(p_u, q_i, r_{u i}\\right)=\\sum_{u, i \\in R} c_{u i} \\cdot\\left(\\phi_{u i}-\\langle p_u, q_i \\rangle\\right)^2=\\sum_{u, i \\in R}\\left(1+\\alpha r_{u i}\\right)\\left(\\phi_{u i}-\\langle p_u, q_i \\rangle\\right)^2 $$"
   ]
  },
  {
   "cell_type": "markdown",
   "id": "98fd48b6-6b52-4278-bf09-564e294f1e55",
   "metadata": {
    "id": "98fd48b6-6b52-4278-bf09-564e294f1e55"
   },
   "source": [
    "Для более легкого понимания: [A gentle introduction to Alternating Least Squares](https://sophwats.github.io/2018-04-05-gentle-als.html)"
   ]
  },
  {
   "cell_type": "code",
   "execution_count": 15,
   "id": "7ca93b7d-4bb0-401d-87e2-b7eef0507efc",
   "metadata": {
    "id": "7ca93b7d-4bb0-401d-87e2-b7eef0507efc"
   },
   "outputs": [],
   "source": [
    "class ImplicitALS:\n",
    "\n",
    "    def __init__(self, R, k=3, a=40, l2=10):\n",
    "        self.l2 = l2\n",
    "        self.k = k\n",
    "        self.a = a\n",
    "        self.m, self.n = R.shape\n",
    "\n",
    "        # Инициализируем эмбеддинги пользователей (P) и товаров (Q)\n",
    "        self.P = np.random.rand(self.m, self.k)\n",
    "        self.Q = np.random.rand(self.n, self.k)\n",
    "\n",
    "        self.phi = np.where(R > 0, 1, 0)\n",
    "        self.C = 1 + a * R\n",
    "\n",
    "        self.loss = []\n",
    "\n",
    "    def train(self, n_step=10):\n",
    "        l2_reg = self.l2 * np.identity(self.k)\n",
    "        for _ in range(n_step):\n",
    "\n",
    "            # fix P, update Q\n",
    "            PtP = self.P.T.dot(self.P)\n",
    "            for i in range(self.n):\n",
    "                Ci =  np.diag(self.C[:, i])\n",
    "                Wi =  PtP + self.P.T.dot(Ci - np.identity(self.m)).dot(self.P) + l2_reg\n",
    "                self.Q[i] = np.linalg.inv(Wi).dot(self.P.T).dot(Ci).dot(self.phi[:, i])\n",
    "\n",
    "            # fix Q, update P\n",
    "            QtQ = self.Q.T.dot(self.Q)\n",
    "            for u in range(self.m):\n",
    "                Cu = np.diag(self.C[u, :])\n",
    "                Wu = QtQ + self.Q.T.dot(Cu - np.identity(self.n)).dot(self.Q) + l2_reg\n",
    "                self.P[u] = np.linalg.inv(Wu).dot(self.Q.T).dot(Cu).dot(self.phi[u, :])\n",
    "                \n",
    "            # Вычисляем LOSS\n",
    "            loss = (self.C * (self.phi - self.P.dot(self.Q.T)) ** 2).sum()\n",
    "            l2_all = (self.P ** 2).sum() + (self.Q ** 2).sum()\n",
    "            loss_with_l2_reg = loss + self.l2 * l2_all\n",
    "            self.loss.append(loss_with_l2_reg)\n",
    "\n",
    "    def predict(self, u, i):\n",
    "        return self.P[u].dot(self.Q[i])\n"
   ]
  },
  {
   "cell_type": "code",
   "execution_count": 16,
   "id": "60e61754-a21b-4efa-8d6c-f70b337321ac",
   "metadata": {
    "id": "60e61754-a21b-4efa-8d6c-f70b337321ac"
   },
   "outputs": [],
   "source": [
    "np.random.seed(32)"
   ]
  },
  {
   "cell_type": "code",
   "execution_count": 17,
   "id": "6aa0fe67-8cb1-4a1c-9048-097673bd7708",
   "metadata": {
    "colab": {
     "base_uri": "https://localhost:8080/"
    },
    "id": "6aa0fe67-8cb1-4a1c-9048-097673bd7708",
    "outputId": "b7026437-9c41-4182-bba5-27cf9bfd0beb"
   },
   "outputs": [
    {
     "data": {
      "text/plain": [
       "array([[3, 0, 0, 5, 2, 3, 0, 4, 0, 0],\n",
       "       [0, 0, 0, 0, 0, 1, 0, 0, 0, 2],\n",
       "       [4, 0, 4, 0, 0, 5, 0, 1, 0, 3],\n",
       "       [0, 0, 0, 0, 0, 0, 1, 2, 1, 0],\n",
       "       [0, 0, 0, 0, 5, 0, 0, 1, 3, 0]])"
      ]
     },
     "execution_count": 17,
     "metadata": {},
     "output_type": "execute_result"
    }
   ],
   "source": [
    "stars = np.arange(6)\n",
    "p = np.array([10, 1, 1, 1, 1, 1])\n",
    "m = 5  # Кол-во пользователей\n",
    "n = 10  # Кол-во товаров\n",
    "\n",
    "ratings = np.random.choice(stars, size=m*n, p=p / p.sum()).reshape((m, n))\n",
    "\n",
    "ratings"
   ]
  },
  {
   "cell_type": "code",
   "execution_count": 18,
   "id": "b13b018c-6fd1-40e7-b839-528f3270cbfd",
   "metadata": {
    "colab": {
     "base_uri": "https://localhost:8080/"
    },
    "id": "b13b018c-6fd1-40e7-b839-528f3270cbfd",
    "outputId": "c09b7ec4-375a-4939-ffe1-9042f66939fd"
   },
   "outputs": [
    {
     "data": {
      "text/plain": [
       "(5, 10)"
      ]
     },
     "execution_count": 18,
     "metadata": {},
     "output_type": "execute_result"
    }
   ],
   "source": [
    "ratings.shape"
   ]
  },
  {
   "cell_type": "code",
   "execution_count": 19,
   "id": "a4847409-0c35-4dd6-89f6-83c073a56bae",
   "metadata": {
    "id": "a4847409-0c35-4dd6-89f6-83c073a56bae"
   },
   "outputs": [],
   "source": [
    "als = ImplicitALS(R=ratings, k=16)"
   ]
  },
  {
   "cell_type": "code",
   "execution_count": 20,
   "id": "45f93a7a-6902-4cb2-b09f-419fddc3d657",
   "metadata": {
    "id": "45f93a7a-6902-4cb2-b09f-419fddc3d657"
   },
   "outputs": [],
   "source": [
    "als.train(n_step=50)"
   ]
  },
  {
   "cell_type": "code",
   "execution_count": 21,
   "id": "2628f2c0-06ea-4c2b-bcc6-cf2863e97470",
   "metadata": {
    "colab": {
     "base_uri": "https://localhost:8080/"
    },
    "id": "2628f2c0-06ea-4c2b-bcc6-cf2863e97470",
    "outputId": "23522e02-ec38-4798-976c-9a922687350e"
   },
   "outputs": [
    {
     "data": {
      "text/plain": [
       "[216.66070569213,\n",
       " 186.93856812837126,\n",
       " 172.52084974243346,\n",
       " 163.84104023884765,\n",
       " 158.1285606162813]"
      ]
     },
     "execution_count": 21,
     "metadata": {},
     "output_type": "execute_result"
    }
   ],
   "source": [
    "als.loss[:5]"
   ]
  },
  {
   "cell_type": "code",
   "execution_count": 22,
   "id": "83ecb2c5-979c-4e0e-b90c-f8b2a20ae0d5",
   "metadata": {
    "colab": {
     "base_uri": "https://localhost:8080/",
     "height": 790
    },
    "id": "83ecb2c5-979c-4e0e-b90c-f8b2a20ae0d5",
    "outputId": "0ac65739-cbf8-45f8-a6b8-3bf228a980fa"
   },
   "outputs": [
    {
     "data": {
      "image/png": "[encoded data removed]",
      "text/plain": [
       "<Figure size 640x480 with 1 Axes>"
      ]
     },
     "metadata": {},
     "output_type": "display_data"
    }
   ],
   "source": [
    "ax = sns.lineplot(als.loss)\n",
    "ax.set_xlabel(\"epochs\")\n",
    "ax.set_ylabel(\"loss\");"
   ]
  },
  {
   "cell_type": "code",
   "execution_count": 23,
   "id": "e1e3459f-23c6-49cd-b73c-1a29ef5c54e7",
   "metadata": {
    "id": "e1e3459f-23c6-49cd-b73c-1a29ef5c54e7"
   },
   "outputs": [],
   "source": [
    "assert als.P.shape[0] == ratings.shape[0]\n",
    "assert als.Q.shape[0] == ratings.shape[1]\n",
    "assert als.P.shape[1] == als.Q.shape[1]"
   ]
  },
  {
   "cell_type": "code",
   "execution_count": 24,
   "id": "e57d838a-4f99-4638-b331-3b3771d18637",
   "metadata": {
    "colab": {
     "base_uri": "https://localhost:8080/"
    },
    "id": "e57d838a-4f99-4638-b331-3b3771d18637",
    "outputId": "c6cc9c9c-c3bc-46d8-a478-007313cfebd7"
   },
   "outputs": [
    {
     "data": {
      "text/plain": [
       "array([[ 0.97,  0.  ,  0.79,  0.96,  0.96,  0.97,  0.39,  0.99,  0.62,\n",
       "         0.81],\n",
       "       [ 0.72,  0.  ,  0.71,  0.57,  0.25,  0.86, -0.09,  0.4 , -0.06,\n",
       "         0.9 ],\n",
       "       [ 0.97,  0.  ,  0.95,  0.77,  0.66,  1.  ,  0.33,  0.92,  0.4 ,\n",
       "         0.99],\n",
       "       [ 0.4 ,  0.  ,  0.33,  0.39,  0.83,  0.16,  0.81,  0.95,  0.93,\n",
       "         0.01],\n",
       "       [ 0.49,  0.  ,  0.33,  0.57,  0.97,  0.29,  0.74,  0.96,  0.95,\n",
       "         0.07]])"
      ]
     },
     "execution_count": 24,
     "metadata": {},
     "output_type": "execute_result"
    }
   ],
   "source": [
    "# Предскажем для всех\n",
    "pred_ratings = np.matmul(als.P, als.Q.T).round(2)\n",
    "pred_ratings"
   ]
  },
  {
   "cell_type": "code",
   "execution_count": 25,
   "id": "d97e2621-459c-4b88-8451-73d9f44ecaf5",
   "metadata": {
    "colab": {
     "base_uri": "https://localhost:8080/"
    },
    "id": "d97e2621-459c-4b88-8451-73d9f44ecaf5",
    "outputId": "580da36b-64f3-4ce0-b13a-aa17a64ddf06"
   },
   "outputs": [
    {
     "data": {
      "text/plain": [
       "array([[3, 0, 0, 5, 2, 3, 0, 4, 0, 0],\n",
       "       [0, 0, 0, 0, 0, 1, 0, 0, 0, 2],\n",
       "       [4, 0, 4, 0, 0, 5, 0, 1, 0, 3],\n",
       "       [0, 0, 0, 0, 0, 0, 1, 2, 1, 0],\n",
       "       [0, 0, 0, 0, 5, 0, 0, 1, 3, 0]])"
      ]
     },
     "execution_count": 25,
     "metadata": {},
     "output_type": "execute_result"
    }
   ],
   "source": [
    "ratings"
   ]
  },
  {
   "cell_type": "code",
   "execution_count": 26,
   "id": "8b128798-edab-4b8a-8b03-4b644a9b29ef",
   "metadata": {
    "colab": {
     "base_uri": "https://localhost:8080/"
    },
    "id": "8b128798-edab-4b8a-8b03-4b644a9b29ef",
    "outputId": "eab03656-8dd3-42ac-cd0a-7eeb6817c31b"
   },
   "outputs": [
    {
     "name": "stdout",
     "output_type": "stream",
     "text": [
      "Original:\n",
      "[3 0 0 5 2 3 0 4 0 0]\n",
      "Predicted:\n",
      "[0.97 0.   0.79 0.96 0.96 0.97 0.39 0.99 0.62 0.81]\n",
      "-----------\n",
      "Original:\n",
      "[0 0 0 0 0 1 0 0 0 2]\n",
      "Predicted:\n",
      "[ 0.72  0.    0.71  0.57  0.25  0.86 -0.09  0.4  -0.06  0.9 ]\n",
      "-----------\n",
      "Original:\n",
      "[4 0 4 0 0 5 0 1 0 3]\n",
      "Predicted:\n",
      "[0.97 0.   0.95 0.77 0.66 1.   0.33 0.92 0.4  0.99]\n",
      "-----------\n",
      "Original:\n",
      "[0 0 0 0 0 0 1 2 1 0]\n",
      "Predicted:\n",
      "[0.4  0.   0.33 0.39 0.83 0.16 0.81 0.95 0.93 0.01]\n",
      "-----------\n",
      "Original:\n",
      "[0 0 0 0 5 0 0 1 3 0]\n",
      "Predicted:\n",
      "[0.49 0.   0.33 0.57 0.97 0.29 0.74 0.96 0.95 0.07]\n",
      "-----------\n"
     ]
    }
   ],
   "source": [
    "for row_idx in range(ratings.shape[0]):\n",
    "    print(\"Original:\")\n",
    "    print(ratings[row_idx, :])\n",
    "    print(\"Predicted:\")\n",
    "    print(pred_ratings[row_idx, :])\n",
    "    print(\"-----------\")"
   ]
  },
  {
   "cell_type": "markdown",
   "id": "e14d7356-9017-4305-ac67-3516c52e7caf",
   "metadata": {
    "id": "e14d7356-9017-4305-ac67-3516c52e7caf"
   },
   "source": [
    "# PureSVD and ALS from Rectools"
   ]
  },
  {
   "cell_type": "code",
   "execution_count": 27,
   "id": "kpi9PqMb5koV",
   "metadata": {
    "id": "kpi9PqMb5koV"
   },
   "outputs": [],
   "source": [
    "# pip install rectools"
   ]
  },
  {
   "cell_type": "code",
   "execution_count": 28,
   "id": "awyX9_-gdNqo",
   "metadata": {
    "id": "awyX9_-gdNqo"
   },
   "outputs": [],
   "source": [
    "# pip install implicit"
   ]
  },
  {
   "cell_type": "code",
   "execution_count": 29,
   "id": "1f40e571-c14b-49d0-87f1-ea0a7a2d21ca",
   "metadata": {
    "id": "1f40e571-c14b-49d0-87f1-ea0a7a2d21ca"
   },
   "outputs": [],
   "source": [
    "import os\n",
    "import requests\n",
    "import threadpoolctl\n",
    "import warnings\n",
    "import time\n",
    "import typing as tp\n",
    "from tqdm import tqdm\n",
    "from pathlib import Path\n",
    "\n",
    "import pandas as pd\n",
    "import plotly.express as px\n",
    "import numpy as np\n",
    "from implicit.als import AlternatingLeastSquares\n",
    "from implicit.bpr import BayesianPersonalizedRanking\n",
    "from implicit.lmf import LogisticMatrixFactorization\n",
    "import matplotlib.pyplot as plt\n",
    "import seaborn as sns\n",
    "\n",
    "from rectools import Columns\n",
    "from rectools.dataset import Dataset\n",
    "from rectools.metrics import Precision, Recall, MAP, MeanInvUserFreq, NDCG, Serendipity, calc_metrics\n",
    "from rectools.models import PopularModel, RandomModel, PureSVDModel, ImplicitALSWrapperModel, ImplicitBPRWrapperModel\n",
    "\n",
    "warnings.filterwarnings('ignore')\n",
    "sns.set_theme(style=\"whitegrid\")\n",
    "\n",
    "# For implicit ALS\n",
    "# os.environ[\"OPENBLAS_NUM_THREADS\"] = \"1\"\n",
    "# threadpoolctl.threadpool_limits(1, \"blas\");"
   ]
  },
  {
   "cell_type": "markdown",
   "id": "38978a11-7ddf-4f79-8b49-e9d25a0f421e",
   "metadata": {
    "id": "38978a11-7ddf-4f79-8b49-e9d25a0f421e"
   },
   "source": [
    "## Подготовим данные"
   ]
  },
  {
   "cell_type": "code",
   "execution_count": 17,
   "id": "VI8Zv1ZpoT8L",
   "metadata": {
    "colab": {
     "base_uri": "https://localhost:8080/"
    },
    "id": "VI8Zv1ZpoT8L",
    "outputId": "dafa85d1-b9a2-46a8-a6e4-80455925a002"
   },
   "outputs": [],
   "source": [
    "# !wget -q https://github.com/irsafilo/KION_DATASET/raw/f69775be31fa5779907cf0a92ddedb70037fb5ae/data_en.zip -O data_en.zip\n",
    "# !unzip -o data_en.zip\n",
    "# !rm data_en.zip"
   ]
  },
  {
   "cell_type": "code",
   "execution_count": 30,
   "id": "1df306d8-7a16-40ba-abdf-2d909e301085",
   "metadata": {
    "id": "1df306d8-7a16-40ba-abdf-2d909e301085"
   },
   "outputs": [],
   "source": [
    "BASE_PATH = Path(\"./data_en\")"
   ]
  },
  {
   "cell_type": "code",
   "execution_count": 31,
   "id": "565118f8-0c30-4da4-b54a-0d9f3a3634ce",
   "metadata": {
    "id": "565118f8-0c30-4da4-b54a-0d9f3a3634ce"
   },
   "outputs": [],
   "source": [
    "interactions = pd.read_csv(BASE_PATH / \"interactions.csv\")\n",
    "users = pd.read_csv(BASE_PATH / \"users_en.csv\")\n",
    "items = pd.read_csv(BASE_PATH / \"items_en.csv\")"
   ]
  },
  {
   "cell_type": "code",
   "execution_count": 32,
   "id": "Brwsj4qKiokT",
   "metadata": {
    "colab": {
     "base_uri": "https://localhost:8080/",
     "height": 423
    },
    "id": "Brwsj4qKiokT",
    "outputId": "a5519710-f1c4-4a6c-88ef-332b943246a3"
   },
   "outputs": [
    {
     "data": {
      "text/html": [
       "<div>\n",
       "<style scoped>\n",
       "    .dataframe tbody tr th:only-of-type {\n",
       "        vertical-align: middle;\n",
       "    }\n",
       "\n",
       "    .dataframe tbody tr th {\n",
       "        vertical-align: top;\n",
       "    }\n",
       "\n",
       "    .dataframe thead th {\n",
       "        text-align: right;\n",
       "    }\n",
       "</style>\n",
       "<table border=\"1\" class=\"dataframe\">\n",
       "  <thead>\n",
       "    <tr style=\"text-align: right;\">\n",
       "      <th></th>\n",
       "      <th>user_id</th>\n",
       "      <th>item_id</th>\n",
       "      <th>last_watch_dt</th>\n",
       "      <th>total_dur</th>\n",
       "      <th>watched_pct</th>\n",
       "    </tr>\n",
       "  </thead>\n",
       "  <tbody>\n",
       "    <tr>\n",
       "      <th>0</th>\n",
       "      <td>176549</td>\n",
       "      <td>9506</td>\n",
       "      <td>2021-05-11</td>\n",
       "      <td>4250</td>\n",
       "      <td>72.0</td>\n",
       "    </tr>\n",
       "    <tr>\n",
       "      <th>1</th>\n",
       "      <td>699317</td>\n",
       "      <td>1659</td>\n",
       "      <td>2021-05-29</td>\n",
       "      <td>8317</td>\n",
       "      <td>100.0</td>\n",
       "    </tr>\n",
       "    <tr>\n",
       "      <th>2</th>\n",
       "      <td>656683</td>\n",
       "      <td>7107</td>\n",
       "      <td>2021-05-09</td>\n",
       "      <td>10</td>\n",
       "      <td>0.0</td>\n",
       "    </tr>\n",
       "    <tr>\n",
       "      <th>3</th>\n",
       "      <td>864613</td>\n",
       "      <td>7638</td>\n",
       "      <td>2021-07-05</td>\n",
       "      <td>14483</td>\n",
       "      <td>100.0</td>\n",
       "    </tr>\n",
       "    <tr>\n",
       "      <th>4</th>\n",
       "      <td>964868</td>\n",
       "      <td>9506</td>\n",
       "      <td>2021-04-30</td>\n",
       "      <td>6725</td>\n",
       "      <td>100.0</td>\n",
       "    </tr>\n",
       "    <tr>\n",
       "      <th>...</th>\n",
       "      <td>...</td>\n",
       "      <td>...</td>\n",
       "      <td>...</td>\n",
       "      <td>...</td>\n",
       "      <td>...</td>\n",
       "    </tr>\n",
       "    <tr>\n",
       "      <th>5476246</th>\n",
       "      <td>648596</td>\n",
       "      <td>12225</td>\n",
       "      <td>2021-08-13</td>\n",
       "      <td>76</td>\n",
       "      <td>0.0</td>\n",
       "    </tr>\n",
       "    <tr>\n",
       "      <th>5476247</th>\n",
       "      <td>546862</td>\n",
       "      <td>9673</td>\n",
       "      <td>2021-04-13</td>\n",
       "      <td>2308</td>\n",
       "      <td>49.0</td>\n",
       "    </tr>\n",
       "    <tr>\n",
       "      <th>5476248</th>\n",
       "      <td>697262</td>\n",
       "      <td>15297</td>\n",
       "      <td>2021-08-20</td>\n",
       "      <td>18307</td>\n",
       "      <td>63.0</td>\n",
       "    </tr>\n",
       "    <tr>\n",
       "      <th>5476249</th>\n",
       "      <td>384202</td>\n",
       "      <td>16197</td>\n",
       "      <td>2021-04-19</td>\n",
       "      <td>6203</td>\n",
       "      <td>100.0</td>\n",
       "    </tr>\n",
       "    <tr>\n",
       "      <th>5476250</th>\n",
       "      <td>319709</td>\n",
       "      <td>4436</td>\n",
       "      <td>2021-08-15</td>\n",
       "      <td>3921</td>\n",
       "      <td>45.0</td>\n",
       "    </tr>\n",
       "  </tbody>\n",
       "</table>\n",
       "<p>5476251 rows × 5 columns</p>\n",
       "</div>"
      ],
      "text/plain": [
       "         user_id  item_id last_watch_dt  total_dur  watched_pct\n",
       "0         176549     9506    2021-05-11       4250         72.0\n",
       "1         699317     1659    2021-05-29       8317        100.0\n",
       "2         656683     7107    2021-05-09         10          0.0\n",
       "3         864613     7638    2021-07-05      14483        100.0\n",
       "4         964868     9506    2021-04-30       6725        100.0\n",
       "...          ...      ...           ...        ...          ...\n",
       "5476246   648596    12225    2021-08-13         76          0.0\n",
       "5476247   546862     9673    2021-04-13       2308         49.0\n",
       "5476248   697262    15297    2021-08-20      18307         63.0\n",
       "5476249   384202    16197    2021-04-19       6203        100.0\n",
       "5476250   319709     4436    2021-08-15       3921         45.0\n",
       "\n",
       "[5476251 rows x 5 columns]"
      ]
     },
     "execution_count": 32,
     "metadata": {},
     "output_type": "execute_result"
    }
   ],
   "source": [
    "interactions"
   ]
  },
  {
   "cell_type": "code",
   "execution_count": 33,
   "id": "729d7a65-e0e5-4ddf-824d-b4eda3349426",
   "metadata": {
    "id": "729d7a65-e0e5-4ddf-824d-b4eda3349426"
   },
   "outputs": [],
   "source": [
    "# переименовываем поля в понятные для RecTools\n",
    "\n",
    "interactions = interactions.rename(\n",
    "    columns={\n",
    "        'watched_pct': Columns.Weight,\n",
    "        'last_watch_dt': Columns.Datetime\n",
    "    }\n",
    ")\n",
    "\n",
    "interactions[Columns.Datetime] = pd.to_datetime(interactions[Columns.Datetime])"
   ]
  },
  {
   "cell_type": "markdown",
   "id": "e4bddad9-76e2-4611-b0b9-dbe6290eab5a",
   "metadata": {
    "id": "e4bddad9-76e2-4611-b0b9-dbe6290eab5a"
   },
   "source": [
    "# Interactions"
   ]
  },
  {
   "cell_type": "code",
   "execution_count": 34,
   "id": "0656ec39-6d25-44fc-a3f7-9b824a02bbcf",
   "metadata": {
    "colab": {
     "base_uri": "https://localhost:8080/",
     "height": 206
    },
    "id": "0656ec39-6d25-44fc-a3f7-9b824a02bbcf",
    "outputId": "bd2aa83e-ec92-4ca3-d6c2-09c59ee6335f"
   },
   "outputs": [
    {
     "data": {
      "text/html": [
       "<div>\n",
       "<style scoped>\n",
       "    .dataframe tbody tr th:only-of-type {\n",
       "        vertical-align: middle;\n",
       "    }\n",
       "\n",
       "    .dataframe tbody tr th {\n",
       "        vertical-align: top;\n",
       "    }\n",
       "\n",
       "    .dataframe thead th {\n",
       "        text-align: right;\n",
       "    }\n",
       "</style>\n",
       "<table border=\"1\" class=\"dataframe\">\n",
       "  <thead>\n",
       "    <tr style=\"text-align: right;\">\n",
       "      <th></th>\n",
       "      <th>user_id</th>\n",
       "      <th>item_id</th>\n",
       "      <th>datetime</th>\n",
       "      <th>total_dur</th>\n",
       "      <th>weight</th>\n",
       "    </tr>\n",
       "  </thead>\n",
       "  <tbody>\n",
       "    <tr>\n",
       "      <th>0</th>\n",
       "      <td>176549</td>\n",
       "      <td>9506</td>\n",
       "      <td>2021-05-11</td>\n",
       "      <td>4250</td>\n",
       "      <td>72.0</td>\n",
       "    </tr>\n",
       "    <tr>\n",
       "      <th>1</th>\n",
       "      <td>699317</td>\n",
       "      <td>1659</td>\n",
       "      <td>2021-05-29</td>\n",
       "      <td>8317</td>\n",
       "      <td>100.0</td>\n",
       "    </tr>\n",
       "    <tr>\n",
       "      <th>2</th>\n",
       "      <td>656683</td>\n",
       "      <td>7107</td>\n",
       "      <td>2021-05-09</td>\n",
       "      <td>10</td>\n",
       "      <td>0.0</td>\n",
       "    </tr>\n",
       "    <tr>\n",
       "      <th>3</th>\n",
       "      <td>864613</td>\n",
       "      <td>7638</td>\n",
       "      <td>2021-07-05</td>\n",
       "      <td>14483</td>\n",
       "      <td>100.0</td>\n",
       "    </tr>\n",
       "    <tr>\n",
       "      <th>4</th>\n",
       "      <td>964868</td>\n",
       "      <td>9506</td>\n",
       "      <td>2021-04-30</td>\n",
       "      <td>6725</td>\n",
       "      <td>100.0</td>\n",
       "    </tr>\n",
       "  </tbody>\n",
       "</table>\n",
       "</div>"
      ],
      "text/plain": [
       "   user_id  item_id   datetime  total_dur  weight\n",
       "0   176549     9506 2021-05-11       4250    72.0\n",
       "1   699317     1659 2021-05-29       8317   100.0\n",
       "2   656683     7107 2021-05-09         10     0.0\n",
       "3   864613     7638 2021-07-05      14483   100.0\n",
       "4   964868     9506 2021-04-30       6725   100.0"
      ]
     },
     "execution_count": 34,
     "metadata": {},
     "output_type": "execute_result"
    }
   ],
   "source": [
    "interactions.head()"
   ]
  },
  {
   "cell_type": "code",
   "execution_count": 35,
   "id": "07lzSxMKz2jc",
   "metadata": {
    "id": "07lzSxMKz2jc"
   },
   "outputs": [],
   "source": [
    "interactions[Columns.Weight].fillna(0, inplace = True)"
   ]
  },
  {
   "cell_type": "code",
   "execution_count": 36,
   "id": "LmmpILJwz6tt",
   "metadata": {
    "colab": {
     "base_uri": "https://localhost:8080/",
     "height": 53
    },
    "id": "LmmpILJwz6tt",
    "outputId": "13de47d5-6dfa-4960-ebd1-0696fcbf38f4"
   },
   "outputs": [
    {
     "data": {
      "text/html": [
       "<div>\n",
       "<style scoped>\n",
       "    .dataframe tbody tr th:only-of-type {\n",
       "        vertical-align: middle;\n",
       "    }\n",
       "\n",
       "    .dataframe tbody tr th {\n",
       "        vertical-align: top;\n",
       "    }\n",
       "\n",
       "    .dataframe thead th {\n",
       "        text-align: right;\n",
       "    }\n",
       "</style>\n",
       "<table border=\"1\" class=\"dataframe\">\n",
       "  <thead>\n",
       "    <tr style=\"text-align: right;\">\n",
       "      <th></th>\n",
       "      <th>user_id</th>\n",
       "      <th>item_id</th>\n",
       "      <th>datetime</th>\n",
       "      <th>total_dur</th>\n",
       "      <th>weight</th>\n",
       "    </tr>\n",
       "  </thead>\n",
       "  <tbody>\n",
       "  </tbody>\n",
       "</table>\n",
       "</div>"
      ],
      "text/plain": [
       "Empty DataFrame\n",
       "Columns: [user_id, item_id, datetime, total_dur, weight]\n",
       "Index: []"
      ]
     },
     "execution_count": 36,
     "metadata": {},
     "output_type": "execute_result"
    }
   ],
   "source": [
    "interactions[interactions[Columns.Weight].isna()]"
   ]
  },
  {
   "cell_type": "code",
   "execution_count": 37,
   "id": "907df73b-f0db-4412-bd49-5abba80c642a",
   "metadata": {
    "colab": {
     "base_uri": "https://localhost:8080/"
    },
    "id": "907df73b-f0db-4412-bd49-5abba80c642a",
    "outputId": "5a3680ce-607c-44b2-d550-ca60959ccfdf"
   },
   "outputs": [
    {
     "name": "stdout",
     "output_type": "stream",
     "text": [
      "<class 'pandas.core.frame.DataFrame'>\n",
      "RangeIndex: 5476251 entries, 0 to 5476250\n",
      "Data columns (total 5 columns):\n",
      " #   Column     Dtype         \n",
      "---  ------     -----         \n",
      " 0   user_id    int64         \n",
      " 1   item_id    int64         \n",
      " 2   datetime   datetime64[ns]\n",
      " 3   total_dur  int64         \n",
      " 4   weight     float64       \n",
      "dtypes: datetime64[ns](1), float64(1), int64(3)\n",
      "memory usage: 208.9 MB\n"
     ]
    }
   ],
   "source": [
    "interactions.info()"
   ]
  },
  {
   "cell_type": "code",
   "execution_count": 38,
   "id": "08b6aa45-9227-4b0d-bb3c-c3ed4885cf9d",
   "metadata": {
    "colab": {
     "base_uri": "https://localhost:8080/"
    },
    "id": "08b6aa45-9227-4b0d-bb3c-c3ed4885cf9d",
    "outputId": "bcd36c74-1412-4ef5-93b6-fa8ad149c6f1"
   },
   "outputs": [
    {
     "name": "stdout",
     "output_type": "stream",
     "text": [
      "Interactions shape (5476251, 5)\n",
      "Unique users in interactions: 962_179\n",
      "Unique items in interactions: 15_706\n",
      "min date in interactions: 2021-03-13 00:00:00\n",
      "max date in interactions: 2021-08-22 00:00:00\n"
     ]
    }
   ],
   "source": [
    "print(f\"Interactions shape {interactions.shape}\")\n",
    "print(f\"Unique users in interactions: {interactions['user_id'].nunique():_}\")\n",
    "print(f\"Unique items in interactions: {interactions['item_id'].nunique():_}\")\n",
    "print(f\"min date in interactions: {interactions['datetime'].min()}\")\n",
    "print(f\"max date in interactions: {interactions['datetime'].max()}\")"
   ]
  },
  {
   "cell_type": "markdown",
   "id": "8ca2d96f-2678-4454-bd69-7344f1514d69",
   "metadata": {
    "id": "8ca2d96f-2678-4454-bd69-7344f1514d69"
   },
   "source": [
    "# Users"
   ]
  },
  {
   "cell_type": "code",
   "execution_count": 39,
   "id": "b61c3ee5-067b-4e03-a7cd-b5d85c13cc9e",
   "metadata": {
    "colab": {
     "base_uri": "https://localhost:8080/",
     "height": 206
    },
    "id": "b61c3ee5-067b-4e03-a7cd-b5d85c13cc9e",
    "outputId": "2e30cdf7-bf69-43ea-f0f9-6cdfba9d2983"
   },
   "outputs": [
    {
     "data": {
      "text/html": [
       "<div>\n",
       "<style scoped>\n",
       "    .dataframe tbody tr th:only-of-type {\n",
       "        vertical-align: middle;\n",
       "    }\n",
       "\n",
       "    .dataframe tbody tr th {\n",
       "        vertical-align: top;\n",
       "    }\n",
       "\n",
       "    .dataframe thead th {\n",
       "        text-align: right;\n",
       "    }\n",
       "</style>\n",
       "<table border=\"1\" class=\"dataframe\">\n",
       "  <thead>\n",
       "    <tr style=\"text-align: right;\">\n",
       "      <th></th>\n",
       "      <th>Unnamed: 0</th>\n",
       "      <th>user_id</th>\n",
       "      <th>age</th>\n",
       "      <th>income</th>\n",
       "      <th>sex</th>\n",
       "      <th>kids_flg</th>\n",
       "    </tr>\n",
       "  </thead>\n",
       "  <tbody>\n",
       "    <tr>\n",
       "      <th>0</th>\n",
       "      <td>0</td>\n",
       "      <td>973171</td>\n",
       "      <td>age_25_34</td>\n",
       "      <td>income_60_90</td>\n",
       "      <td>M</td>\n",
       "      <td>1</td>\n",
       "    </tr>\n",
       "    <tr>\n",
       "      <th>1</th>\n",
       "      <td>1</td>\n",
       "      <td>962099</td>\n",
       "      <td>age_18_24</td>\n",
       "      <td>income_20_40</td>\n",
       "      <td>M</td>\n",
       "      <td>0</td>\n",
       "    </tr>\n",
       "    <tr>\n",
       "      <th>2</th>\n",
       "      <td>2</td>\n",
       "      <td>1047345</td>\n",
       "      <td>age_45_54</td>\n",
       "      <td>income_40_60</td>\n",
       "      <td>F</td>\n",
       "      <td>0</td>\n",
       "    </tr>\n",
       "    <tr>\n",
       "      <th>3</th>\n",
       "      <td>3</td>\n",
       "      <td>721985</td>\n",
       "      <td>age_45_54</td>\n",
       "      <td>income_20_40</td>\n",
       "      <td>F</td>\n",
       "      <td>0</td>\n",
       "    </tr>\n",
       "    <tr>\n",
       "      <th>4</th>\n",
       "      <td>4</td>\n",
       "      <td>704055</td>\n",
       "      <td>age_35_44</td>\n",
       "      <td>income_60_90</td>\n",
       "      <td>F</td>\n",
       "      <td>0</td>\n",
       "    </tr>\n",
       "  </tbody>\n",
       "</table>\n",
       "</div>"
      ],
      "text/plain": [
       "   Unnamed: 0  user_id        age        income sex  kids_flg\n",
       "0           0   973171  age_25_34  income_60_90   M         1\n",
       "1           1   962099  age_18_24  income_20_40   M         0\n",
       "2           2  1047345  age_45_54  income_40_60   F         0\n",
       "3           3   721985  age_45_54  income_20_40   F         0\n",
       "4           4   704055  age_35_44  income_60_90   F         0"
      ]
     },
     "execution_count": 39,
     "metadata": {},
     "output_type": "execute_result"
    }
   ],
   "source": [
    "users.head()"
   ]
  },
  {
   "cell_type": "code",
   "execution_count": 40,
   "id": "45bf0d82-b518-4c45-a3a5-db771cda9585",
   "metadata": {
    "colab": {
     "base_uri": "https://localhost:8080/"
    },
    "id": "45bf0d82-b518-4c45-a3a5-db771cda9585",
    "outputId": "24dbb7ab-ae4d-4611-8e71-cabd3e630aa1"
   },
   "outputs": [
    {
     "name": "stdout",
     "output_type": "stream",
     "text": [
      "<class 'pandas.core.frame.DataFrame'>\n",
      "RangeIndex: 840197 entries, 0 to 840196\n",
      "Data columns (total 6 columns):\n",
      " #   Column      Non-Null Count   Dtype \n",
      "---  ------      --------------   ----- \n",
      " 0   Unnamed: 0  840197 non-null  int64 \n",
      " 1   user_id     840197 non-null  int64 \n",
      " 2   age         826102 non-null  object\n",
      " 3   income      825421 non-null  object\n",
      " 4   sex         826366 non-null  object\n",
      " 5   kids_flg    840197 non-null  int64 \n",
      "dtypes: int64(3), object(3)\n",
      "memory usage: 38.5+ MB\n"
     ]
    }
   ],
   "source": [
    "users.info()"
   ]
  },
  {
   "cell_type": "code",
   "execution_count": 41,
   "id": "e1dccc35-89bc-4fe2-b76b-ecd8c7f2aa93",
   "metadata": {
    "colab": {
     "base_uri": "https://localhost:8080/"
    },
    "id": "e1dccc35-89bc-4fe2-b76b-ecd8c7f2aa93",
    "outputId": "241b438a-5e41-47bb-8521-decae2b267f4"
   },
   "outputs": [
    {
     "name": "stdout",
     "output_type": "stream",
     "text": [
      "Users shape (840197, 6)\n",
      "Unique users: 840_197\n"
     ]
    }
   ],
   "source": [
    "print(f\"Users shape {users.shape}\")\n",
    "print(f\"Unique users: {users['user_id'].nunique():_}\")"
   ]
  },
  {
   "cell_type": "markdown",
   "id": "73e00ba0-45a6-4214-98b9-1eb9ded2e3ce",
   "metadata": {
    "id": "73e00ba0-45a6-4214-98b9-1eb9ded2e3ce"
   },
   "source": [
    "# Items"
   ]
  },
  {
   "cell_type": "code",
   "execution_count": 42,
   "id": "b827b2f5-065d-484f-ab9e-c87ba14a70f0",
   "metadata": {
    "colab": {
     "base_uri": "https://localhost:8080/"
    },
    "id": "b827b2f5-065d-484f-ab9e-c87ba14a70f0",
    "outputId": "605a8271-20e0-4b36-8778-95415323e95b"
   },
   "outputs": [
    {
     "name": "stdout",
     "output_type": "stream",
     "text": [
      "<class 'pandas.core.frame.DataFrame'>\n",
      "RangeIndex: 15963 entries, 0 to 15962\n",
      "Data columns (total 17 columns):\n",
      " #   Column                 Non-Null Count  Dtype  \n",
      "---  ------                 --------------  -----  \n",
      " 0   Unnamed: 0             15963 non-null  int64  \n",
      " 1   item_id                15963 non-null  int64  \n",
      " 2   content_type           15963 non-null  object \n",
      " 3   title                  15961 non-null  object \n",
      " 4   title_orig             11218 non-null  object \n",
      " 5   release_year           15865 non-null  float64\n",
      " 6   genres                 15963 non-null  object \n",
      " 7   countries              15963 non-null  object \n",
      " 8   for_kids               566 non-null    float64\n",
      " 9   age_rating             15961 non-null  float64\n",
      " 10  studios                1065 non-null   object \n",
      " 11  description            15963 non-null  object \n",
      " 12  keywords               15534 non-null  object \n",
      " 13  actors_translated      13344 non-null  object \n",
      " 14  actors_transliterated  13344 non-null  object \n",
      " 15  directors_translated   14439 non-null  object \n",
      " 16  transliterated         14454 non-null  object \n",
      "dtypes: float64(3), int64(2), object(12)\n",
      "memory usage: 2.1+ MB\n"
     ]
    }
   ],
   "source": [
    "items.info()"
   ]
  },
  {
   "cell_type": "code",
   "execution_count": 44,
   "id": "ea3ae35c-4d4d-40ca-b682-084d6d2530d7",
   "metadata": {},
   "outputs": [
    {
     "data": {
      "text/html": [
       "<div>\n",
       "<style scoped>\n",
       "    .dataframe tbody tr th:only-of-type {\n",
       "        vertical-align: middle;\n",
       "    }\n",
       "\n",
       "    .dataframe tbody tr th {\n",
       "        vertical-align: top;\n",
       "    }\n",
       "\n",
       "    .dataframe thead th {\n",
       "        text-align: right;\n",
       "    }\n",
       "</style>\n",
       "<table border=\"1\" class=\"dataframe\">\n",
       "  <thead>\n",
       "    <tr style=\"text-align: right;\">\n",
       "      <th></th>\n",
       "      <th>Unnamed: 0</th>\n",
       "      <th>item_id</th>\n",
       "      <th>content_type</th>\n",
       "      <th>title</th>\n",
       "      <th>title_orig</th>\n",
       "      <th>release_year</th>\n",
       "      <th>genres</th>\n",
       "      <th>countries</th>\n",
       "      <th>for_kids</th>\n",
       "      <th>age_rating</th>\n",
       "      <th>studios</th>\n",
       "      <th>description</th>\n",
       "      <th>keywords</th>\n",
       "      <th>actors_translated</th>\n",
       "      <th>actors_transliterated</th>\n",
       "      <th>directors_translated</th>\n",
       "      <th>transliterated</th>\n",
       "    </tr>\n",
       "  </thead>\n",
       "  <tbody>\n",
       "    <tr>\n",
       "      <th>0</th>\n",
       "      <td>0</td>\n",
       "      <td>10711</td>\n",
       "      <td>film</td>\n",
       "      <td>Talk to her</td>\n",
       "      <td>Hable con ella</td>\n",
       "      <td>2002.0</td>\n",
       "      <td>drama, foreign, detective, melodrama</td>\n",
       "      <td>Spain</td>\n",
       "      <td>NaN</td>\n",
       "      <td>16.0</td>\n",
       "      <td>NaN</td>\n",
       "      <td>Marco, a journalist, interviews the famous Tor...</td>\n",
       "      <td>Talk, her, 2002, Spain, friends, love, strong,...</td>\n",
       "      <td>Adolfo Fernández, Ana Fernández, Dario Grandin...</td>\n",
       "      <td>Adol'fo Fernandes, Ana Fernandes, Dario Grandi...</td>\n",
       "      <td>Pedro Almodovar</td>\n",
       "      <td>Pedro Al'modovar</td>\n",
       "    </tr>\n",
       "    <tr>\n",
       "      <th>1</th>\n",
       "      <td>1</td>\n",
       "      <td>2508</td>\n",
       "      <td>film</td>\n",
       "      <td>Naked Peppers</td>\n",
       "      <td>Search Party</td>\n",
       "      <td>2014.0</td>\n",
       "      <td>foreign, adventure, comedy</td>\n",
       "      <td>USA</td>\n",
       "      <td>NaN</td>\n",
       "      <td>16.0</td>\n",
       "      <td>NaN</td>\n",
       "      <td>The main character has learned not to invite h...</td>\n",
       "      <td>Naked, Peppers, 2014, USA, friends, weddings, ...</td>\n",
       "      <td>Adam Palley, Brian Huskey, JB Smoove, Jason Ma...</td>\n",
       "      <td>Adam Palli, Brajan Haski, Dzh.B. Smuv, Dzhejso...</td>\n",
       "      <td>Scott Armstrong</td>\n",
       "      <td>Skot Armstrong</td>\n",
       "    </tr>\n",
       "    <tr>\n",
       "      <th>2</th>\n",
       "      <td>2</td>\n",
       "      <td>10716</td>\n",
       "      <td>film</td>\n",
       "      <td>Tactical force</td>\n",
       "      <td>Tactical Force</td>\n",
       "      <td>2011.0</td>\n",
       "      <td>crime, foreign, thrillers, action, comedy</td>\n",
       "      <td>Canada</td>\n",
       "      <td>NaN</td>\n",
       "      <td>16.0</td>\n",
       "      <td>NaN</td>\n",
       "      <td>Professional wrestler Steve Austin (\"All or No...</td>\n",
       "      <td>Tactical, Force, 2011, Canada, bandits, gangst...</td>\n",
       "      <td>Adrian Holmes, Darren Shalavi, Jerry Wasserman...</td>\n",
       "      <td>Adrian Holms, Darren Shalavi, Dzherri Vasserma...</td>\n",
       "      <td>Adam P. Caltraro</td>\n",
       "      <td>Adam P. Kaltraro</td>\n",
       "    </tr>\n",
       "    <tr>\n",
       "      <th>3</th>\n",
       "      <td>3</td>\n",
       "      <td>7868</td>\n",
       "      <td>film</td>\n",
       "      <td>45 years old</td>\n",
       "      <td>45 Years</td>\n",
       "      <td>2015.0</td>\n",
       "      <td>drama, foreign, melodrama</td>\n",
       "      <td>UK</td>\n",
       "      <td>NaN</td>\n",
       "      <td>16.0</td>\n",
       "      <td>NaN</td>\n",
       "      <td>Charlotte Rampling, Tom Courtney, Geraldine Ja...</td>\n",
       "      <td>45, years, 2015, United Kingdom, marriage, lif...</td>\n",
       "      <td>Alexandra Riddleston-Barrett, Geraldine James,...</td>\n",
       "      <td>Aleksandra Riddlston-Barrett, Dzheral'din Dzhe...</td>\n",
       "      <td>By Andrew Hay</td>\n",
       "      <td>Endrju Hej</td>\n",
       "    </tr>\n",
       "    <tr>\n",
       "      <th>4</th>\n",
       "      <td>4</td>\n",
       "      <td>16268</td>\n",
       "      <td>film</td>\n",
       "      <td>Everything Solves in a Moment</td>\n",
       "      <td>NaN</td>\n",
       "      <td>1978.0</td>\n",
       "      <td>drama, sport, soviet, melodrama</td>\n",
       "      <td>USSR</td>\n",
       "      <td>NaN</td>\n",
       "      <td>12.0</td>\n",
       "      <td>Lenfilm</td>\n",
       "      <td>The circle of her mentors and the most loyal f...</td>\n",
       "      <td>Everything that decides, moment, 1978, USSR, s...</td>\n",
       "      <td>Aleksandr Abdulov, Aleksandr Demyanenko, Alexe...</td>\n",
       "      <td>Aleksandr Abdulov, Aleksandr Dem'janenko, Alek...</td>\n",
       "      <td>Victor Sadovsky</td>\n",
       "      <td>Viktor Sadovskij</td>\n",
       "    </tr>\n",
       "  </tbody>\n",
       "</table>\n",
       "</div>"
      ],
      "text/plain": [
       "   Unnamed: 0  item_id content_type                          title  \\\n",
       "0           0    10711         film                    Talk to her   \n",
       "1           1     2508         film                  Naked Peppers   \n",
       "2           2    10716         film                 Tactical force   \n",
       "3           3     7868         film                   45 years old   \n",
       "4           4    16268         film  Everything Solves in a Moment   \n",
       "\n",
       "       title_orig  release_year                                     genres  \\\n",
       "0  Hable con ella        2002.0       drama, foreign, detective, melodrama   \n",
       "1    Search Party        2014.0                 foreign, adventure, comedy   \n",
       "2  Tactical Force        2011.0  crime, foreign, thrillers, action, comedy   \n",
       "3        45 Years        2015.0                  drama, foreign, melodrama   \n",
       "4             NaN        1978.0            drama, sport, soviet, melodrama   \n",
       "\n",
       "  countries  for_kids  age_rating  studios  \\\n",
       "0     Spain       NaN        16.0      NaN   \n",
       "1       USA       NaN        16.0      NaN   \n",
       "2    Canada       NaN        16.0      NaN   \n",
       "3        UK       NaN        16.0      NaN   \n",
       "4      USSR       NaN        12.0  Lenfilm   \n",
       "\n",
       "                                         description  \\\n",
       "0  Marco, a journalist, interviews the famous Tor...   \n",
       "1  The main character has learned not to invite h...   \n",
       "2  Professional wrestler Steve Austin (\"All or No...   \n",
       "3  Charlotte Rampling, Tom Courtney, Geraldine Ja...   \n",
       "4  The circle of her mentors and the most loyal f...   \n",
       "\n",
       "                                            keywords  \\\n",
       "0  Talk, her, 2002, Spain, friends, love, strong,...   \n",
       "1  Naked, Peppers, 2014, USA, friends, weddings, ...   \n",
       "2  Tactical, Force, 2011, Canada, bandits, gangst...   \n",
       "3  45, years, 2015, United Kingdom, marriage, lif...   \n",
       "4  Everything that decides, moment, 1978, USSR, s...   \n",
       "\n",
       "                                   actors_translated  \\\n",
       "0  Adolfo Fernández, Ana Fernández, Dario Grandin...   \n",
       "1  Adam Palley, Brian Huskey, JB Smoove, Jason Ma...   \n",
       "2  Adrian Holmes, Darren Shalavi, Jerry Wasserman...   \n",
       "3  Alexandra Riddleston-Barrett, Geraldine James,...   \n",
       "4  Aleksandr Abdulov, Aleksandr Demyanenko, Alexe...   \n",
       "\n",
       "                               actors_transliterated directors_translated  \\\n",
       "0  Adol'fo Fernandes, Ana Fernandes, Dario Grandi...      Pedro Almodovar   \n",
       "1  Adam Palli, Brajan Haski, Dzh.B. Smuv, Dzhejso...      Scott Armstrong   \n",
       "2  Adrian Holms, Darren Shalavi, Dzherri Vasserma...     Adam P. Caltraro   \n",
       "3  Aleksandra Riddlston-Barrett, Dzheral'din Dzhe...        By Andrew Hay   \n",
       "4  Aleksandr Abdulov, Aleksandr Dem'janenko, Alek...      Victor Sadovsky   \n",
       "\n",
       "     transliterated  \n",
       "0  Pedro Al'modovar  \n",
       "1    Skot Armstrong  \n",
       "2  Adam P. Kaltraro  \n",
       "3        Endrju Hej  \n",
       "4  Viktor Sadovskij  "
      ]
     },
     "execution_count": 44,
     "metadata": {},
     "output_type": "execute_result"
    }
   ],
   "source": [
    "items.head()"
   ]
  },
  {
   "cell_type": "code",
   "execution_count": 45,
   "id": "c83c0849-b349-403e-b80c-c6b5f325ae99",
   "metadata": {
    "colab": {
     "base_uri": "https://localhost:8080/"
    },
    "id": "c83c0849-b349-403e-b80c-c6b5f325ae99",
    "outputId": "b08d184f-3b00-4551-f7b0-ee3bc70ea19d"
   },
   "outputs": [
    {
     "name": "stdout",
     "output_type": "stream",
     "text": [
      "Items dataframe shape (15963, 17)\n",
      "Unique item_id: 15_963\n"
     ]
    }
   ],
   "source": [
    "print(f\"Items dataframe shape {items.shape}\")\n",
    "print(f\"Unique item_id: {items['item_id'].nunique():_}\")"
   ]
  },
  {
   "cell_type": "code",
   "execution_count": null,
   "id": "30df08d3-f608-46eb-ae79-f71ed174869b",
   "metadata": {},
   "outputs": [],
   "source": []
  },
  {
   "cell_type": "markdown",
   "id": "86052d0f-078f-45bb-a3be-aba533aef90b",
   "metadata": {
    "id": "86052d0f-078f-45bb-a3be-aba533aef90b"
   },
   "source": [
    "# Train test split"
   ]
  },
  {
   "cell_type": "code",
   "execution_count": 46,
   "id": "5144de28-c305-46ff-b098-b0014fbe81f5",
   "metadata": {
    "colab": {
     "base_uri": "https://localhost:8080/"
    },
    "id": "5144de28-c305-46ff-b098-b0014fbe81f5",
    "outputId": "40f6acd7-fa97-4517-8d04-824695541b14"
   },
   "outputs": [
    {
     "name": "stdout",
     "output_type": "stream",
     "text": [
      "min date in interactions: 2021-03-13 00:00:00\n",
      "max date in interactions: 2021-08-22 00:00:00\n"
     ]
    }
   ],
   "source": [
    "min_date = interactions['datetime'].min()\n",
    "max_date = interactions['datetime'].max()\n",
    "\n",
    "print(f\"min date in interactions: {min_date}\")\n",
    "print(f\"max date in interactions: {max_date}\")"
   ]
  },
  {
   "cell_type": "code",
   "execution_count": 47,
   "id": "1c1c0e15-04b3-4bba-be2b-eaea1a060730",
   "metadata": {
    "colab": {
     "base_uri": "https://localhost:8080/",
     "height": 845
    },
    "id": "1c1c0e15-04b3-4bba-be2b-eaea1a060730",
    "outputId": "35611010-4d97-4b96-8490-63d1f9c3cf68"
   },
   "outputs": [
    {
     "data": {
      "image/png": "[encoded data removed]",
      "text/plain": [
       "<Figure size 2000x1000 with 1 Axes>"
      ]
     },
     "metadata": {},
     "output_type": "display_data"
    }
   ],
   "source": [
    "daily_iters = interactions.groupby(Columns.Datetime)[Columns.Datetime].agg(\"count\")\n",
    "daily_iters.name = \"interactions\"\n",
    "\n",
    "sns.set_theme(rc={'figure.figsize':(20, 10)})\n",
    "ax = sns.barplot(daily_iters)\n",
    "plt.xticks(rotation=90);"
   ]
  },
  {
   "cell_type": "markdown",
   "id": "0d50f17d-9828-4b04-8418-9f1f65409dbf",
   "metadata": {
    "id": "0d50f17d-9828-4b04-8418-9f1f65409dbf"
   },
   "source": [
    "Из графика распределения интеракций по дням можно заметить **недельные тренды** -> **на валидацию и тест можем брать по одной неделе**"
   ]
  },
  {
   "cell_type": "code",
   "execution_count": 48,
   "id": "4ce38ca2-967c-4143-8677-9cd98b762730",
   "metadata": {
    "colab": {
     "base_uri": "https://localhost:8080/"
    },
    "id": "4ce38ca2-967c-4143-8677-9cd98b762730",
    "outputId": "9639a9d9-00fd-4e2a-9731-3fa05ca78275"
   },
   "outputs": [
    {
     "name": "stdout",
     "output_type": "stream",
     "text": [
      "train: (1528877, 5)\n",
      "test hot: (312789, 5)\n"
     ]
    }
   ],
   "source": [
    "max_date = interactions['datetime'].max()\n",
    "\n",
    "train = interactions[(interactions['datetime'] < max_date - pd.Timedelta(days=7)) &\n",
    "                     (interactions['datetime'] > max_date - pd.Timedelta(days=37))]\n",
    "test = interactions[(interactions['datetime'] >= max_date - pd.Timedelta(days=7))]\n",
    "\n",
    "# оставляем только горячих пользователей в тесте\n",
    "test_hot = test[test['user_id'].isin(train['user_id'].unique())]\n",
    "\n",
    "print(f\"train: {train.shape}\")\n",
    "print(f\"test hot: {test_hot.shape}\")"
   ]
  },
  {
   "cell_type": "markdown",
   "id": "e16a1b41-f95f-4b45-afc6-3cbdd7b74fbe",
   "metadata": {
    "id": "e16a1b41-f95f-4b45-afc6-3cbdd7b74fbe"
   },
   "source": [
    "# Models w/o features"
   ]
  },
  {
   "cell_type": "markdown",
   "id": "7cd0c1fd-2cf3-42e1-968a-f1ec3e4ada86",
   "metadata": {
    "id": "7cd0c1fd-2cf3-42e1-968a-f1ec3e4ada86"
   },
   "source": [
    "Создаем rectools.Dataset без фичей:"
   ]
  },
  {
   "cell_type": "code",
   "execution_count": 49,
   "id": "204c68db-c01b-4465-b5c5-913bd4444f7b",
   "metadata": {
    "id": "204c68db-c01b-4465-b5c5-913bd4444f7b"
   },
   "outputs": [],
   "source": [
    "dataset = Dataset.construct(\n",
    "    interactions_df=train,\n",
    "    user_features_df=None,\n",
    "    item_features_df=None,\n",
    ")"
   ]
  },
  {
   "cell_type": "code",
   "execution_count": 50,
   "id": "673d4892-0eaf-4d68-a9b4-8a23c1dfc9b1",
   "metadata": {
    "id": "673d4892-0eaf-4d68-a9b4-8a23c1dfc9b1"
   },
   "outputs": [],
   "source": [
    "K_RECOS = 10\n",
    "RANDOM_STATE = 32\n",
    "NUM_THREADS = 16\n",
    "N_FACTORS = [4, 16, 32]"
   ]
  },
  {
   "cell_type": "markdown",
   "id": "xAEPBWAekJdR",
   "metadata": {
    "id": "xAEPBWAekJdR"
   },
   "source": [
    "### PureSVD: Реализация RecTools <a class=\"anchor\" id=\"svd_impl\"></a>\n",
    "RecTools реализует усеченную версию SVD. Для этого необходимо извлечь k факторов, то есть взять k наибольших сингулярных значений из $\\Sigma$ и k первых столбцов из U и V.\n",
    "\n",
    "Латентные представления пользователей и предметов следующие:\n",
    "\n",
    "1. факторы пользователей $X$ = $U$\n",
    "   \n",
    "2. факторы предметов $Y$ = $\\Sigma \\cdot V^{T}$\n",
    "\n",
    "\n",
    "RecTools использует scipy.sparse.linalg.svds для вычисления декомпозиции.\n",
    "\n",
    "### Формирование Рекомендаций <a class=\"anchor\" id=\"svd_rec\"></a>\n",
    "1. Рекомендация для пары пользователь/вещь выглядит следующим образом: $\\hat{r_{ui}} = x_u y_i$\n",
    "\n",
    "2. Берем k предметов с наибольшим $\\hat{r_{ui}}$ для фиксированного пользователя\n",
    "\n",
    "### Применение модели <a class=\"anchor\" id=\"svd_apply\"></a>\n",
    "* Указываем размер вложения с помощью PureSVDModel `factors`\n",
    "* Если мы используем набор данных с характеристиками для `fit` и `recommend`, модель просто пропускает эту информацию."
   ]
  },
  {
   "cell_type": "code",
   "execution_count": 119,
   "id": "c148b382-7f74-4ce1-b1f3-413b6600fd85",
   "metadata": {
    "id": "c148b382-7f74-4ce1-b1f3-413b6600fd85"
   },
   "outputs": [],
   "source": [
    "models = {}\n",
    "\n",
    "for factors in N_FACTORS:\n",
    "  models[f\"PureSVD_{factors}\"] = PureSVDModel(factors=factors)"
   ]
  },
  {
   "cell_type": "code",
   "execution_count": 120,
   "id": "iaOBxzBDjolr",
   "metadata": {
    "colab": {
     "base_uri": "https://localhost:8080/"
    },
    "id": "iaOBxzBDjolr",
    "outputId": "3ab583dd-87a7-4e86-ee77-92fc45c1c0d0"
   },
   "outputs": [
    {
     "data": {
      "text/plain": [
       "{'PureSVD_4': <rectools.models.pure_svd.PureSVDModel at 0x2c31f4fb0>,\n",
       " 'PureSVD_16': <rectools.models.pure_svd.PureSVDModel at 0x2d75eae70>,\n",
       " 'PureSVD_32': <rectools.models.pure_svd.PureSVDModel at 0x2d75ebce0>}"
      ]
     },
     "execution_count": 120,
     "metadata": {},
     "output_type": "execute_result"
    }
   ],
   "source": [
    "models"
   ]
  },
  {
   "cell_type": "markdown",
   "id": "s2UDJUSnmfEE",
   "metadata": {
    "id": "s2UDJUSnmfEE"
   },
   "source": [
    "### Применение модели ALS<a class=\"anchor\" id=\"ials_apply\"></a>\n",
    "* Укажите размер латентных представлений с помощью `factors `\n",
    "* Укажите коэффициент `regularization`\n",
    "* Укажите `iterations` для количества эпох обучения модели\n",
    "* Для вычисления \"уверенности\" с помощью `AlternatingLeastSquares` используется `alpha`. Веса взаимодействий, которые уже присутствуют в наборе данных, будут умножены на это число. Помните, что $c_{ui} = 1 + \\alpha r_{ui}$ и веса взаимодействий рассматриваются как доверие к наблюдениям\n",
    "* Передайте модель `AlternatingLeastSquares` в обертку\n",
    "* Используйте набор данных с признаками для `fit` и `recommend`, чтобы добавить обработку признаков в модель."
   ]
  },
  {
   "cell_type": "code",
   "execution_count": 121,
   "id": "08c3fa16-8616-45d4-87b0-bc461ff961da",
   "metadata": {
    "id": "08c3fa16-8616-45d4-87b0-bc461ff961da"
   },
   "outputs": [],
   "source": [
    "for factors in N_FACTORS:\n",
    "  models[f\"ALS_factors_{factors}\"] = ImplicitALSWrapperModel(\n",
    "      model=AlternatingLeastSquares(\n",
    "          factors=factors,\n",
    "          random_state=RANDOM_STATE,\n",
    "          num_threads=NUM_THREADS\n",
    "      )\n",
    "  )"
   ]
  },
  {
   "cell_type": "markdown",
   "id": "wuZrnhVOk6em",
   "metadata": {
    "id": "wuZrnhVOk6em"
   },
   "source": [
    "### BPR: Построение Рекомендаций <a class=\"anchor\" id=\"bpr_rec\"></a>\n",
    "Рекомендации для всех пользователей получаются из перемножения выученных матриц встраивания $X^T$ и $Y$ (в зависимости от реализации к итоговым оценкам могут быть добавлены пользовательские и/или предметные погрешности). После этого можно извлечь топ-к предметов.\n",
    "\n",
    "### Реализация RecTools <a class=\"anchor\" id=\"bpr_impl\"></a>\n",
    "RecTools предоставляет обертку для `имплицитной` `BayesianPersonalizedRanking` модели. Реализация `имплицитной` модели имеет несколько важных особенностей:\n",
    "- **Модель игнорирует веса взаимодействий** и рассматривает все взаимодействия в наборе данных одинаково\n",
    "- Фактор `регуляризации` является общим для факторов пользователя и продукта\n",
    "- Модель обучается с помощью SGD\n",
    "- Применяется **основанная на популярности** отрицательная выборка\n"
   ]
  },
  {
   "cell_type": "code",
   "execution_count": 122,
   "id": "eIaEx8F7xMFj",
   "metadata": {
    "id": "eIaEx8F7xMFj"
   },
   "outputs": [],
   "source": [
    "for factors in N_FACTORS:\n",
    "  models[f\"BPR_factors_{factors}\"] = ImplicitBPRWrapperModel(\n",
    "      model=BayesianPersonalizedRanking(\n",
    "          factors=factors,\n",
    "          random_state=RANDOM_STATE,\n",
    "          num_threads=NUM_THREADS\n",
    "      )\n",
    "  )"
   ]
  },
  {
   "cell_type": "markdown",
   "id": "FJWoDkW-nPp9",
   "metadata": {
    "id": "FJWoDkW-nPp9"
   },
   "source": [
    "### Logistic Matrix Factorization: Построение Рекомендаций <a class=\"anchor\" id=\"bpr_rec\"></a>"
   ]
  },
  {
   "cell_type": "code",
   "execution_count": 123,
   "id": "L30dz2VqnVMJ",
   "metadata": {
    "id": "L30dz2VqnVMJ"
   },
   "outputs": [],
   "source": [
    "ui_csr = dataset.interactions.get_user_item_matrix()\n",
    "test_users_lmf = dataset.user_id_map.convert_to_internal(test_hot[Columns.User].unique())"
   ]
  },
  {
   "cell_type": "code",
   "execution_count": 124,
   "id": "T9yi6uz0nt7q",
   "metadata": {
    "colab": {
     "base_uri": "https://localhost:8080/",
     "height": 113,
     "referenced_widgets": [
      "5f2ec959ce9242ddbd85332a25e067af",
      "63b31ffd312144a9b863c8691ade9693",
      "717934183a304c43b518cea1771b8a71",
      "e2883c02bafd443086df8a96ae4149c2",
      "751bfbf0fb6d465b926f7698a682585e",
      "7ab6e2e3c2cf45eb96341f09727ab8fd",
      "70e607f0c0e74d3abb54a9bcbf4e82e7",
      "7e33fd240aae49f197575ec9bac5aefa",
      "621395c5303d4f8da4e02780c59e5b22",
      "33f11113e296487397af9fe12b14a3fc",
      "d7d61827498c4a76b08cd4c93df7552c",
      "1aba11865b93479a87597a32266d7651",
      "412b5d1e20aa4afca2d98551ed4c0531",
      "3ad049afe3d44174bdcb5134dd909e89",
      "f3fb008eec99480fb1a23b20155cb931",
      "57b60a7ad7dc4a16beeadddc68cc67c7",
      "60d82231214e4069b1c293cb24b72194",
      "e97861e9f9bd48b0aa49cafb568389c7",
      "44179ba5feab40fe9f224f8b20381420",
      "2f87307ccaf2456ea8b5bee4da926491",
      "f7b161c27c5b4e408568976ba139d1e4",
      "968fbb880f124b67955c8d6409579299",
      "03bab3fd70764d1385ec73453ef6c0b1",
      "a0136f025f084c949493b7c9291a100b",
      "f70228ff3bea4c1882b2e96479e4a8bf",
      "12856663d211475a9bc155f5ef1db256",
      "2905b8e76b8447a1a14583246d5c6492",
      "15f0e9ce02084adf9b235872d155348b",
      "0d234662c0f1479c961c24ac586ac374",
      "ef0a9b55bbe04437a7b196738924b314",
      "84520684b1e74636a250083f7edb372d",
      "6292ca2295d1485393910cb03ddb18d2",
      "e08bfab00047443597086c43b0208901"
     ]
    },
    "id": "T9yi6uz0nt7q",
    "outputId": "861a987b-ed3e-4c47-ba4b-2686381590bf"
   },
   "outputs": [
    {
     "data": {
      "application/vnd.jupyter.widget-view+json": {
       "model_id": "e5bd0de13e274f93bc23c381a58b0bf5",
       "version_major": 2,
       "version_minor": 0
      },
      "text/plain": [
       "  0%|          | 0/30 [00:00<?, ?it/s]"
      ]
     },
     "metadata": {},
     "output_type": "display_data"
    },
    {
     "data": {
      "application/vnd.jupyter.widget-view+json": {
       "model_id": "fea434ca2f254da099a1bc728896f4a1",
       "version_major": 2,
       "version_minor": 0
      },
      "text/plain": [
       "  0%|          | 0/30 [00:00<?, ?it/s]"
      ]
     },
     "metadata": {},
     "output_type": "display_data"
    },
    {
     "data": {
      "application/vnd.jupyter.widget-view+json": {
       "model_id": "9b436f23d43e4b20a135173a489bb7bf",
       "version_major": 2,
       "version_minor": 0
      },
      "text/plain": [
       "  0%|          | 0/30 [00:00<?, ?it/s]"
      ]
     },
     "metadata": {},
     "output_type": "display_data"
    }
   ],
   "source": [
    "for factors in N_FACTORS:\n",
    "  models[f\"LMF_factors_{factors}\"] = LogisticMatrixFactorization(\n",
    "    factors=factors,\n",
    "    random_state=RANDOM_STATE,\n",
    "    num_threads=NUM_THREADS\n",
    "  )\n",
    "  models[f\"LMF_factors_{factors}\"].fit(ui_csr)"
   ]
  },
  {
   "cell_type": "code",
   "execution_count": 125,
   "id": "ef68d995-3fb5-4d5a-b120-f4fc02ca8179",
   "metadata": {
    "colab": {
     "base_uri": "https://localhost:8080/"
    },
    "id": "ef68d995-3fb5-4d5a-b120-f4fc02ca8179",
    "outputId": "51cb8634-f611-4984-819f-b4024cc08fa9"
   },
   "outputs": [
    {
     "data": {
      "text/plain": [
       "{'precision@3': Precision(k=3, debias_config=None, r_precision=False),\n",
       " 'precision@5': Precision(k=5, debias_config=None, r_precision=False),\n",
       " 'precision@10': Precision(k=10, debias_config=None, r_precision=False),\n",
       " 'recall@3': Recall(k=3, debias_config=None),\n",
       " 'recall@5': Recall(k=5, debias_config=None),\n",
       " 'recall@10': Recall(k=10, debias_config=None),\n",
       " 'ndcg@3': NDCG(k=3, debias_config=None, log_base=2, divide_by_achievable=False),\n",
       " 'ndcg@5': NDCG(k=5, debias_config=None, log_base=2, divide_by_achievable=False),\n",
       " 'ndcg@10': NDCG(k=10, debias_config=None, log_base=2, divide_by_achievable=False),\n",
       " 'serendipity@3': Serendipity(k=3),\n",
       " 'serendipity@5': Serendipity(k=5),\n",
       " 'serendipity@10': Serendipity(k=10),\n",
       " 'novelty@3': MeanInvUserFreq(k=3),\n",
       " 'novelty@5': MeanInvUserFreq(k=5),\n",
       " 'novelty@10': MeanInvUserFreq(k=10)}"
      ]
     },
     "execution_count": 125,
     "metadata": {},
     "output_type": "execute_result"
    }
   ],
   "source": [
    "# Объявляем метрики\n",
    "metrics_name = {\n",
    "    \"precision\": Precision,\n",
    "    \"recall\": Recall,\n",
    "    \"ndcg\": NDCG,\n",
    "    \"serendipity\": Serendipity,\n",
    "    \"novelty\": MeanInvUserFreq,\n",
    "}\n",
    "K = [3, 5, 10]\n",
    "\n",
    "\n",
    "metrics = {}\n",
    "for metric_name, metric in metrics_name.items():\n",
    "    for k in K:\n",
    "        metrics[f'{metric_name}@{k}'] = metric(k=k)\n",
    "metrics"
   ]
  },
  {
   "cell_type": "code",
   "execution_count": 126,
   "id": "OTUbxRlhEQTr",
   "metadata": {
    "colab": {
     "base_uri": "https://localhost:8080/"
    },
    "id": "OTUbxRlhEQTr",
    "outputId": "761b07b2-2eb7-46bd-f7ec-bc08238f49a4"
   },
   "outputs": [
    {
     "data": {
      "text/plain": [
       "{'PureSVD_4': <rectools.models.pure_svd.PureSVDModel at 0x2c31f4fb0>,\n",
       " 'PureSVD_16': <rectools.models.pure_svd.PureSVDModel at 0x2d75eae70>,\n",
       " 'PureSVD_32': <rectools.models.pure_svd.PureSVDModel at 0x2d75ebce0>,\n",
       " 'ALS_factors_4': <rectools.models.implicit_als.ImplicitALSWrapperModel at 0x2c4c14fe0>,\n",
       " 'ALS_factors_16': <rectools.models.implicit_als.ImplicitALSWrapperModel at 0x297722630>,\n",
       " 'ALS_factors_32': <rectools.models.implicit_als.ImplicitALSWrapperModel at 0x297722660>,\n",
       " 'BPR_factors_4': <rectools.models.implicit_bpr.ImplicitBPRWrapperModel at 0x2c4c902c0>,\n",
       " 'BPR_factors_16': <rectools.models.implicit_bpr.ImplicitBPRWrapperModel at 0x2c601c320>,\n",
       " 'BPR_factors_32': <rectools.models.implicit_bpr.ImplicitBPRWrapperModel at 0x297722930>,\n",
       " 'LMF_factors_4': <implicit.cpu.lmf.LogisticMatrixFactorization at 0x2c30ab380>,\n",
       " 'LMF_factors_16': <implicit.cpu.lmf.LogisticMatrixFactorization at 0x2c5ed46b0>,\n",
       " 'LMF_factors_32': <implicit.cpu.lmf.LogisticMatrixFactorization at 0x2c4d49940>}"
      ]
     },
     "execution_count": 126,
     "metadata": {},
     "output_type": "execute_result"
    }
   ],
   "source": [
    "models"
   ]
  },
  {
   "cell_type": "code",
   "execution_count": 127,
   "id": "f21a6c3a-5393-4fea-9e80-a918d38ac976",
   "metadata": {
    "colab": {
     "base_uri": "https://localhost:8080/"
    },
    "id": "f21a6c3a-5393-4fea-9e80-a918d38ac976",
    "outputId": "2cfbed2c-edcb-413c-90a2-d70fb3a69560"
   },
   "outputs": [
    {
     "name": "stderr",
     "output_type": "stream",
     "text": [
      "  0%|                                                                                            | 0/12 [00:00<?, ?it/s]"
     ]
    },
    {
     "name": "stdout",
     "output_type": "stream",
     "text": [
      "Время обучения модели PureSVD_4: 0.69 секунд\n"
     ]
    },
    {
     "name": "stderr",
     "output_type": "stream",
     "text": [
      "  8%|███████                                                                             | 1/12 [00:17<03:08, 17.13s/it]"
     ]
    },
    {
     "name": "stdout",
     "output_type": "stream",
     "text": [
      "Время обучения модели PureSVD_16: 1.72 секунд\n"
     ]
    },
    {
     "name": "stderr",
     "output_type": "stream",
     "text": [
      " 17%|██████████████                                                                      | 2/12 [00:30<02:29, 14.91s/it]"
     ]
    },
    {
     "name": "stdout",
     "output_type": "stream",
     "text": [
      "Время обучения модели PureSVD_32: 3.30 секунд\n"
     ]
    },
    {
     "name": "stderr",
     "output_type": "stream",
     "text": [
      " 25%|█████████████████████                                                               | 3/12 [00:48<02:27, 16.43s/it]"
     ]
    },
    {
     "name": "stdout",
     "output_type": "stream",
     "text": [
      "Время обучения модели ALS_factors_4: 4.95 секунд\n"
     ]
    },
    {
     "name": "stderr",
     "output_type": "stream",
     "text": [
      " 33%|████████████████████████████                                                        | 4/12 [01:07<02:18, 17.33s/it]"
     ]
    },
    {
     "name": "stdout",
     "output_type": "stream",
     "text": [
      "Время обучения модели ALS_factors_16: 25.01 секунд\n"
     ]
    },
    {
     "name": "stderr",
     "output_type": "stream",
     "text": [
      " 42%|███████████████████████████████████                                                 | 5/12 [01:46<02:55, 25.02s/it]"
     ]
    },
    {
     "name": "stdout",
     "output_type": "stream",
     "text": [
      "Время обучения модели ALS_factors_32: 76.97 секунд\n"
     ]
    },
    {
     "name": "stderr",
     "output_type": "stream",
     "text": [
      " 50%|██████████████████████████████████████████                                          | 6/12 [03:19<04:50, 48.41s/it]"
     ]
    },
    {
     "name": "stdout",
     "output_type": "stream",
     "text": [
      "Время обучения модели BPR_factors_4: 30.21 секунд\n"
     ]
    },
    {
     "name": "stderr",
     "output_type": "stream",
     "text": [
      " 58%|█████████████████████████████████████████████████                                   | 7/12 [04:04<03:56, 47.23s/it]"
     ]
    },
    {
     "name": "stdout",
     "output_type": "stream",
     "text": [
      "Время обучения модели BPR_factors_16: 35.28 секунд\n"
     ]
    },
    {
     "name": "stderr",
     "output_type": "stream",
     "text": [
      " 67%|████████████████████████████████████████████████████████                            | 8/12 [04:54<03:11, 47.91s/it]"
     ]
    },
    {
     "name": "stdout",
     "output_type": "stream",
     "text": [
      "Время обучения модели BPR_factors_32: 48.30 секунд\n"
     ]
    },
    {
     "name": "stderr",
     "output_type": "stream",
     "text": [
      "100%|███████████████████████████████████████████████████████████████████████████████████| 12/12 [05:56<00:00, 29.70s/it]\n"
     ]
    }
   ],
   "source": [
    "catalog = train[Columns.Item].unique()\n",
    "\n",
    "results = []\n",
    "for model_name, model in tqdm(models.items()):\n",
    "    if model_name not in {'LMF_factors_4', 'LMF_factors_16', 'LMF_factors_32'}:\n",
    "      model_quality = {'model': model_name}\n",
    "\n",
    "      fit_start_time = time.time()\n",
    "\n",
    "      model.fit(dataset)\n",
    "      training_time = time.time() - fit_start_time\n",
    "      print(f\"Время обучения модели {model_name}: {training_time:.2f} секунд\")\n",
    "      recos = model.recommend(\n",
    "          users=test_hot[Columns.User].unique(),\n",
    "          dataset=dataset,\n",
    "          k=K_RECOS,\n",
    "          filter_viewed=True,  # Для чего этот параметр?\n",
    "      )\n",
    "\n",
    "      metric_values = calc_metrics(metrics, recos, test_hot, train, catalog=catalog)\n",
    "\n",
    "      model_quality.update(metric_values)\n",
    "      results.append(model_quality)"
   ]
  },
  {
   "cell_type": "code",
   "execution_count": 128,
   "id": "SATjYOWozAjt",
   "metadata": {
    "colab": {
     "base_uri": "https://localhost:8080/"
    },
    "id": "SATjYOWozAjt",
    "outputId": "5b7dc587-df8e-4655-8a5d-74fd82312825"
   },
   "outputs": [
    {
     "name": "stderr",
     "output_type": "stream",
     "text": [
      "100%|██████████████████████████████████████████████████████████████████████████| 101696/101696 [02:53<00:00, 587.01it/s]\n",
      "100%|██████████████████████████████████████████████████████████████████████████| 101696/101696 [02:37<00:00, 645.34it/s]\n",
      "100%|██████████████████████████████████████████████████████████████████████████| 101696/101696 [02:59<00:00, 565.04it/s]\n"
     ]
    },
    {
     "name": "stdout",
     "output_type": "stream",
     "text": [
      "CPU times: user 41min 9s, sys: 5min 33s, total: 46min 43s\n",
      "Wall time: 8min 58s\n"
     ]
    }
   ],
   "source": [
    "%%time\n",
    "reco_LMF = []\n",
    "for factors in N_FACTORS:\n",
    "  for user_id in tqdm(test_users_lmf):\n",
    "      res = models[f\"LMF_factors_{factors}\"].recommend(user_id, ui_csr[user_id], N=K_RECOS, filter_already_liked_items=True)\n",
    "      user_ids = [user_id]*K_RECOS\n",
    "      item_ids = res[0]\n",
    "      scores = res[1]\n",
    "\n",
    "      # Создаем записи для каждого элемента рекомендации\n",
    "      for rank, (user_id, item_id, score) in enumerate(zip(user_ids, item_ids, scores), start=1):\n",
    "          reco_LMF.append({\n",
    "              'user_id': user_id,\n",
    "              'item_id': item_id,\n",
    "              'score': score,\n",
    "              'rank': rank\n",
    "          })\n",
    "  df_recos = pd.DataFrame(reco_LMF)\n",
    "  df_recos['item_id'] = pd.Series(dataset.item_id_map.convert_to_external(df_recos.item_id))\n",
    "  df_recos['user_id'] = pd.Series(dataset.user_id_map.convert_to_external(df_recos.user_id))\n",
    "\n",
    "  metric_values = calc_metrics(metrics, df_recos, test_hot, train, catalog=catalog)\n",
    "  model_quality = {'model': f\"LMF_factors_{factors}\"}\n",
    "  model_quality.update(metric_values)\n",
    "  results.append(model_quality)"
   ]
  },
  {
   "cell_type": "code",
   "execution_count": 129,
   "id": "81af5eb2-63f3-472b-a98f-5fb2120d01e6",
   "metadata": {
    "id": "81af5eb2-63f3-472b-a98f-5fb2120d01e6"
   },
   "outputs": [],
   "source": [
    "df_quality = pd.DataFrame(results).T\n",
    "\n",
    "df_quality.columns = df_quality.iloc[0]\n",
    "\n",
    "df_quality.drop(\"model\", inplace=True)"
   ]
  },
  {
   "cell_type": "code",
   "execution_count": 130,
   "id": "1aacd7c5-a426-4b1d-94e6-61916fbf9ca2",
   "metadata": {
    "colab": {
     "base_uri": "https://localhost:8080/",
     "height": 539
    },
    "id": "1aacd7c5-a426-4b1d-94e6-61916fbf9ca2",
    "outputId": "748b6f99-7f8b-4cea-f691-d1007df0ffc1"
   },
   "outputs": [
    {
     "data": {
      "text/html": [
       "<style type=\"text/css\">\n",
       "#T_9e2e7_row0_col3, #T_9e2e7_row1_col3, #T_9e2e7_row2_col4, #T_9e2e7_row3_col3, #T_9e2e7_row4_col3, #T_9e2e7_row5_col4, #T_9e2e7_row6_col3, #T_9e2e7_row7_col3, #T_9e2e7_row8_col4, #T_9e2e7_row9_col9, #T_9e2e7_row10_col9, #T_9e2e7_row11_col8, #T_9e2e7_row12_col8, #T_9e2e7_row13_col8, #T_9e2e7_row14_col8 {\n",
       "  background-color: lightgreen;\n",
       "}\n",
       "</style>\n",
       "<table id=\"T_9e2e7\">\n",
       "  <thead>\n",
       "    <tr>\n",
       "      <th class=\"index_name level0\" >model</th>\n",
       "      <th id=\"T_9e2e7_level0_col0\" class=\"col_heading level0 col0\" >PureSVD_4</th>\n",
       "      <th id=\"T_9e2e7_level0_col1\" class=\"col_heading level0 col1\" >PureSVD_16</th>\n",
       "      <th id=\"T_9e2e7_level0_col2\" class=\"col_heading level0 col2\" >PureSVD_32</th>\n",
       "      <th id=\"T_9e2e7_level0_col3\" class=\"col_heading level0 col3\" >ALS_factors_4</th>\n",
       "      <th id=\"T_9e2e7_level0_col4\" class=\"col_heading level0 col4\" >ALS_factors_16</th>\n",
       "      <th id=\"T_9e2e7_level0_col5\" class=\"col_heading level0 col5\" >ALS_factors_32</th>\n",
       "      <th id=\"T_9e2e7_level0_col6\" class=\"col_heading level0 col6\" >BPR_factors_4</th>\n",
       "      <th id=\"T_9e2e7_level0_col7\" class=\"col_heading level0 col7\" >BPR_factors_16</th>\n",
       "      <th id=\"T_9e2e7_level0_col8\" class=\"col_heading level0 col8\" >BPR_factors_32</th>\n",
       "      <th id=\"T_9e2e7_level0_col9\" class=\"col_heading level0 col9\" >LMF_factors_4</th>\n",
       "      <th id=\"T_9e2e7_level0_col10\" class=\"col_heading level0 col10\" >LMF_factors_16</th>\n",
       "      <th id=\"T_9e2e7_level0_col11\" class=\"col_heading level0 col11\" >LMF_factors_32</th>\n",
       "    </tr>\n",
       "  </thead>\n",
       "  <tbody>\n",
       "    <tr>\n",
       "      <th id=\"T_9e2e7_level0_row0\" class=\"row_heading level0 row0\" >precision@3</th>\n",
       "      <td id=\"T_9e2e7_row0_col0\" class=\"data row0 col0\" >0.042765</td>\n",
       "      <td id=\"T_9e2e7_row0_col1\" class=\"data row0 col1\" >0.027176</td>\n",
       "      <td id=\"T_9e2e7_row0_col2\" class=\"data row0 col2\" >0.025042</td>\n",
       "      <td id=\"T_9e2e7_row0_col3\" class=\"data row0 col3\" >0.045600</td>\n",
       "      <td id=\"T_9e2e7_row0_col4\" class=\"data row0 col4\" >0.043932</td>\n",
       "      <td id=\"T_9e2e7_row0_col5\" class=\"data row0 col5\" >0.041808</td>\n",
       "      <td id=\"T_9e2e7_row0_col6\" class=\"data row0 col6\" >0.020525</td>\n",
       "      <td id=\"T_9e2e7_row0_col7\" class=\"data row0 col7\" >0.024681</td>\n",
       "      <td id=\"T_9e2e7_row0_col8\" class=\"data row0 col8\" >0.026589</td>\n",
       "      <td id=\"T_9e2e7_row0_col9\" class=\"data row0 col9\" >0.007981</td>\n",
       "      <td id=\"T_9e2e7_row0_col10\" class=\"data row0 col10\" >0.014212</td>\n",
       "      <td id=\"T_9e2e7_row0_col11\" class=\"data row0 col11\" >0.019535</td>\n",
       "    </tr>\n",
       "    <tr>\n",
       "      <th id=\"T_9e2e7_level0_row1\" class=\"row_heading level0 row1\" >precision@5</th>\n",
       "      <td id=\"T_9e2e7_row1_col0\" class=\"data row1 col0\" >0.037465</td>\n",
       "      <td id=\"T_9e2e7_row1_col1\" class=\"data row1 col1\" >0.024752</td>\n",
       "      <td id=\"T_9e2e7_row1_col2\" class=\"data row1 col2\" >0.022353</td>\n",
       "      <td id=\"T_9e2e7_row1_col3\" class=\"data row1 col3\" >0.038694</td>\n",
       "      <td id=\"T_9e2e7_row1_col4\" class=\"data row1 col4\" >0.037122</td>\n",
       "      <td id=\"T_9e2e7_row1_col5\" class=\"data row1 col5\" >0.036420</td>\n",
       "      <td id=\"T_9e2e7_row1_col6\" class=\"data row1 col6\" >0.017865</td>\n",
       "      <td id=\"T_9e2e7_row1_col7\" class=\"data row1 col7\" >0.021108</td>\n",
       "      <td id=\"T_9e2e7_row1_col8\" class=\"data row1 col8\" >0.022054</td>\n",
       "      <td id=\"T_9e2e7_row1_col9\" class=\"data row1 col9\" >0.007304</td>\n",
       "      <td id=\"T_9e2e7_row1_col10\" class=\"data row1 col10\" >0.013035</td>\n",
       "      <td id=\"T_9e2e7_row1_col11\" class=\"data row1 col11\" >0.017934</td>\n",
       "    </tr>\n",
       "    <tr>\n",
       "      <th id=\"T_9e2e7_level0_row2\" class=\"row_heading level0 row2\" >precision@10</th>\n",
       "      <td id=\"T_9e2e7_row2_col0\" class=\"data row2 col0\" >0.026607</td>\n",
       "      <td id=\"T_9e2e7_row2_col1\" class=\"data row2 col1\" >0.019005</td>\n",
       "      <td id=\"T_9e2e7_row2_col2\" class=\"data row2 col2\" >0.017672</td>\n",
       "      <td id=\"T_9e2e7_row2_col3\" class=\"data row2 col3\" >0.028523</td>\n",
       "      <td id=\"T_9e2e7_row2_col4\" class=\"data row2 col4\" >0.029295</td>\n",
       "      <td id=\"T_9e2e7_row2_col5\" class=\"data row2 col5\" >0.027817</td>\n",
       "      <td id=\"T_9e2e7_row2_col6\" class=\"data row2 col6\" >0.014247</td>\n",
       "      <td id=\"T_9e2e7_row2_col7\" class=\"data row2 col7\" >0.016538</td>\n",
       "      <td id=\"T_9e2e7_row2_col8\" class=\"data row2 col8\" >0.016944</td>\n",
       "      <td id=\"T_9e2e7_row2_col9\" class=\"data row2 col9\" >0.005803</td>\n",
       "      <td id=\"T_9e2e7_row2_col10\" class=\"data row2 col10\" >0.010806</td>\n",
       "      <td id=\"T_9e2e7_row2_col11\" class=\"data row2 col11\" >0.015078</td>\n",
       "    </tr>\n",
       "    <tr>\n",
       "      <th id=\"T_9e2e7_level0_row3\" class=\"row_heading level0 row3\" >recall@3</th>\n",
       "      <td id=\"T_9e2e7_row3_col0\" class=\"data row3 col0\" >0.057456</td>\n",
       "      <td id=\"T_9e2e7_row3_col1\" class=\"data row3 col1\" >0.033115</td>\n",
       "      <td id=\"T_9e2e7_row3_col2\" class=\"data row3 col2\" >0.030136</td>\n",
       "      <td id=\"T_9e2e7_row3_col3\" class=\"data row3 col3\" >0.062902</td>\n",
       "      <td id=\"T_9e2e7_row3_col4\" class=\"data row3 col4\" >0.058319</td>\n",
       "      <td id=\"T_9e2e7_row3_col5\" class=\"data row3 col5\" >0.056226</td>\n",
       "      <td id=\"T_9e2e7_row3_col6\" class=\"data row3 col6\" >0.029989</td>\n",
       "      <td id=\"T_9e2e7_row3_col7\" class=\"data row3 col7\" >0.034690</td>\n",
       "      <td id=\"T_9e2e7_row3_col8\" class=\"data row3 col8\" >0.037043</td>\n",
       "      <td id=\"T_9e2e7_row3_col9\" class=\"data row3 col9\" >0.012183</td>\n",
       "      <td id=\"T_9e2e7_row3_col10\" class=\"data row3 col10\" >0.019991</td>\n",
       "      <td id=\"T_9e2e7_row3_col11\" class=\"data row3 col11\" >0.025833</td>\n",
       "    </tr>\n",
       "    <tr>\n",
       "      <th id=\"T_9e2e7_level0_row4\" class=\"row_heading level0 row4\" >recall@5</th>\n",
       "      <td id=\"T_9e2e7_row4_col0\" class=\"data row4 col0\" >0.083617</td>\n",
       "      <td id=\"T_9e2e7_row4_col1\" class=\"data row4 col1\" >0.049892</td>\n",
       "      <td id=\"T_9e2e7_row4_col2\" class=\"data row4 col2\" >0.043944</td>\n",
       "      <td id=\"T_9e2e7_row4_col3\" class=\"data row4 col3\" >0.086502</td>\n",
       "      <td id=\"T_9e2e7_row4_col4\" class=\"data row4 col4\" >0.080125</td>\n",
       "      <td id=\"T_9e2e7_row4_col5\" class=\"data row4 col5\" >0.079782</td>\n",
       "      <td id=\"T_9e2e7_row4_col6\" class=\"data row4 col6\" >0.042664</td>\n",
       "      <td id=\"T_9e2e7_row4_col7\" class=\"data row4 col7\" >0.047946</td>\n",
       "      <td id=\"T_9e2e7_row4_col8\" class=\"data row4 col8\" >0.049126</td>\n",
       "      <td id=\"T_9e2e7_row4_col9\" class=\"data row4 col9\" >0.018242</td>\n",
       "      <td id=\"T_9e2e7_row4_col10\" class=\"data row4 col10\" >0.030145</td>\n",
       "      <td id=\"T_9e2e7_row4_col11\" class=\"data row4 col11\" >0.039128</td>\n",
       "    </tr>\n",
       "    <tr>\n",
       "      <th id=\"T_9e2e7_level0_row5\" class=\"row_heading level0 row5\" >recall@10</th>\n",
       "      <td id=\"T_9e2e7_row5_col0\" class=\"data row5 col0\" >0.114567</td>\n",
       "      <td id=\"T_9e2e7_row5_col1\" class=\"data row5 col1\" >0.073181</td>\n",
       "      <td id=\"T_9e2e7_row5_col2\" class=\"data row5 col2\" >0.066482</td>\n",
       "      <td id=\"T_9e2e7_row5_col3\" class=\"data row5 col3\" >0.121474</td>\n",
       "      <td id=\"T_9e2e7_row5_col4\" class=\"data row5 col4\" >0.123134</td>\n",
       "      <td id=\"T_9e2e7_row5_col5\" class=\"data row5 col5\" >0.116099</td>\n",
       "      <td id=\"T_9e2e7_row5_col6\" class=\"data row5 col6\" >0.065504</td>\n",
       "      <td id=\"T_9e2e7_row5_col7\" class=\"data row5 col7\" >0.072009</td>\n",
       "      <td id=\"T_9e2e7_row5_col8\" class=\"data row5 col8\" >0.072685</td>\n",
       "      <td id=\"T_9e2e7_row5_col9\" class=\"data row5 col9\" >0.027940</td>\n",
       "      <td id=\"T_9e2e7_row5_col10\" class=\"data row5 col10\" >0.048432</td>\n",
       "      <td id=\"T_9e2e7_row5_col11\" class=\"data row5 col11\" >0.063965</td>\n",
       "    </tr>\n",
       "    <tr>\n",
       "      <th id=\"T_9e2e7_level0_row6\" class=\"row_heading level0 row6\" >ndcg@3</th>\n",
       "      <td id=\"T_9e2e7_row6_col0\" class=\"data row6 col0\" >0.045415</td>\n",
       "      <td id=\"T_9e2e7_row6_col1\" class=\"data row6 col1\" >0.028109</td>\n",
       "      <td id=\"T_9e2e7_row6_col2\" class=\"data row6 col2\" >0.025452</td>\n",
       "      <td id=\"T_9e2e7_row6_col3\" class=\"data row6 col3\" >0.048297</td>\n",
       "      <td id=\"T_9e2e7_row6_col4\" class=\"data row6 col4\" >0.046507</td>\n",
       "      <td id=\"T_9e2e7_row6_col5\" class=\"data row6 col5\" >0.044235</td>\n",
       "      <td id=\"T_9e2e7_row6_col6\" class=\"data row6 col6\" >0.021986</td>\n",
       "      <td id=\"T_9e2e7_row6_col7\" class=\"data row6 col7\" >0.026085</td>\n",
       "      <td id=\"T_9e2e7_row6_col8\" class=\"data row6 col8\" >0.028692</td>\n",
       "      <td id=\"T_9e2e7_row6_col9\" class=\"data row6 col9\" >0.008177</td>\n",
       "      <td id=\"T_9e2e7_row6_col10\" class=\"data row6 col10\" >0.014584</td>\n",
       "      <td id=\"T_9e2e7_row6_col11\" class=\"data row6 col11\" >0.020138</td>\n",
       "    </tr>\n",
       "    <tr>\n",
       "      <th id=\"T_9e2e7_level0_row7\" class=\"row_heading level0 row7\" >ndcg@5</th>\n",
       "      <td id=\"T_9e2e7_row7_col0\" class=\"data row7 col0\" >0.041051</td>\n",
       "      <td id=\"T_9e2e7_row7_col1\" class=\"data row7 col1\" >0.026193</td>\n",
       "      <td id=\"T_9e2e7_row7_col2\" class=\"data row7 col2\" >0.023479</td>\n",
       "      <td id=\"T_9e2e7_row7_col3\" class=\"data row7 col3\" >0.042811</td>\n",
       "      <td id=\"T_9e2e7_row7_col4\" class=\"data row7 col4\" >0.041081</td>\n",
       "      <td id=\"T_9e2e7_row7_col5\" class=\"data row7 col5\" >0.039840</td>\n",
       "      <td id=\"T_9e2e7_row7_col6\" class=\"data row7 col6\" >0.019747</td>\n",
       "      <td id=\"T_9e2e7_row7_col7\" class=\"data row7 col7\" >0.023226</td>\n",
       "      <td id=\"T_9e2e7_row7_col8\" class=\"data row7 col8\" >0.024981</td>\n",
       "      <td id=\"T_9e2e7_row7_col9\" class=\"data row7 col9\" >0.007660</td>\n",
       "      <td id=\"T_9e2e7_row7_col10\" class=\"data row7 col10\" >0.013673</td>\n",
       "      <td id=\"T_9e2e7_row7_col11\" class=\"data row7 col11\" >0.018867</td>\n",
       "    </tr>\n",
       "    <tr>\n",
       "      <th id=\"T_9e2e7_level0_row8\" class=\"row_heading level0 row8\" >ndcg@10</th>\n",
       "      <td id=\"T_9e2e7_row8_col0\" class=\"data row8 col0\" >0.032195</td>\n",
       "      <td id=\"T_9e2e7_row8_col1\" class=\"data row8 col1\" >0.021692</td>\n",
       "      <td id=\"T_9e2e7_row8_col2\" class=\"data row8 col2\" >0.019829</td>\n",
       "      <td id=\"T_9e2e7_row8_col3\" class=\"data row8 col3\" >0.034194</td>\n",
       "      <td id=\"T_9e2e7_row8_col4\" class=\"data row8 col4\" >0.034286</td>\n",
       "      <td id=\"T_9e2e7_row8_col5\" class=\"data row8 col5\" >0.032636</td>\n",
       "      <td id=\"T_9e2e7_row8_col6\" class=\"data row8 col6\" >0.016561</td>\n",
       "      <td id=\"T_9e2e7_row8_col7\" class=\"data row8 col7\" >0.019305</td>\n",
       "      <td id=\"T_9e2e7_row8_col8\" class=\"data row8 col8\" >0.020387</td>\n",
       "      <td id=\"T_9e2e7_row8_col9\" class=\"data row8 col9\" >0.006489</td>\n",
       "      <td id=\"T_9e2e7_row8_col10\" class=\"data row8 col10\" >0.011898</td>\n",
       "      <td id=\"T_9e2e7_row8_col11\" class=\"data row8 col11\" >0.016552</td>\n",
       "    </tr>\n",
       "    <tr>\n",
       "      <th id=\"T_9e2e7_level0_row9\" class=\"row_heading level0 row9\" >novelty@3</th>\n",
       "      <td id=\"T_9e2e7_row9_col0\" class=\"data row9 col0\" >4.055701</td>\n",
       "      <td id=\"T_9e2e7_row9_col1\" class=\"data row9 col1\" >6.089481</td>\n",
       "      <td id=\"T_9e2e7_row9_col2\" class=\"data row9 col2\" >6.717449</td>\n",
       "      <td id=\"T_9e2e7_row9_col3\" class=\"data row9 col3\" >4.870021</td>\n",
       "      <td id=\"T_9e2e7_row9_col4\" class=\"data row9 col4\" >5.418211</td>\n",
       "      <td id=\"T_9e2e7_row9_col5\" class=\"data row9 col5\" >5.987561</td>\n",
       "      <td id=\"T_9e2e7_row9_col6\" class=\"data row9 col6\" >8.693485</td>\n",
       "      <td id=\"T_9e2e7_row9_col7\" class=\"data row9 col7\" >8.882625</td>\n",
       "      <td id=\"T_9e2e7_row9_col8\" class=\"data row9 col8\" >9.063186</td>\n",
       "      <td id=\"T_9e2e7_row9_col9\" class=\"data row9 col9\" >9.384141</td>\n",
       "      <td id=\"T_9e2e7_row9_col10\" class=\"data row9 col10\" >9.187992</td>\n",
       "      <td id=\"T_9e2e7_row9_col11\" class=\"data row9 col11\" >9.119954</td>\n",
       "    </tr>\n",
       "    <tr>\n",
       "      <th id=\"T_9e2e7_level0_row10\" class=\"row_heading level0 row10\" >novelty@5</th>\n",
       "      <td id=\"T_9e2e7_row10_col0\" class=\"data row10 col0\" >4.117640</td>\n",
       "      <td id=\"T_9e2e7_row10_col1\" class=\"data row10 col1\" >6.173908</td>\n",
       "      <td id=\"T_9e2e7_row10_col2\" class=\"data row10 col2\" >6.783653</td>\n",
       "      <td id=\"T_9e2e7_row10_col3\" class=\"data row10 col3\" >5.121139</td>\n",
       "      <td id=\"T_9e2e7_row10_col4\" class=\"data row10 col4\" >5.777308</td>\n",
       "      <td id=\"T_9e2e7_row10_col5\" class=\"data row10 col5\" >6.262224</td>\n",
       "      <td id=\"T_9e2e7_row10_col6\" class=\"data row10 col6\" >8.890571</td>\n",
       "      <td id=\"T_9e2e7_row10_col7\" class=\"data row10 col7\" >9.154848</td>\n",
       "      <td id=\"T_9e2e7_row10_col8\" class=\"data row10 col8\" >9.382135</td>\n",
       "      <td id=\"T_9e2e7_row10_col9\" class=\"data row10 col9\" >9.504691</td>\n",
       "      <td id=\"T_9e2e7_row10_col10\" class=\"data row10 col10\" >9.313751</td>\n",
       "      <td id=\"T_9e2e7_row10_col11\" class=\"data row10 col11\" >9.244714</td>\n",
       "    </tr>\n",
       "    <tr>\n",
       "      <th id=\"T_9e2e7_level0_row11\" class=\"row_heading level0 row11\" >novelty@10</th>\n",
       "      <td id=\"T_9e2e7_row11_col0\" class=\"data row11 col0\" >4.735179</td>\n",
       "      <td id=\"T_9e2e7_row11_col1\" class=\"data row11 col1\" >6.531053</td>\n",
       "      <td id=\"T_9e2e7_row11_col2\" class=\"data row11 col2\" >7.026717</td>\n",
       "      <td id=\"T_9e2e7_row11_col3\" class=\"data row11 col3\" >5.599398</td>\n",
       "      <td id=\"T_9e2e7_row11_col4\" class=\"data row11 col4\" >6.291544</td>\n",
       "      <td id=\"T_9e2e7_row11_col5\" class=\"data row11 col5\" >6.735713</td>\n",
       "      <td id=\"T_9e2e7_row11_col6\" class=\"data row11 col6\" >9.189156</td>\n",
       "      <td id=\"T_9e2e7_row11_col7\" class=\"data row11 col7\" >9.546164</td>\n",
       "      <td id=\"T_9e2e7_row11_col8\" class=\"data row11 col8\" >9.795902</td>\n",
       "      <td id=\"T_9e2e7_row11_col9\" class=\"data row11 col9\" >9.723210</td>\n",
       "      <td id=\"T_9e2e7_row11_col10\" class=\"data row11 col10\" >9.525554</td>\n",
       "      <td id=\"T_9e2e7_row11_col11\" class=\"data row11 col11\" >9.446509</td>\n",
       "    </tr>\n",
       "    <tr>\n",
       "      <th id=\"T_9e2e7_level0_row12\" class=\"row_heading level0 row12\" >serendipity@3</th>\n",
       "      <td id=\"T_9e2e7_row12_col0\" class=\"data row12 col0\" >0.000014</td>\n",
       "      <td id=\"T_9e2e7_row12_col1\" class=\"data row12 col1\" >0.000070</td>\n",
       "      <td id=\"T_9e2e7_row12_col2\" class=\"data row12 col2\" >0.000113</td>\n",
       "      <td id=\"T_9e2e7_row12_col3\" class=\"data row12 col3\" >0.000038</td>\n",
       "      <td id=\"T_9e2e7_row12_col4\" class=\"data row12 col4\" >0.000110</td>\n",
       "      <td id=\"T_9e2e7_row12_col5\" class=\"data row12 col5\" >0.000199</td>\n",
       "      <td id=\"T_9e2e7_row12_col6\" class=\"data row12 col6\" >0.000181</td>\n",
       "      <td id=\"T_9e2e7_row12_col7\" class=\"data row12 col7\" >0.000356</td>\n",
       "      <td id=\"T_9e2e7_row12_col8\" class=\"data row12 col8\" >0.000417</td>\n",
       "      <td id=\"T_9e2e7_row12_col9\" class=\"data row12 col9\" >0.000044</td>\n",
       "      <td id=\"T_9e2e7_row12_col10\" class=\"data row12 col10\" >0.000052</td>\n",
       "      <td id=\"T_9e2e7_row12_col11\" class=\"data row12 col11\" >0.000061</td>\n",
       "    </tr>\n",
       "    <tr>\n",
       "      <th id=\"T_9e2e7_level0_row13\" class=\"row_heading level0 row13\" >serendipity@5</th>\n",
       "      <td id=\"T_9e2e7_row13_col0\" class=\"data row13 col0\" >0.000011</td>\n",
       "      <td id=\"T_9e2e7_row13_col1\" class=\"data row13 col1\" >0.000068</td>\n",
       "      <td id=\"T_9e2e7_row13_col2\" class=\"data row13 col2\" >0.000111</td>\n",
       "      <td id=\"T_9e2e7_row13_col3\" class=\"data row13 col3\" >0.000037</td>\n",
       "      <td id=\"T_9e2e7_row13_col4\" class=\"data row13 col4\" >0.000121</td>\n",
       "      <td id=\"T_9e2e7_row13_col5\" class=\"data row13 col5\" >0.000208</td>\n",
       "      <td id=\"T_9e2e7_row13_col6\" class=\"data row13 col6\" >0.000179</td>\n",
       "      <td id=\"T_9e2e7_row13_col7\" class=\"data row13 col7\" >0.000336</td>\n",
       "      <td id=\"T_9e2e7_row13_col8\" class=\"data row13 col8\" >0.000394</td>\n",
       "      <td id=\"T_9e2e7_row13_col9\" class=\"data row13 col9\" >0.000045</td>\n",
       "      <td id=\"T_9e2e7_row13_col10\" class=\"data row13 col10\" >0.000053</td>\n",
       "      <td id=\"T_9e2e7_row13_col11\" class=\"data row13 col11\" >0.000061</td>\n",
       "    </tr>\n",
       "    <tr>\n",
       "      <th id=\"T_9e2e7_level0_row14\" class=\"row_heading level0 row14\" >serendipity@10</th>\n",
       "      <td id=\"T_9e2e7_row14_col0\" class=\"data row14 col0\" >0.000011</td>\n",
       "      <td id=\"T_9e2e7_row14_col1\" class=\"data row14 col1\" >0.000067</td>\n",
       "      <td id=\"T_9e2e7_row14_col2\" class=\"data row14 col2\" >0.000105</td>\n",
       "      <td id=\"T_9e2e7_row14_col3\" class=\"data row14 col3\" >0.000041</td>\n",
       "      <td id=\"T_9e2e7_row14_col4\" class=\"data row14 col4\" >0.000133</td>\n",
       "      <td id=\"T_9e2e7_row14_col5\" class=\"data row14 col5\" >0.000210</td>\n",
       "      <td id=\"T_9e2e7_row14_col6\" class=\"data row14 col6\" >0.000174</td>\n",
       "      <td id=\"T_9e2e7_row14_col7\" class=\"data row14 col7\" >0.000307</td>\n",
       "      <td id=\"T_9e2e7_row14_col8\" class=\"data row14 col8\" >0.000347</td>\n",
       "      <td id=\"T_9e2e7_row14_col9\" class=\"data row14 col9\" >0.000042</td>\n",
       "      <td id=\"T_9e2e7_row14_col10\" class=\"data row14 col10\" >0.000052</td>\n",
       "      <td id=\"T_9e2e7_row14_col11\" class=\"data row14 col11\" >0.000058</td>\n",
       "    </tr>\n",
       "  </tbody>\n",
       "</table>\n"
      ],
      "text/plain": [
       "<pandas.io.formats.style.Styler at 0x2c45e7080>"
      ]
     },
     "execution_count": 130,
     "metadata": {},
     "output_type": "execute_result"
    }
   ],
   "source": [
    "df_quality.style.highlight_max(color='lightgreen', axis=1)"
   ]
  },
  {
   "cell_type": "markdown",
   "id": "8qrY7pna4dSp",
   "metadata": {
    "id": "8qrY7pna4dSp"
   },
   "source": [
    "# ANN (Approximate Nearest Neighbor)"
   ]
  },
  {
   "cell_type": "markdown",
   "id": "pB6nsEhovKAT",
   "metadata": {
    "id": "pB6nsEhovKAT"
   },
   "source": [
    "## Построим модель"
   ]
  },
  {
   "cell_type": "code",
   "execution_count": 51,
   "id": "LFYOVF854yb3",
   "metadata": {
    "colab": {
     "base_uri": "https://localhost:8080/",
     "height": 206
    },
    "id": "LFYOVF854yb3",
    "outputId": "e2875066-d152-4be9-881f-8691f438d740"
   },
   "outputs": [
    {
     "data": {
      "text/html": [
       "<div>\n",
       "<style scoped>\n",
       "    .dataframe tbody tr th:only-of-type {\n",
       "        vertical-align: middle;\n",
       "    }\n",
       "\n",
       "    .dataframe tbody tr th {\n",
       "        vertical-align: top;\n",
       "    }\n",
       "\n",
       "    .dataframe thead th {\n",
       "        text-align: right;\n",
       "    }\n",
       "</style>\n",
       "<table border=\"1\" class=\"dataframe\">\n",
       "  <thead>\n",
       "    <tr style=\"text-align: right;\">\n",
       "      <th></th>\n",
       "      <th>user_id</th>\n",
       "      <th>item_id</th>\n",
       "      <th>datetime</th>\n",
       "      <th>total_dur</th>\n",
       "      <th>weight</th>\n",
       "    </tr>\n",
       "  </thead>\n",
       "  <tbody>\n",
       "    <tr>\n",
       "      <th>6</th>\n",
       "      <td>1016458</td>\n",
       "      <td>354</td>\n",
       "      <td>2021-08-14</td>\n",
       "      <td>1672</td>\n",
       "      <td>25.0</td>\n",
       "    </tr>\n",
       "    <tr>\n",
       "      <th>7</th>\n",
       "      <td>884009</td>\n",
       "      <td>693</td>\n",
       "      <td>2021-08-04</td>\n",
       "      <td>703</td>\n",
       "      <td>14.0</td>\n",
       "    </tr>\n",
       "    <tr>\n",
       "      <th>10</th>\n",
       "      <td>791466</td>\n",
       "      <td>8199</td>\n",
       "      <td>2021-07-27</td>\n",
       "      <td>713</td>\n",
       "      <td>9.0</td>\n",
       "    </tr>\n",
       "    <tr>\n",
       "      <th>13</th>\n",
       "      <td>602509</td>\n",
       "      <td>496</td>\n",
       "      <td>2021-08-06</td>\n",
       "      <td>10421</td>\n",
       "      <td>1.0</td>\n",
       "    </tr>\n",
       "    <tr>\n",
       "      <th>16</th>\n",
       "      <td>646903</td>\n",
       "      <td>16228</td>\n",
       "      <td>2021-07-23</td>\n",
       "      <td>57375</td>\n",
       "      <td>46.0</td>\n",
       "    </tr>\n",
       "  </tbody>\n",
       "</table>\n",
       "</div>"
      ],
      "text/plain": [
       "    user_id  item_id   datetime  total_dur  weight\n",
       "6   1016458      354 2021-08-14       1672    25.0\n",
       "7    884009      693 2021-08-04        703    14.0\n",
       "10   791466     8199 2021-07-27        713     9.0\n",
       "13   602509      496 2021-08-06      10421     1.0\n",
       "16   646903    16228 2021-07-23      57375    46.0"
      ]
     },
     "execution_count": 51,
     "metadata": {},
     "output_type": "execute_result"
    }
   ],
   "source": [
    "train.head()"
   ]
  },
  {
   "cell_type": "code",
   "execution_count": 52,
   "id": "2FQ_xdOi40AG",
   "metadata": {
    "colab": {
     "base_uri": "https://localhost:8080/",
     "height": 206
    },
    "id": "2FQ_xdOi40AG",
    "outputId": "8a4ab7ba-77d5-4f18-fe3b-a8b56d4322a4"
   },
   "outputs": [
    {
     "data": {
      "text/html": [
       "<div>\n",
       "<style scoped>\n",
       "    .dataframe tbody tr th:only-of-type {\n",
       "        vertical-align: middle;\n",
       "    }\n",
       "\n",
       "    .dataframe tbody tr th {\n",
       "        vertical-align: top;\n",
       "    }\n",
       "\n",
       "    .dataframe thead th {\n",
       "        text-align: right;\n",
       "    }\n",
       "</style>\n",
       "<table border=\"1\" class=\"dataframe\">\n",
       "  <thead>\n",
       "    <tr style=\"text-align: right;\">\n",
       "      <th></th>\n",
       "      <th>user_id</th>\n",
       "      <th>item_id</th>\n",
       "      <th>datetime</th>\n",
       "      <th>total_dur</th>\n",
       "      <th>weight</th>\n",
       "    </tr>\n",
       "  </thead>\n",
       "  <tbody>\n",
       "    <tr>\n",
       "      <th>54</th>\n",
       "      <td>200197</td>\n",
       "      <td>9335</td>\n",
       "      <td>2021-08-16</td>\n",
       "      <td>83</td>\n",
       "      <td>2.0</td>\n",
       "    </tr>\n",
       "    <tr>\n",
       "      <th>64</th>\n",
       "      <td>73446</td>\n",
       "      <td>14488</td>\n",
       "      <td>2021-08-19</td>\n",
       "      <td>6011</td>\n",
       "      <td>100.0</td>\n",
       "    </tr>\n",
       "    <tr>\n",
       "      <th>94</th>\n",
       "      <td>890735</td>\n",
       "      <td>14200</td>\n",
       "      <td>2021-08-16</td>\n",
       "      <td>1179</td>\n",
       "      <td>28.0</td>\n",
       "    </tr>\n",
       "    <tr>\n",
       "      <th>141</th>\n",
       "      <td>626036</td>\n",
       "      <td>11109</td>\n",
       "      <td>2021-08-22</td>\n",
       "      <td>1323</td>\n",
       "      <td>19.0</td>\n",
       "    </tr>\n",
       "    <tr>\n",
       "      <th>180</th>\n",
       "      <td>1049777</td>\n",
       "      <td>15423</td>\n",
       "      <td>2021-08-15</td>\n",
       "      <td>129</td>\n",
       "      <td>2.0</td>\n",
       "    </tr>\n",
       "  </tbody>\n",
       "</table>\n",
       "</div>"
      ],
      "text/plain": [
       "     user_id  item_id   datetime  total_dur  weight\n",
       "54    200197     9335 2021-08-16         83     2.0\n",
       "64     73446    14488 2021-08-19       6011   100.0\n",
       "94    890735    14200 2021-08-16       1179    28.0\n",
       "141   626036    11109 2021-08-22       1323    19.0\n",
       "180  1049777    15423 2021-08-15        129     2.0"
      ]
     },
     "execution_count": 52,
     "metadata": {},
     "output_type": "execute_result"
    }
   ],
   "source": [
    "test_hot.head()"
   ]
  },
  {
   "cell_type": "code",
   "execution_count": 53,
   "id": "8g2rcED03svx",
   "metadata": {
    "id": "8g2rcED03svx"
   },
   "outputs": [],
   "source": [
    "Columns.Datetime = \"datetime\"\n",
    "train[Columns.Weight] = 1\n",
    "dataset = Dataset.construct(train)\n",
    "test_users = test_hot[Columns.User].unique()"
   ]
  },
  {
   "cell_type": "code",
   "execution_count": 54,
   "id": "T3Jr3tJMsroR",
   "metadata": {
    "colab": {
     "base_uri": "https://localhost:8080/"
    },
    "id": "T3Jr3tJMsroR",
    "outputId": "844fb491-2733-42f5-a458-9001bcac0955"
   },
   "outputs": [
    {
     "name": "stdout",
     "output_type": "stream",
     "text": [
      "CPU times: user 4min 55s, sys: 7.85 s, total: 5min 3s\n",
      "Wall time: 59 s\n"
     ]
    },
    {
     "data": {
      "text/plain": [
       "<rectools.models.implicit_als.ImplicitALSWrapperModel at 0x2c2f1bd40>"
      ]
     },
     "execution_count": 54,
     "metadata": {},
     "output_type": "execute_result"
    }
   ],
   "source": [
    "%%time\n",
    "model = ImplicitALSWrapperModel(\n",
    "    AlternatingLeastSquares(\n",
    "        factors=32,\n",
    "        iterations=10,\n",
    "        num_threads=NUM_THREADS,\n",
    "        random_state=RANDOM_STATE\n",
    "    )\n",
    ")\n",
    "model.fit(dataset)"
   ]
  },
  {
   "cell_type": "code",
   "execution_count": 55,
   "id": "hxgj-tXau18s",
   "metadata": {
    "colab": {
     "base_uri": "https://localhost:8080/"
    },
    "id": "hxgj-tXau18s",
    "outputId": "b21bc1b6-88e1-4844-d2cf-0b38f64e9e5c"
   },
   "outputs": [
    {
     "data": {
      "text/plain": [
       "((396136, 32), (9992, 32))"
      ]
     },
     "execution_count": 55,
     "metadata": {},
     "output_type": "execute_result"
    }
   ],
   "source": [
    "user_factors, item_factors = model.get_vectors()\n",
    "user_factors.shape, item_factors.shape"
   ]
  },
  {
   "cell_type": "code",
   "execution_count": 56,
   "id": "25eb2f06-6b75-4c94-91c8-bcb6aa42d6f3",
   "metadata": {},
   "outputs": [
    {
     "data": {
      "text/plain": [
       "array([-0.06987119, -0.08424611,  0.14341244,  0.12748462, -0.15527686,\n",
       "        0.3066826 ,  0.41504923,  0.18010952, -0.32350704, -0.15627624,\n",
       "        0.26766258,  0.02596553,  0.20306876, -0.04763084, -0.0155792 ,\n",
       "        0.5463696 ,  0.10237209,  0.10244206,  0.08322966,  0.13555717,\n",
       "       -0.1612471 ,  0.27778843, -0.0784786 , -0.4730992 , -0.19189693,\n",
       "       -0.03934374,  0.05028244,  0.21047738,  0.17329483,  0.30278334,\n",
       "        0.06787845, -0.04584179], dtype=float32)"
      ]
     },
     "execution_count": 56,
     "metadata": {},
     "output_type": "execute_result"
    }
   ],
   "source": [
    "user_factors[0]"
   ]
  },
  {
   "cell_type": "code",
   "execution_count": 57,
   "id": "4b32609f-48d2-4498-8f00-928cf78411c5",
   "metadata": {},
   "outputs": [
    {
     "data": {
      "text/plain": [
       "array([0.01080726, 0.00967062, 0.00890545, 0.01021266, 0.00451481,\n",
       "       0.01044232, 0.01320173, 0.01035031, 0.00168569, 0.01265111,\n",
       "       0.00260819, 0.01314118, 0.0102376 , 0.00583589, 0.01163066,\n",
       "       0.01476364, 0.01099091, 0.00847511, 0.01072454, 0.00939036,\n",
       "       0.00325139, 0.01117767, 0.00896373, 0.00175608, 0.00641252,\n",
       "       0.0017253 , 0.00938563, 0.00540932, 0.01400298, 0.01505384,\n",
       "       0.00773969, 0.0032784 ], dtype=float32)"
      ]
     },
     "execution_count": 57,
     "metadata": {},
     "output_type": "execute_result"
    }
   ],
   "source": [
    "item_factors[0]"
   ]
  },
  {
   "cell_type": "code",
   "execution_count": null,
   "id": "17ce84f1-6b29-4c96-bff2-f90a83eaace0",
   "metadata": {},
   "outputs": [],
   "source": []
  },
  {
   "cell_type": "markdown",
   "id": "B2IINLTRvN38",
   "metadata": {
    "id": "B2IINLTRvN38"
   },
   "source": [
    "##  Сравним скорость инференса для разных способов"
   ]
  },
  {
   "cell_type": "markdown",
   "id": "ed4LTdqGviN9",
   "metadata": {
    "id": "ed4LTdqGviN9"
   },
   "source": [
    "### Rectools `recommend`"
   ]
  },
  {
   "cell_type": "code",
   "execution_count": 58,
   "id": "3WtfUlndvNSM",
   "metadata": {
    "colab": {
     "base_uri": "https://localhost:8080/"
    },
    "id": "3WtfUlndvNSM",
    "outputId": "d81fd060-751f-46e0-83c1-6f8a4b13587b"
   },
   "outputs": [
    {
     "name": "stdout",
     "output_type": "stream",
     "text": [
      "CPU times: user 58.3 s, sys: 3.13 s, total: 1min 1s\n",
      "Wall time: 11.6 s\n"
     ]
    }
   ],
   "source": [
    "%%time\n",
    "reco_rectools = model.recommend(\n",
    "    users=test_users,\n",
    "    dataset=dataset,\n",
    "    k=K_RECOS,\n",
    "    filter_viewed=False,\n",
    ")"
   ]
  },
  {
   "cell_type": "markdown",
   "id": "3Yw4Z8JK7UON",
   "metadata": {
    "id": "3Yw4Z8JK7UON"
   },
   "source": [
    "### Implicit `recommend`"
   ]
  },
  {
   "cell_type": "code",
   "execution_count": 59,
   "id": "1d5pFE3l7NPf",
   "metadata": {
    "id": "1d5pFE3l7NPf"
   },
   "outputs": [],
   "source": [
    "implicit_model = model.model\n",
    "test_users_internal = dataset.user_id_map.convert_to_internal(test_users)\n",
    "ui_csr = dataset.interactions.get_user_item_matrix()"
   ]
  },
  {
   "cell_type": "code",
   "execution_count": 60,
   "id": "H7uBZtQg7SNR",
   "metadata": {
    "colab": {
     "base_uri": "https://localhost:8080/"
    },
    "id": "H7uBZtQg7SNR",
    "outputId": "91c96396-861d-4b09-8697-354aa3d00812"
   },
   "outputs": [
    {
     "name": "stdout",
     "output_type": "stream",
     "text": [
      "CPU times: user 4min 9s, sys: 11.6 s, total: 4min 21s\n",
      "Wall time: 45.1 s\n"
     ]
    }
   ],
   "source": [
    "%%time\n",
    "reco_implicit = []\n",
    "for user_id in test_users_internal:\n",
    "    res = implicit_model.recommend(user_id, ui_csr, N=K_RECOS, filter_already_liked_items=False)\n",
    "    recs = [tup[0] for tup in res]\n",
    "    reco_implicit.append(recs)\n",
    "\n",
    "reco_implicit = np.array(reco_implicit)"
   ]
  },
  {
   "cell_type": "markdown",
   "id": "pQNb7hbbwJfS",
   "metadata": {
    "id": "pQNb7hbbwJfS"
   },
   "source": [
    "### Manually батчами"
   ]
  },
  {
   "cell_type": "code",
   "execution_count": 61,
   "id": "J7r1oWw-wlau",
   "metadata": {
    "colab": {
     "base_uri": "https://localhost:8080/"
    },
    "id": "J7r1oWw-wlau",
    "outputId": "c8bc5902-4a97-4804-d0f3-d2780bbbe8b3"
   },
   "outputs": [
    {
     "name": "stderr",
     "output_type": "stream",
     "text": [
      "100%|██████████████████████████████████████████████████████████████████████████████████████████████████████████████████████████████████████| 1017/1017 [00:28<00:00, 35.64it/s]\n"
     ]
    },
    {
     "name": "stdout",
     "output_type": "stream",
     "text": [
      "CPU times: user 2min 17s, sys: 20.9 s, total: 2min 37s\n",
      "Wall time: 28.6 s\n"
     ]
    }
   ],
   "source": [
    "%%time\n",
    "reco_by_batch = []\n",
    "\n",
    "batch_size = 100\n",
    "n_batches = len(test_users) // batch_size + 1\n",
    "\n",
    "for i_batch in tqdm(range(n_batches)):\n",
    "    batch_users_ids = test_users_internal[i_batch * batch_size : (i_batch + 1) * batch_size]\n",
    "    batch_users_factors = user_factors[batch_users_ids]\n",
    "    batch_scores = batch_users_factors @ item_factors.T\n",
    "    batch_unsorted_reco_positions = batch_scores.argpartition(-K_RECOS, axis=1)[:, -K_RECOS:]\n",
    "    batch_unsorted_reco_scores = np.take_along_axis(batch_scores, batch_unsorted_reco_positions, axis=1)\n",
    "    batch_recs = np.take_along_axis(\n",
    "            batch_unsorted_reco_positions, batch_unsorted_reco_scores.argsort()[:, ::-1], axis=1\n",
    "        )\n",
    "    reco_by_batch.append(batch_recs)\n",
    "\n",
    "reco_by_batch = np.vstack(reco_by_batch)"
   ]
  },
  {
   "cell_type": "markdown",
   "id": "ZT5STqfjw2Uu",
   "metadata": {
    "id": "ZT5STqfjw2Uu"
   },
   "source": [
    "### ANN, реализация HNSW"
   ]
  },
  {
   "cell_type": "code",
   "execution_count": 62,
   "id": "ymw14NH05vJv",
   "metadata": {
    "id": "ymw14NH05vJv"
   },
   "outputs": [],
   "source": [
    "n_recs = 10"
   ]
  },
  {
   "cell_type": "code",
   "execution_count": 61,
   "id": "vgq0MTsaekCV",
   "metadata": {
    "id": "vgq0MTsaekCV"
   },
   "outputs": [
    {
     "name": "stdout",
     "output_type": "stream",
     "text": [
      "Collecting hnswlib\n",
      "  Downloading hnswlib-0.8.0.tar.gz (36 kB)\n",
      "  Installing build dependencies ... \u001b[?25ldone\n",
      "\u001b[?25h  Getting requirements to build wheel ... \u001b[?25ldone\n",
      "\u001b[?25h  Preparing metadata (pyproject.toml) ... \u001b[?25ldone\n",
      "\u001b[?25hRequirement already satisfied: numpy in /Users/andrewsemenov/Desktop/Courses/RecSys_HSE/.venv-recsys-hse/lib/python3.12/site-packages (from hnswlib) (1.26.4)\n",
      "Building wheels for collected packages: hnswlib\n",
      "  Building wheel for hnswlib (pyproject.toml) ... \u001b[?25ldone\n",
      "\u001b[?25h  Created wheel for hnswlib: filename=hnswlib-0.8.0-cp312-cp312-macosx_13_0_arm64.whl size=211443 sha256=13379e684bba327651128b804a75d31a72d1f07bb9ab95802504e565c98a20ec\n",
      "  Stored in directory: /Users/andrewsemenov/Library/Caches/pip/wheels/ac/39/b3/cbd7f9cbb76501d2d5fbc84956e70d0b94e788aac87bda465e\n",
      "Successfully built hnswlib\n",
      "Installing collected packages: hnswlib\n",
      "Successfully installed hnswlib-0.8.0\n",
      "\n",
      "\u001b[1m[\u001b[0m\u001b[34;49mnotice\u001b[0m\u001b[1;39;49m]\u001b[0m\u001b[39;49m A new release of pip is available: \u001b[0m\u001b[31;49m25.0.1\u001b[0m\u001b[39;49m -> \u001b[0m\u001b[32;49m25.2\u001b[0m\n",
      "\u001b[1m[\u001b[0m\u001b[34;49mnotice\u001b[0m\u001b[1;39;49m]\u001b[0m\u001b[39;49m To update, run: \u001b[0m\u001b[32;49mpip install --upgrade pip\u001b[0m\n",
      "Note: you may need to restart the kernel to use updated packages.\n"
     ]
    }
   ],
   "source": [
    "# pip install hnswlib"
   ]
  },
  {
   "cell_type": "code",
   "execution_count": 63,
   "id": "qnYqeiSby45M",
   "metadata": {
    "id": "qnYqeiSby45M"
   },
   "outputs": [],
   "source": [
    "import hnswlib"
   ]
  },
  {
   "cell_type": "code",
   "execution_count": 64,
   "id": "LMj6GDLKw1rq",
   "metadata": {
    "colab": {
     "base_uri": "https://localhost:8080/"
    },
    "id": "LMj6GDLKw1rq",
    "outputId": "ae269be7-00bf-4378-8be8-0added04f5bf"
   },
   "outputs": [
    {
     "name": "stdout",
     "output_type": "stream",
     "text": [
      "CPU times: user 399 μs, sys: 205 μs, total: 604 μs\n",
      "Wall time: 832 μs\n"
     ]
    }
   ],
   "source": [
    "%%time\n",
    "hnswlib_index = hnswlib.Index(space=\"ip\", dim=model.model.factors)\n",
    "hnswlib_index.init_index(max_elements=item_factors.shape[0])"
   ]
  },
  {
   "cell_type": "code",
   "execution_count": 65,
   "id": "rAmQQ6TEw_54",
   "metadata": {
    "colab": {
     "base_uri": "https://localhost:8080/"
    },
    "id": "rAmQQ6TEw_54",
    "outputId": "07b984b9-a05e-40c5-f7c0-ddf7f0c8ed7b"
   },
   "outputs": [
    {
     "name": "stdout",
     "output_type": "stream",
     "text": [
      "CPU times: user 962 ms, sys: 199 ms, total: 1.16 s\n",
      "Wall time: 249 ms\n"
     ]
    }
   ],
   "source": [
    "%%time\n",
    "hnswlib_index.add_items(item_factors)"
   ]
  },
  {
   "cell_type": "code",
   "execution_count": 66,
   "id": "1hJHUCQbxBNf",
   "metadata": {
    "colab": {
     "base_uri": "https://localhost:8080/"
    },
    "id": "1hJHUCQbxBNf",
    "outputId": "bf323c52-264c-4c8b-fe08-ee17650906f8"
   },
   "outputs": [
    {
     "name": "stdout",
     "output_type": "stream",
     "text": [
      "CPU times: user 915 ms, sys: 175 ms, total: 1.09 s\n",
      "Wall time: 225 ms\n"
     ]
    }
   ],
   "source": [
    "%%time\n",
    "test_user_factors = user_factors[test_users_internal]\n",
    "reco_ann, _ = hnswlib_index.knn_query(test_user_factors, n_recs)"
   ]
  },
  {
   "cell_type": "markdown",
   "id": "JhAyJdaixG_o",
   "metadata": {
    "id": "JhAyJdaixG_o"
   },
   "source": [
    "## Сравнение рекомендаций"
   ]
  },
  {
   "cell_type": "code",
   "execution_count": 67,
   "id": "DLgrKi4CqEsR",
   "metadata": {
    "colab": {
     "base_uri": "https://localhost:8080/"
    },
    "id": "DLgrKi4CqEsR",
    "outputId": "ac51af3f-1554-4492-860c-408d60f22589"
   },
   "outputs": [
    {
     "data": {
      "text/plain": [
       "array([[   5,  146,  124, ...,  999, 1064,  232],\n",
       "       [  46,   30,   78, ...,  150,  143,  173],\n",
       "       [  96,   75,   82, ...,  149,   27,   17],\n",
       "       ...,\n",
       "       [ 173,  149,   96, ...,  376,   75,  120],\n",
       "       [  82,  797,  350, ...,  208,  219,  457],\n",
       "       [   6,  298,  185, ...,   82,  687,  589]], dtype=uint64)"
      ]
     },
     "execution_count": 67,
     "metadata": {},
     "output_type": "execute_result"
    }
   ],
   "source": [
    "reco_ann"
   ]
  },
  {
   "cell_type": "code",
   "execution_count": 76,
   "id": "1405d5ed-61d7-4ea7-97d2-4830d5a8ee44",
   "metadata": {},
   "outputs": [
    {
     "data": {
      "text/plain": [
       "1016960"
      ]
     },
     "execution_count": 76,
     "metadata": {},
     "output_type": "execute_result"
    }
   ],
   "source": [
    "reco_ann.shape[0] * reco_ann.shape[1]"
   ]
  },
  {
   "cell_type": "code",
   "execution_count": 73,
   "id": "fnSnzRNQ7BN-",
   "metadata": {
    "colab": {
     "base_uri": "https://localhost:8080/"
    },
    "id": "fnSnzRNQ7BN-",
    "outputId": "d2f9ad52-f726-44c8-a571-8ab75dfc4687"
   },
   "outputs": [
    {
     "data": {
      "text/plain": [
       "466468"
      ]
     },
     "execution_count": 73,
     "metadata": {},
     "output_type": "execute_result"
    }
   ],
   "source": [
    "np.where((reco_by_batch != reco_ann), 1, 0).sum()"
   ]
  },
  {
   "cell_type": "code",
   "execution_count": 78,
   "id": "Vwfns1Ep88us",
   "metadata": {
    "id": "Vwfns1Ep88us"
   },
   "outputs": [],
   "source": [
    "n_recs = 10"
   ]
  },
  {
   "cell_type": "code",
   "execution_count": 79,
   "id": "Sv0W4hZjy6yj",
   "metadata": {
    "id": "Sv0W4hZjy6yj"
   },
   "outputs": [],
   "source": [
    "def calc_map(reco):\n",
    "    global test_hot, test_users_internal, n_recs\n",
    "    reco_df = pd.DataFrame(\n",
    "        {\n",
    "            Columns.User: np.repeat(test_users, n_recs),\n",
    "            Columns.Item: dataset.item_id_map.convert_to_external(np.array(reco).ravel()),\n",
    "            Columns.Rank: np.tile(np.arange(n_recs) + 1, len(test_users)),\n",
    "        }\n",
    "    )\n",
    "    metric = MAP(k=n_recs).calc(reco_df, test_hot)\n",
    "    return metric"
   ]
  },
  {
   "cell_type": "code",
   "execution_count": 80,
   "id": "CSivXj61zGKz",
   "metadata": {
    "colab": {
     "base_uri": "https://localhost:8080/"
    },
    "id": "CSivXj61zGKz",
    "outputId": "ee9f0e36-b472-420a-88b8-b2f873c700f4"
   },
   "outputs": [
    {
     "data": {
      "text/plain": [
       "0.014899135283443788"
      ]
     },
     "execution_count": 80,
     "metadata": {},
     "output_type": "execute_result"
    }
   ],
   "source": [
    "MAP(k=n_recs).calc(reco_rectools, test_hot)"
   ]
  },
  {
   "cell_type": "code",
   "execution_count": 81,
   "id": "iq-od1KFzQqx",
   "metadata": {
    "colab": {
     "base_uri": "https://localhost:8080/"
    },
    "id": "iq-od1KFzQqx",
    "outputId": "7b7fe80d-bc40-4696-a0c6-c9b658f7a009"
   },
   "outputs": [
    {
     "data": {
      "text/plain": [
       "0.014899135283443788"
      ]
     },
     "execution_count": 81,
     "metadata": {},
     "output_type": "execute_result"
    }
   ],
   "source": [
    "calc_map(reco_by_batch)"
   ]
  },
  {
   "cell_type": "code",
   "execution_count": 82,
   "id": "Q2CKf8R0zSEm",
   "metadata": {
    "colab": {
     "base_uri": "https://localhost:8080/"
    },
    "id": "Q2CKf8R0zSEm",
    "outputId": "7fd3ddc1-feef-48f7-9a3f-45485c2aa145"
   },
   "outputs": [
    {
     "data": {
      "text/plain": [
       "0.015560923642499266"
      ]
     },
     "execution_count": 82,
     "metadata": {},
     "output_type": "execute_result"
    }
   ],
   "source": [
    "calc_map(reco_ann)"
   ]
  },
  {
   "cell_type": "markdown",
   "id": "GD_svYXUzZ_O",
   "metadata": {
    "id": "GD_svYXUzZ_O"
   },
   "source": [
    "## Те же самые сравнения, только для 100 рекомендаций per User"
   ]
  },
  {
   "cell_type": "code",
   "execution_count": 83,
   "id": "jO9EGxAFzZih",
   "metadata": {
    "id": "jO9EGxAFzZih"
   },
   "outputs": [],
   "source": [
    "n_recs = 100"
   ]
  },
  {
   "cell_type": "markdown",
   "id": "OB76x7aD06PY",
   "metadata": {
    "id": "OB76x7aD06PY"
   },
   "source": [
    "###  Получим рекомендации через метод `recommend`"
   ]
  },
  {
   "cell_type": "code",
   "execution_count": 84,
   "id": "kyN1SrQ6zz12",
   "metadata": {
    "colab": {
     "base_uri": "https://localhost:8080/"
    },
    "id": "kyN1SrQ6zz12",
    "outputId": "4d01f362-6048-4669-debe-8a9df133c90e"
   },
   "outputs": [
    {
     "name": "stdout",
     "output_type": "stream",
     "text": [
      "CPU times: user 1min 15s, sys: 5.09 s, total: 1min 20s\n",
      "Wall time: 16.8 s\n"
     ]
    }
   ],
   "source": [
    "%%time\n",
    "reco_rectools = model.recommend(\n",
    "    users=test_users,\n",
    "    dataset=dataset,\n",
    "    k=n_recs,\n",
    "    filter_viewed=False,\n",
    ")"
   ]
  },
  {
   "cell_type": "markdown",
   "id": "tZY6cI0z09CB",
   "metadata": {
    "id": "tZY6cI0z09CB"
   },
   "source": [
    "### Теперь попробуем ANN"
   ]
  },
  {
   "cell_type": "code",
   "execution_count": 85,
   "id": "cFWue10X016r",
   "metadata": {
    "colab": {
     "base_uri": "https://localhost:8080/"
    },
    "id": "cFWue10X016r",
    "outputId": "ca0d5a77-7332-4456-e209-928d4c20332b"
   },
   "outputs": [
    {
     "name": "stdout",
     "output_type": "stream",
     "text": [
      "CPU times: user 4.35 s, sys: 281 ms, total: 4.63 s\n",
      "Wall time: 861 ms\n"
     ]
    }
   ],
   "source": [
    "%%time\n",
    "ann_index = hnswlib.Index(space=\"ip\", dim=model.model.factors)\n",
    "ann_index.init_index(max_elements=item_factors.shape[0])\n",
    "ann_index.add_items(item_factors)\n",
    "test_user_factors = user_factors[test_users_internal]\n",
    "reco_ann, _ = ann_index.knn_query(test_user_factors, n_recs)"
   ]
  },
  {
   "cell_type": "code",
   "execution_count": 86,
   "id": "3e_YzA5G0-8_",
   "metadata": {
    "colab": {
     "base_uri": "https://localhost:8080/"
    },
    "id": "3e_YzA5G0-8_",
    "outputId": "3fbfb428-7076-4be2-d8a4-d4e7f36666eb"
   },
   "outputs": [
    {
     "name": "stdout",
     "output_type": "stream",
     "text": [
      "CPU times: user 959 ms, sys: 304 ms, total: 1.26 s\n",
      "Wall time: 1.36 s\n"
     ]
    },
    {
     "data": {
      "text/plain": [
       "0.022487792569897084"
      ]
     },
     "execution_count": 86,
     "metadata": {},
     "output_type": "execute_result"
    }
   ],
   "source": [
    "%%time\n",
    "MAP(k=n_recs).calc(reco_rectools, test_hot)"
   ]
  },
  {
   "cell_type": "code",
   "execution_count": 87,
   "id": "YmO6L9k91Q0F",
   "metadata": {
    "colab": {
     "base_uri": "https://localhost:8080/"
    },
    "id": "YmO6L9k91Q0F",
    "outputId": "4da44572-725f-4d04-ec75-129c0736fcc2"
   },
   "outputs": [
    {
     "name": "stdout",
     "output_type": "stream",
     "text": [
      "CPU times: user 1.27 s, sys: 341 ms, total: 1.61 s\n",
      "Wall time: 1.67 s\n"
     ]
    },
    {
     "data": {
      "text/plain": [
       "0.02235336125999168"
      ]
     },
     "execution_count": 87,
     "metadata": {},
     "output_type": "execute_result"
    }
   ],
   "source": [
    "%%time\n",
    "calc_map(reco_ann)"
   ]
  },
  {
   "cell_type": "markdown",
   "id": "jbx62bIZ72nt",
   "metadata": {
    "id": "jbx62bIZ72nt"
   },
   "source": [
    "### Теперь для `500`"
   ]
  },
  {
   "cell_type": "code",
   "execution_count": 88,
   "id": "3kAGs7wG70no",
   "metadata": {
    "id": "3kAGs7wG70no"
   },
   "outputs": [],
   "source": [
    "n_recs = 500"
   ]
  },
  {
   "cell_type": "markdown",
   "id": "QDUfa6IZ70np",
   "metadata": {
    "id": "QDUfa6IZ70np"
   },
   "source": [
    "###  Получим рекомендации через метод `recommend`"
   ]
  },
  {
   "cell_type": "code",
   "execution_count": 89,
   "id": "1FZG_t3h70np",
   "metadata": {
    "colab": {
     "base_uri": "https://localhost:8080/"
    },
    "id": "1FZG_t3h70np",
    "outputId": "3eef81ee-e2c2-4986-dd3b-0eb43c9b4d7d"
   },
   "outputs": [
    {
     "name": "stdout",
     "output_type": "stream",
     "text": [
      "CPU times: user 2min, sys: 11.3 s, total: 2min 11s\n",
      "Wall time: 32.6 s\n"
     ]
    }
   ],
   "source": [
    "%%time\n",
    "reco_rectools = model.recommend(\n",
    "    users=test_users,\n",
    "    dataset=dataset,\n",
    "    k=n_recs,\n",
    "    filter_viewed=False,\n",
    ")"
   ]
  },
  {
   "cell_type": "markdown",
   "id": "V9gO-eFn7x0l",
   "metadata": {
    "id": "V9gO-eFn7x0l"
   },
   "source": [
    "### Теперь попробуем ANN"
   ]
  },
  {
   "cell_type": "code",
   "execution_count": 90,
   "id": "5UUBJNbB7x0m",
   "metadata": {
    "colab": {
     "base_uri": "https://localhost:8080/"
    },
    "id": "5UUBJNbB7x0m",
    "outputId": "aa1b0067-7a57-48b9-95da-0832254b7f22"
   },
   "outputs": [
    {
     "name": "stdout",
     "output_type": "stream",
     "text": [
      "CPU times: user 16.3 s, sys: 399 ms, total: 16.7 s\n",
      "Wall time: 3.15 s\n"
     ]
    }
   ],
   "source": [
    "%%time\n",
    "ann_index = hnswlib.Index(space=\"ip\", dim=implicit_model.factors)\n",
    "ann_index.init_index(max_elements=item_factors.shape[0])\n",
    "ann_index.add_items(item_factors)\n",
    "test_user_factors = user_factors[test_users_internal]\n",
    "reco_ann, _ = ann_index.knn_query(test_user_factors, n_recs)"
   ]
  },
  {
   "cell_type": "code",
   "execution_count": 91,
   "id": "dOcmd0517x0m",
   "metadata": {
    "colab": {
     "base_uri": "https://localhost:8080/"
    },
    "id": "dOcmd0517x0m",
    "outputId": "c6401a8c-6f61-4a2d-a70e-5cf1f73f4647"
   },
   "outputs": [
    {
     "name": "stdout",
     "output_type": "stream",
     "text": [
      "CPU times: user 5.81 s, sys: 1.72 s, total: 7.53 s\n",
      "Wall time: 8.31 s\n"
     ]
    },
    {
     "data": {
      "text/plain": [
       "0.024594640657209593"
      ]
     },
     "execution_count": 91,
     "metadata": {},
     "output_type": "execute_result"
    }
   ],
   "source": [
    "%%time\n",
    "MAP(k=n_recs).calc(reco_rectools, test_hot)"
   ]
  },
  {
   "cell_type": "code",
   "execution_count": 92,
   "id": "xjuBd6xC7x0m",
   "metadata": {
    "colab": {
     "base_uri": "https://localhost:8080/"
    },
    "id": "xjuBd6xC7x0m",
    "outputId": "19d43fa1-39cb-413b-dff3-aadc677be489"
   },
   "outputs": [
    {
     "name": "stdout",
     "output_type": "stream",
     "text": [
      "CPU times: user 7.14 s, sys: 2.11 s, total: 9.25 s\n",
      "Wall time: 9.89 s\n"
     ]
    },
    {
     "data": {
      "text/plain": [
       "0.023520226530352538"
      ]
     },
     "execution_count": 92,
     "metadata": {},
     "output_type": "execute_result"
    }
   ],
   "source": [
    "%%time\n",
    "calc_map(reco_ann)"
   ]
  },
  {
   "cell_type": "markdown",
   "id": "XiRdizjK-VE5",
   "metadata": {
    "id": "XiRdizjK-VE5"
   },
   "source": [
    "## Видим снижение MAP\n",
    "- Проблема:  \n",
    "\"Maximum Inner Product Search\". Значения скалярного произведения ничем не ограничены, и вектор может не являться ближайшим соседом самому себе. Это нарушает логику алгоритмов.\n",
    "- Решение:  \n",
    "Проведем аугментацию векторов для того, чтобы поиск был более эффективным. Увеличим размерность эмбеддингов на один и заполним значения так, чтобы все векторы имели одинаковую норму. Для вектора-запроса в новой размерности будем ставить 0. Тогда косинусное расстояние будет пропорционально скалярному произведению."
   ]
  },
  {
   "cell_type": "code",
   "execution_count": 93,
   "id": "s-kalatR1Xcv",
   "metadata": {
    "colab": {
     "base_uri": "https://localhost:8080/"
    },
    "id": "s-kalatR1Xcv",
    "outputId": "aa41b258-e020-41e6-c05d-371175b022d0"
   },
   "outputs": [
    {
     "name": "stdout",
     "output_type": "stream",
     "text": [
      "CPU times: user 23.3 s, sys: 430 ms, total: 23.8 s\n",
      "Wall time: 4.3 s\n"
     ]
    }
   ],
   "source": [
    "%%time\n",
    "ann_index_aug = hnswlib.Index(space=\"ip\", dim=implicit_model.factors+1)\n",
    "ann_index_aug.init_index(max_elements=item_factors.shape[0])\n",
    "\n",
    "# Augment user factors with extra 0\n",
    "test_user_factors = user_factors[test_users_internal]\n",
    "extra_zero = np.zeros((test_user_factors.shape[0], 1))\n",
    "test_user_factors_aug = np.append(test_user_factors, extra_zero, axis=1)\n",
    "\n",
    "# Augment item factors with extra dim so that they all have same norms\n",
    "factor_norms = np.linalg.norm(item_factors, axis=1)\n",
    "max_norm = factor_norms.max()\n",
    "extra_dim = np.sqrt(max_norm ** 2 - factor_norms ** 2).reshape(-1, 1)\n",
    "item_factors_aug = np.append(item_factors, extra_dim, axis=1)\n",
    "\n",
    "ann_index_aug.add_items(item_factors_aug)\n",
    "\n",
    "reco_ann_aug, _ = ann_index_aug.knn_query(test_user_factors_aug, n_recs)"
   ]
  },
  {
   "cell_type": "code",
   "execution_count": 95,
   "id": "N430M4-2-YIT",
   "metadata": {
    "colab": {
     "base_uri": "https://localhost:8080/"
    },
    "id": "N430M4-2-YIT",
    "outputId": "04011986-59db-49c5-ec03-678b304a2b1f"
   },
   "outputs": [
    {
     "name": "stdout",
     "output_type": "stream",
     "text": [
      "CPU times: user 6.98 s, sys: 2.45 s, total: 9.43 s\n",
      "Wall time: 10.6 s\n"
     ]
    },
    {
     "data": {
      "text/plain": [
       "0.024368610558066224"
      ]
     },
     "execution_count": 95,
     "metadata": {},
     "output_type": "execute_result"
    }
   ],
   "source": [
    "%%time\n",
    "calc_map(reco_ann_aug)"
   ]
  },
  {
   "cell_type": "code",
   "execution_count": 96,
   "id": "44bd63ec-9cd9-464d-92fe-115a372943ab",
   "metadata": {},
   "outputs": [
    {
     "data": {
      "text/plain": [
       "0.023520226530352538"
      ]
     },
     "execution_count": 96,
     "metadata": {},
     "output_type": "execute_result"
    }
   ],
   "source": [
    "0.023520226530352538"
   ]
  },
  {
   "cell_type": "markdown",
   "id": "r4tJkK_q-bth",
   "metadata": {
    "id": "r4tJkK_q-bth"
   },
   "source": [
    "## Параметры поиска:\n",
    "* ``ef`` - размер динамического списка ближайших соседей во время поиска. Большее значение ``ef``\n",
    "приводит к более точному, но медленному поиску. Значение ``ef`` может быть любым между ``k`` и размером набора данных.\n",
    "\n",
    "## Параметры построения:\n",
    "* ``ef_construction`` - контролирует компромисс между скоростью поиска и скоростью построения индекса\n",
    "Большее значение `ef_construction` приводит к более длительному построению, но лучшему качеству индекса. В какой-то момент увеличение `ef_construction`\n",
    "не улучшает качество индекса.\n",
    "* ``M`` - тесно связано с внутренней размерностью данных. Сильно влияет на потребление памяти (~M)\n",
    "Большее значение M приводит к увеличению точности/времени выполнения при фиксированном ef/efConstruction\n",
    "Разумный диапазон для ``M`` составляет 2-100. Более высокие значения ``M`` лучше работают на наборах данных с высокой внутренней размерностью."
   ]
  },
  {
   "cell_type": "markdown",
   "id": "fPhQOHDJ-erc",
   "metadata": {
    "id": "fPhQOHDJ-erc"
   },
   "source": [
    "<img src=\"https://d33wubrfki0l68.cloudfront.net/4c635fabb268a4af60109a506300a2dfda612063/d2535/images/similarity-search-indexes17.jpg\">"
   ]
  },
  {
   "cell_type": "markdown",
   "id": "rZvXUi-b-g_9",
   "metadata": {
    "id": "rZvXUi-b-g_9"
   },
   "source": [
    "<img src=\"https://d33wubrfki0l68.cloudfront.net/96d80cd46c2d12df99c044c860a8a5fb00cf6376/d59ca/images/similarity-search-indexes18.jpg\">"
   ]
  },
  {
   "cell_type": "code",
   "execution_count": null,
   "id": "-lmdjH6p-bSV",
   "metadata": {
    "id": "-lmdjH6p-bSV"
   },
   "outputs": [],
   "source": []
  }
 ],
 "metadata": {
  "colab": {
   "provenance": []
  },
  "kernelspec": {
   "display_name": "hse",
   "language": "python",
   "name": "hse"
  },
  "language_info": {
   "codemirror_mode": {
    "name": "ipython",
    "version": 3
   },
   "file_extension": ".py",
   "mimetype": "text/x-python",
   "name": "python",
   "nbconvert_exporter": "python",
   "pygments_lexer": "ipython3",
   "version": "3.12.2"
  },
  "widgets": {
   "application/vnd.jupyter.widget-state+json": {
    "03bab3fd70764d1385ec73453ef6c0b1": {
     "model_module": "@jupyter-widgets/controls",
     "model_module_version": "1.5.0",
     "model_name": "HBoxModel",
     "state": {
      "_dom_classes": [],
      "_model_module": "@jupyter-widgets/controls",
      "_model_module_version": "1.5.0",
      "_model_name": "HBoxModel",
      "_view_count": null,
      "_view_module": "@jupyter-widgets/controls",
      "_view_module_version": "1.5.0",
      "_view_name": "HBoxView",
      "box_style": "",
      "children": [
       "IPY_MODEL_a0136f025f084c949493b7c9291a100b",
       "IPY_MODEL_f70228ff3bea4c1882b2e96479e4a8bf",
       "IPY_MODEL_12856663d211475a9bc155f5ef1db256"
      ],
      "layout": "IPY_MODEL_2905b8e76b8447a1a14583246d5c6492"
     }
    },
    "0d234662c0f1479c961c24ac586ac374": {
     "model_module": "@jupyter-widgets/controls",
     "model_module_version": "1.5.0",
     "model_name": "DescriptionStyleModel",
     "state": {
      "_model_module": "@jupyter-widgets/controls",
      "_model_module_version": "1.5.0",
      "_model_name": "DescriptionStyleModel",
      "_view_count": null,
      "_view_module": "@jupyter-widgets/base",
      "_view_module_version": "1.2.0",
      "_view_name": "StyleView",
      "description_width": ""
     }
    },
    "12856663d211475a9bc155f5ef1db256": {
     "model_module": "@jupyter-widgets/controls",
     "model_module_version": "1.5.0",
     "model_name": "HTMLModel",
     "state": {
      "_dom_classes": [],
      "_model_module": "@jupyter-widgets/controls",
      "_model_module_version": "1.5.0",
      "_model_name": "HTMLModel",
      "_view_count": null,
      "_view_module": "@jupyter-widgets/controls",
      "_view_module_version": "1.5.0",
      "_view_name": "HTMLView",
      "description": "",
      "description_tooltip": null,
      "layout": "IPY_MODEL_6292ca2295d1485393910cb03ddb18d2",
      "placeholder": "​",
      "style": "IPY_MODEL_e08bfab00047443597086c43b0208901",
      "value": " 30/30 [01:16&lt;00:00,  2.68s/it]"
     }
    },
    "15f0e9ce02084adf9b235872d155348b": {
     "model_module": "@jupyter-widgets/base",
     "model_module_version": "1.2.0",
     "model_name": "LayoutModel",
     "state": {
      "_model_module": "@jupyter-widgets/base",
      "_model_module_version": "1.2.0",
      "_model_name": "LayoutModel",
      "_view_count": null,
      "_view_module": "@jupyter-widgets/base",
      "_view_module_version": "1.2.0",
      "_view_name": "LayoutView",
      "align_content": null,
      "align_items": null,
      "align_self": null,
      "border": null,
      "bottom": null,
      "display": null,
      "flex": null,
      "flex_flow": null,
      "grid_area": null,
      "grid_auto_columns": null,
      "grid_auto_flow": null,
      "grid_auto_rows": null,
      "grid_column": null,
      "grid_gap": null,
      "grid_row": null,
      "grid_template_areas": null,
      "grid_template_columns": null,
      "grid_template_rows": null,
      "height": null,
      "justify_content": null,
      "justify_items": null,
      "left": null,
      "margin": null,
      "max_height": null,
      "max_width": null,
      "min_height": null,
      "min_width": null,
      "object_fit": null,
      "object_position": null,
      "order": null,
      "overflow": null,
      "overflow_x": null,
      "overflow_y": null,
      "padding": null,
      "right": null,
      "top": null,
      "visibility": null,
      "width": null
     }
    },
    "1aba11865b93479a87597a32266d7651": {
     "model_module": "@jupyter-widgets/controls",
     "model_module_version": "1.5.0",
     "model_name": "HBoxModel",
     "state": {
      "_dom_classes": [],
      "_model_module": "@jupyter-widgets/controls",
      "_model_module_version": "1.5.0",
      "_model_name": "HBoxModel",
      "_view_count": null,
      "_view_module": "@jupyter-widgets/controls",
      "_view_module_version": "1.5.0",
      "_view_name": "HBoxView",
      "box_style": "",
      "children": [
       "IPY_MODEL_412b5d1e20aa4afca2d98551ed4c0531",
       "IPY_MODEL_3ad049afe3d44174bdcb5134dd909e89",
       "IPY_MODEL_f3fb008eec99480fb1a23b20155cb931"
      ],
      "layout": "IPY_MODEL_57b60a7ad7dc4a16beeadddc68cc67c7"
     }
    },
    "2905b8e76b8447a1a14583246d5c6492": {
     "model_module": "@jupyter-widgets/base",
     "model_module_version": "1.2.0",
     "model_name": "LayoutModel",
     "state": {
      "_model_module": "@jupyter-widgets/base",
      "_model_module_version": "1.2.0",
      "_model_name": "LayoutModel",
      "_view_count": null,
      "_view_module": "@jupyter-widgets/base",
      "_view_module_version": "1.2.0",
      "_view_name": "LayoutView",
      "align_content": null,
      "align_items": null,
      "align_self": null,
      "border": null,
      "bottom": null,
      "display": null,
      "flex": null,
      "flex_flow": null,
      "grid_area": null,
      "grid_auto_columns": null,
      "grid_auto_flow": null,
      "grid_auto_rows": null,
      "grid_column": null,
      "grid_gap": null,
      "grid_row": null,
      "grid_template_areas": null,
      "grid_template_columns": null,
      "grid_template_rows": null,
      "height": null,
      "justify_content": null,
      "justify_items": null,
      "left": null,
      "margin": null,
      "max_height": null,
      "max_width": null,
      "min_height": null,
      "min_width": null,
      "object_fit": null,
      "object_position": null,
      "order": null,
      "overflow": null,
      "overflow_x": null,
      "overflow_y": null,
      "padding": null,
      "right": null,
      "top": null,
      "visibility": null,
      "width": null
     }
    },
    "2f87307ccaf2456ea8b5bee4da926491": {
     "model_module": "@jupyter-widgets/controls",
     "model_module_version": "1.5.0",
     "model_name": "ProgressStyleModel",
     "state": {
      "_model_module": "@jupyter-widgets/controls",
      "_model_module_version": "1.5.0",
      "_model_name": "ProgressStyleModel",
      "_view_count": null,
      "_view_module": "@jupyter-widgets/base",
      "_view_module_version": "1.2.0",
      "_view_name": "StyleView",
      "bar_color": null,
      "description_width": ""
     }
    },
    "33f11113e296487397af9fe12b14a3fc": {
     "model_module": "@jupyter-widgets/base",
     "model_module_version": "1.2.0",
     "model_name": "LayoutModel",
     "state": {
      "_model_module": "@jupyter-widgets/base",
      "_model_module_version": "1.2.0",
      "_model_name": "LayoutModel",
      "_view_count": null,
      "_view_module": "@jupyter-widgets/base",
      "_view_module_version": "1.2.0",
      "_view_name": "LayoutView",
      "align_content": null,
      "align_items": null,
      "align_self": null,
      "border": null,
      "bottom": null,
      "display": null,
      "flex": null,
      "flex_flow": null,
      "grid_area": null,
      "grid_auto_columns": null,
      "grid_auto_flow": null,
      "grid_auto_rows": null,
      "grid_column": null,
      "grid_gap": null,
      "grid_row": null,
      "grid_template_areas": null,
      "grid_template_columns": null,
      "grid_template_rows": null,
      "height": null,
      "justify_content": null,
      "justify_items": null,
      "left": null,
      "margin": null,
      "max_height": null,
      "max_width": null,
      "min_height": null,
      "min_width": null,
      "object_fit": null,
      "object_position": null,
      "order": null,
      "overflow": null,
      "overflow_x": null,
      "overflow_y": null,
      "padding": null,
      "right": null,
      "top": null,
      "visibility": null,
      "width": null
     }
    },
    "3ad049afe3d44174bdcb5134dd909e89": {
     "model_module": "@jupyter-widgets/controls",
     "model_module_version": "1.5.0",
     "model_name": "FloatProgressModel",
     "state": {
      "_dom_classes": [],
      "_model_module": "@jupyter-widgets/controls",
      "_model_module_version": "1.5.0",
      "_model_name": "FloatProgressModel",
      "_view_count": null,
      "_view_module": "@jupyter-widgets/controls",
      "_view_module_version": "1.5.0",
      "_view_name": "ProgressView",
      "bar_style": "success",
      "description": "",
      "description_tooltip": null,
      "layout": "IPY_MODEL_44179ba5feab40fe9f224f8b20381420",
      "max": 30,
      "min": 0,
      "orientation": "horizontal",
      "style": "IPY_MODEL_2f87307ccaf2456ea8b5bee4da926491",
      "value": 30
     }
    },
    "412b5d1e20aa4afca2d98551ed4c0531": {
     "model_module": "@jupyter-widgets/controls",
     "model_module_version": "1.5.0",
     "model_name": "HTMLModel",
     "state": {
      "_dom_classes": [],
      "_model_module": "@jupyter-widgets/controls",
      "_model_module_version": "1.5.0",
      "_model_name": "HTMLModel",
      "_view_count": null,
      "_view_module": "@jupyter-widgets/controls",
      "_view_module_version": "1.5.0",
      "_view_name": "HTMLView",
      "description": "",
      "description_tooltip": null,
      "layout": "IPY_MODEL_60d82231214e4069b1c293cb24b72194",
      "placeholder": "​",
      "style": "IPY_MODEL_e97861e9f9bd48b0aa49cafb568389c7",
      "value": "100%"
     }
    },
    "44179ba5feab40fe9f224f8b20381420": {
     "model_module": "@jupyter-widgets/base",
     "model_module_version": "1.2.0",
     "model_name": "LayoutModel",
     "state": {
      "_model_module": "@jupyter-widgets/base",
      "_model_module_version": "1.2.0",
      "_model_name": "LayoutModel",
      "_view_count": null,
      "_view_module": "@jupyter-widgets/base",
      "_view_module_version": "1.2.0",
      "_view_name": "LayoutView",
      "align_content": null,
      "align_items": null,
      "align_self": null,
      "border": null,
      "bottom": null,
      "display": null,
      "flex": null,
      "flex_flow": null,
      "grid_area": null,
      "grid_auto_columns": null,
      "grid_auto_flow": null,
      "grid_auto_rows": null,
      "grid_column": null,
      "grid_gap": null,
      "grid_row": null,
      "grid_template_areas": null,
      "grid_template_columns": null,
      "grid_template_rows": null,
      "height": null,
      "justify_content": null,
      "justify_items": null,
      "left": null,
      "margin": null,
      "max_height": null,
      "max_width": null,
      "min_height": null,
      "min_width": null,
      "object_fit": null,
      "object_position": null,
      "order": null,
      "overflow": null,
      "overflow_x": null,
      "overflow_y": null,
      "padding": null,
      "right": null,
      "top": null,
      "visibility": null,
      "width": null
     }
    },
    "57b60a7ad7dc4a16beeadddc68cc67c7": {
     "model_module": "@jupyter-widgets/base",
     "model_module_version": "1.2.0",
     "model_name": "LayoutModel",
     "state": {
      "_model_module": "@jupyter-widgets/base",
      "_model_module_version": "1.2.0",
      "_model_name": "LayoutModel",
      "_view_count": null,
      "_view_module": "@jupyter-widgets/base",
      "_view_module_version": "1.2.0",
      "_view_name": "LayoutView",
      "align_content": null,
      "align_items": null,
      "align_self": null,
      "border": null,
      "bottom": null,
      "display": null,
      "flex": null,
      "flex_flow": null,
      "grid_area": null,
      "grid_auto_columns": null,
      "grid_auto_flow": null,
      "grid_auto_rows": null,
      "grid_column": null,
      "grid_gap": null,
      "grid_row": null,
      "grid_template_areas": null,
      "grid_template_columns": null,
      "grid_template_rows": null,
      "height": null,
      "justify_content": null,
      "justify_items": null,
      "left": null,
      "margin": null,
      "max_height": null,
      "max_width": null,
      "min_height": null,
      "min_width": null,
      "object_fit": null,
      "object_position": null,
      "order": null,
      "overflow": null,
      "overflow_x": null,
      "overflow_y": null,
      "padding": null,
      "right": null,
      "top": null,
      "visibility": null,
      "width": null
     }
    },
    "5f2ec959ce9242ddbd85332a25e067af": {
     "model_module": "@jupyter-widgets/controls",
     "model_module_version": "1.5.0",
     "model_name": "HBoxModel",
     "state": {
      "_dom_classes": [],
      "_model_module": "@jupyter-widgets/controls",
      "_model_module_version": "1.5.0",
      "_model_name": "HBoxModel",
      "_view_count": null,
      "_view_module": "@jupyter-widgets/controls",
      "_view_module_version": "1.5.0",
      "_view_name": "HBoxView",
      "box_style": "",
      "children": [
       "IPY_MODEL_63b31ffd312144a9b863c8691ade9693",
       "IPY_MODEL_717934183a304c43b518cea1771b8a71",
       "IPY_MODEL_e2883c02bafd443086df8a96ae4149c2"
      ],
      "layout": "IPY_MODEL_751bfbf0fb6d465b926f7698a682585e"
     }
    },
    "60d82231214e4069b1c293cb24b72194": {
     "model_module": "@jupyter-widgets/base",
     "model_module_version": "1.2.0",
     "model_name": "LayoutModel",
     "state": {
      "_model_module": "@jupyter-widgets/base",
      "_model_module_version": "1.2.0",
      "_model_name": "LayoutModel",
      "_view_count": null,
      "_view_module": "@jupyter-widgets/base",
      "_view_module_version": "1.2.0",
      "_view_name": "LayoutView",
      "align_content": null,
      "align_items": null,
      "align_self": null,
      "border": null,
      "bottom": null,
      "display": null,
      "flex": null,
      "flex_flow": null,
      "grid_area": null,
      "grid_auto_columns": null,
      "grid_auto_flow": null,
      "grid_auto_rows": null,
      "grid_column": null,
      "grid_gap": null,
      "grid_row": null,
      "grid_template_areas": null,
      "grid_template_columns": null,
      "grid_template_rows": null,
      "height": null,
      "justify_content": null,
      "justify_items": null,
      "left": null,
      "margin": null,
      "max_height": null,
      "max_width": null,
      "min_height": null,
      "min_width": null,
      "object_fit": null,
      "object_position": null,
      "order": null,
      "overflow": null,
      "overflow_x": null,
      "overflow_y": null,
      "padding": null,
      "right": null,
      "top": null,
      "visibility": null,
      "width": null
     }
    },
    "621395c5303d4f8da4e02780c59e5b22": {
     "model_module": "@jupyter-widgets/controls",
     "model_module_version": "1.5.0",
     "model_name": "ProgressStyleModel",
     "state": {
      "_model_module": "@jupyter-widgets/controls",
      "_model_module_version": "1.5.0",
      "_model_name": "ProgressStyleModel",
      "_view_count": null,
      "_view_module": "@jupyter-widgets/base",
      "_view_module_version": "1.2.0",
      "_view_name": "StyleView",
      "bar_color": null,
      "description_width": ""
     }
    },
    "6292ca2295d1485393910cb03ddb18d2": {
     "model_module": "@jupyter-widgets/base",
     "model_module_version": "1.2.0",
     "model_name": "LayoutModel",
     "state": {
      "_model_module": "@jupyter-widgets/base",
      "_model_module_version": "1.2.0",
      "_model_name": "LayoutModel",
      "_view_count": null,
      "_view_module": "@jupyter-widgets/base",
      "_view_module_version": "1.2.0",
      "_view_name": "LayoutView",
      "align_content": null,
      "align_items": null,
      "align_self": null,
      "border": null,
      "bottom": null,
      "display": null,
      "flex": null,
      "flex_flow": null,
      "grid_area": null,
      "grid_auto_columns": null,
      "grid_auto_flow": null,
      "grid_auto_rows": null,
      "grid_column": null,
      "grid_gap": null,
      "grid_row": null,
      "grid_template_areas": null,
      "grid_template_columns": null,
      "grid_template_rows": null,
      "height": null,
      "justify_content": null,
      "justify_items": null,
      "left": null,
      "margin": null,
      "max_height": null,
      "max_width": null,
      "min_height": null,
      "min_width": null,
      "object_fit": null,
      "object_position": null,
      "order": null,
      "overflow": null,
      "overflow_x": null,
      "overflow_y": null,
      "padding": null,
      "right": null,
      "top": null,
      "visibility": null,
      "width": null
     }
    },
    "63b31ffd312144a9b863c8691ade9693": {
     "model_module": "@jupyter-widgets/controls",
     "model_module_version": "1.5.0",
     "model_name": "HTMLModel",
     "state": {
      "_dom_classes": [],
      "_model_module": "@jupyter-widgets/controls",
      "_model_module_version": "1.5.0",
      "_model_name": "HTMLModel",
      "_view_count": null,
      "_view_module": "@jupyter-widgets/controls",
      "_view_module_version": "1.5.0",
      "_view_name": "HTMLView",
      "description": "",
      "description_tooltip": null,
      "layout": "IPY_MODEL_7ab6e2e3c2cf45eb96341f09727ab8fd",
      "placeholder": "​",
      "style": "IPY_MODEL_70e607f0c0e74d3abb54a9bcbf4e82e7",
      "value": "100%"
     }
    },
    "70e607f0c0e74d3abb54a9bcbf4e82e7": {
     "model_module": "@jupyter-widgets/controls",
     "model_module_version": "1.5.0",
     "model_name": "DescriptionStyleModel",
     "state": {
      "_model_module": "@jupyter-widgets/controls",
      "_model_module_version": "1.5.0",
      "_model_name": "DescriptionStyleModel",
      "_view_count": null,
      "_view_module": "@jupyter-widgets/base",
      "_view_module_version": "1.2.0",
      "_view_name": "StyleView",
      "description_width": ""
     }
    },
    "717934183a304c43b518cea1771b8a71": {
     "model_module": "@jupyter-widgets/controls",
     "model_module_version": "1.5.0",
     "model_name": "FloatProgressModel",
     "state": {
      "_dom_classes": [],
      "_model_module": "@jupyter-widgets/controls",
      "_model_module_version": "1.5.0",
      "_model_name": "FloatProgressModel",
      "_view_count": null,
      "_view_module": "@jupyter-widgets/controls",
      "_view_module_version": "1.5.0",
      "_view_name": "ProgressView",
      "bar_style": "success",
      "description": "",
      "description_tooltip": null,
      "layout": "IPY_MODEL_7e33fd240aae49f197575ec9bac5aefa",
      "max": 30,
      "min": 0,
      "orientation": "horizontal",
      "style": "IPY_MODEL_621395c5303d4f8da4e02780c59e5b22",
      "value": 30
     }
    },
    "751bfbf0fb6d465b926f7698a682585e": {
     "model_module": "@jupyter-widgets/base",
     "model_module_version": "1.2.0",
     "model_name": "LayoutModel",
     "state": {
      "_model_module": "@jupyter-widgets/base",
      "_model_module_version": "1.2.0",
      "_model_name": "LayoutModel",
      "_view_count": null,
      "_view_module": "@jupyter-widgets/base",
      "_view_module_version": "1.2.0",
      "_view_name": "LayoutView",
      "align_content": null,
      "align_items": null,
      "align_self": null,
      "border": null,
      "bottom": null,
      "display": null,
      "flex": null,
      "flex_flow": null,
      "grid_area": null,
      "grid_auto_columns": null,
      "grid_auto_flow": null,
      "grid_auto_rows": null,
      "grid_column": null,
      "grid_gap": null,
      "grid_row": null,
      "grid_template_areas": null,
      "grid_template_columns": null,
      "grid_template_rows": null,
      "height": null,
      "justify_content": null,
      "justify_items": null,
      "left": null,
      "margin": null,
      "max_height": null,
      "max_width": null,
      "min_height": null,
      "min_width": null,
      "object_fit": null,
      "object_position": null,
      "order": null,
      "overflow": null,
      "overflow_x": null,
      "overflow_y": null,
      "padding": null,
      "right": null,
      "top": null,
      "visibility": null,
      "width": null
     }
    },
    "7ab6e2e3c2cf45eb96341f09727ab8fd": {
     "model_module": "@jupyter-widgets/base",
     "model_module_version": "1.2.0",
     "model_name": "LayoutModel",
     "state": {
      "_model_module": "@jupyter-widgets/base",
      "_model_module_version": "1.2.0",
      "_model_name": "LayoutModel",
      "_view_count": null,
      "_view_module": "@jupyter-widgets/base",
      "_view_module_version": "1.2.0",
      "_view_name": "LayoutView",
      "align_content": null,
      "align_items": null,
      "align_self": null,
      "border": null,
      "bottom": null,
      "display": null,
      "flex": null,
      "flex_flow": null,
      "grid_area": null,
      "grid_auto_columns": null,
      "grid_auto_flow": null,
      "grid_auto_rows": null,
      "grid_column": null,
      "grid_gap": null,
      "grid_row": null,
      "grid_template_areas": null,
      "grid_template_columns": null,
      "grid_template_rows": null,
      "height": null,
      "justify_content": null,
      "justify_items": null,
      "left": null,
      "margin": null,
      "max_height": null,
      "max_width": null,
      "min_height": null,
      "min_width": null,
      "object_fit": null,
      "object_position": null,
      "order": null,
      "overflow": null,
      "overflow_x": null,
      "overflow_y": null,
      "padding": null,
      "right": null,
      "top": null,
      "visibility": null,
      "width": null
     }
    },
    "7e33fd240aae49f197575ec9bac5aefa": {
     "model_module": "@jupyter-widgets/base",
     "model_module_version": "1.2.0",
     "model_name": "LayoutModel",
     "state": {
      "_model_module": "@jupyter-widgets/base",
      "_model_module_version": "1.2.0",
      "_model_name": "LayoutModel",
      "_view_count": null,
      "_view_module": "@jupyter-widgets/base",
      "_view_module_version": "1.2.0",
      "_view_name": "LayoutView",
      "align_content": null,
      "align_items": null,
      "align_self": null,
      "border": null,
      "bottom": null,
      "display": null,
      "flex": null,
      "flex_flow": null,
      "grid_area": null,
      "grid_auto_columns": null,
      "grid_auto_flow": null,
      "grid_auto_rows": null,
      "grid_column": null,
      "grid_gap": null,
      "grid_row": null,
      "grid_template_areas": null,
      "grid_template_columns": null,
      "grid_template_rows": null,
      "height": null,
      "justify_content": null,
      "justify_items": null,
      "left": null,
      "margin": null,
      "max_height": null,
      "max_width": null,
      "min_height": null,
      "min_width": null,
      "object_fit": null,
      "object_position": null,
      "order": null,
      "overflow": null,
      "overflow_x": null,
      "overflow_y": null,
      "padding": null,
      "right": null,
      "top": null,
      "visibility": null,
      "width": null
     }
    },
    "84520684b1e74636a250083f7edb372d": {
     "model_module": "@jupyter-widgets/controls",
     "model_module_version": "1.5.0",
     "model_name": "ProgressStyleModel",
     "state": {
      "_model_module": "@jupyter-widgets/controls",
      "_model_module_version": "1.5.0",
      "_model_name": "ProgressStyleModel",
      "_view_count": null,
      "_view_module": "@jupyter-widgets/base",
      "_view_module_version": "1.2.0",
      "_view_name": "StyleView",
      "bar_color": null,
      "description_width": ""
     }
    },
    "968fbb880f124b67955c8d6409579299": {
     "model_module": "@jupyter-widgets/controls",
     "model_module_version": "1.5.0",
     "model_name": "DescriptionStyleModel",
     "state": {
      "_model_module": "@jupyter-widgets/controls",
      "_model_module_version": "1.5.0",
      "_model_name": "DescriptionStyleModel",
      "_view_count": null,
      "_view_module": "@jupyter-widgets/base",
      "_view_module_version": "1.2.0",
      "_view_name": "StyleView",
      "description_width": ""
     }
    },
    "a0136f025f084c949493b7c9291a100b": {
     "model_module": "@jupyter-widgets/controls",
     "model_module_version": "1.5.0",
     "model_name": "HTMLModel",
     "state": {
      "_dom_classes": [],
      "_model_module": "@jupyter-widgets/controls",
      "_model_module_version": "1.5.0",
      "_model_name": "HTMLModel",
      "_view_count": null,
      "_view_module": "@jupyter-widgets/controls",
      "_view_module_version": "1.5.0",
      "_view_name": "HTMLView",
      "description": "",
      "description_tooltip": null,
      "layout": "IPY_MODEL_15f0e9ce02084adf9b235872d155348b",
      "placeholder": "​",
      "style": "IPY_MODEL_0d234662c0f1479c961c24ac586ac374",
      "value": "100%"
     }
    },
    "d7d61827498c4a76b08cd4c93df7552c": {
     "model_module": "@jupyter-widgets/controls",
     "model_module_version": "1.5.0",
     "model_name": "DescriptionStyleModel",
     "state": {
      "_model_module": "@jupyter-widgets/controls",
      "_model_module_version": "1.5.0",
      "_model_name": "DescriptionStyleModel",
      "_view_count": null,
      "_view_module": "@jupyter-widgets/base",
      "_view_module_version": "1.2.0",
      "_view_name": "StyleView",
      "description_width": ""
     }
    },
    "e08bfab00047443597086c43b0208901": {
     "model_module": "@jupyter-widgets/controls",
     "model_module_version": "1.5.0",
     "model_name": "DescriptionStyleModel",
     "state": {
      "_model_module": "@jupyter-widgets/controls",
      "_model_module_version": "1.5.0",
      "_model_name": "DescriptionStyleModel",
      "_view_count": null,
      "_view_module": "@jupyter-widgets/base",
      "_view_module_version": "1.2.0",
      "_view_name": "StyleView",
      "description_width": ""
     }
    },
    "e2883c02bafd443086df8a96ae4149c2": {
     "model_module": "@jupyter-widgets/controls",
     "model_module_version": "1.5.0",
     "model_name": "HTMLModel",
     "state": {
      "_dom_classes": [],
      "_model_module": "@jupyter-widgets/controls",
      "_model_module_version": "1.5.0",
      "_model_name": "HTMLModel",
      "_view_count": null,
      "_view_module": "@jupyter-widgets/controls",
      "_view_module_version": "1.5.0",
      "_view_name": "HTMLView",
      "description": "",
      "description_tooltip": null,
      "layout": "IPY_MODEL_33f11113e296487397af9fe12b14a3fc",
      "placeholder": "​",
      "style": "IPY_MODEL_d7d61827498c4a76b08cd4c93df7552c",
      "value": " 30/30 [00:17&lt;00:00,  1.53it/s]"
     }
    },
    "e97861e9f9bd48b0aa49cafb568389c7": {
     "model_module": "@jupyter-widgets/controls",
     "model_module_version": "1.5.0",
     "model_name": "DescriptionStyleModel",
     "state": {
      "_model_module": "@jupyter-widgets/controls",
      "_model_module_version": "1.5.0",
      "_model_name": "DescriptionStyleModel",
      "_view_count": null,
      "_view_module": "@jupyter-widgets/base",
      "_view_module_version": "1.2.0",
      "_view_name": "StyleView",
      "description_width": ""
     }
    },
    "ef0a9b55bbe04437a7b196738924b314": {
     "model_module": "@jupyter-widgets/base",
     "model_module_version": "1.2.0",
     "model_name": "LayoutModel",
     "state": {
      "_model_module": "@jupyter-widgets/base",
      "_model_module_version": "1.2.0",
      "_model_name": "LayoutModel",
      "_view_count": null,
      "_view_module": "@jupyter-widgets/base",
      "_view_module_version": "1.2.0",
      "_view_name": "LayoutView",
      "align_content": null,
      "align_items": null,
      "align_self": null,
      "border": null,
      "bottom": null,
      "display": null,
      "flex": null,
      "flex_flow": null,
      "grid_area": null,
      "grid_auto_columns": null,
      "grid_auto_flow": null,
      "grid_auto_rows": null,
      "grid_column": null,
      "grid_gap": null,
      "grid_row": null,
      "grid_template_areas": null,
      "grid_template_columns": null,
      "grid_template_rows": null,
      "height": null,
      "justify_content": null,
      "justify_items": null,
      "left": null,
      "margin": null,
      "max_height": null,
      "max_width": null,
      "min_height": null,
      "min_width": null,
      "object_fit": null,
      "object_position": null,
      "order": null,
      "overflow": null,
      "overflow_x": null,
      "overflow_y": null,
      "padding": null,
      "right": null,
      "top": null,
      "visibility": null,
      "width": null
     }
    },
    "f3fb008eec99480fb1a23b20155cb931": {
     "model_module": "@jupyter-widgets/controls",
     "model_module_version": "1.5.0",
     "model_name": "HTMLModel",
     "state": {
      "_dom_classes": [],
      "_model_module": "@jupyter-widgets/controls",
      "_model_module_version": "1.5.0",
      "_model_name": "HTMLModel",
      "_view_count": null,
      "_view_module": "@jupyter-widgets/controls",
      "_view_module_version": "1.5.0",
      "_view_name": "HTMLView",
      "description": "",
      "description_tooltip": null,
      "layout": "IPY_MODEL_f7b161c27c5b4e408568976ba139d1e4",
      "placeholder": "​",
      "style": "IPY_MODEL_968fbb880f124b67955c8d6409579299",
      "value": " 30/30 [00:40&lt;00:00,  1.46s/it]"
     }
    },
    "f70228ff3bea4c1882b2e96479e4a8bf": {
     "model_module": "@jupyter-widgets/controls",
     "model_module_version": "1.5.0",
     "model_name": "FloatProgressModel",
     "state": {
      "_dom_classes": [],
      "_model_module": "@jupyter-widgets/controls",
      "_model_module_version": "1.5.0",
      "_model_name": "FloatProgressModel",
      "_view_count": null,
      "_view_module": "@jupyter-widgets/controls",
      "_view_module_version": "1.5.0",
      "_view_name": "ProgressView",
      "bar_style": "success",
      "description": "",
      "description_tooltip": null,
      "layout": "IPY_MODEL_ef0a9b55bbe04437a7b196738924b314",
      "max": 30,
      "min": 0,
      "orientation": "horizontal",
      "style": "IPY_MODEL_84520684b1e74636a250083f7edb372d",
      "value": 30
     }
    },
    "f7b161c27c5b4e408568976ba139d1e4": {
     "model_module": "@jupyter-widgets/base",
     "model_module_version": "1.2.0",
     "model_name": "LayoutModel",
     "state": {
      "_model_module": "@jupyter-widgets/base",
      "_model_module_version": "1.2.0",
      "_model_name": "LayoutModel",
      "_view_count": null,
      "_view_module": "@jupyter-widgets/base",
      "_view_module_version": "1.2.0",
      "_view_name": "LayoutView",
      "align_content": null,
      "align_items": null,
      "align_self": null,
      "border": null,
      "bottom": null,
      "display": null,
      "flex": null,
      "flex_flow": null,
      "grid_area": null,
      "grid_auto_columns": null,
      "grid_auto_flow": null,
      "grid_auto_rows": null,
      "grid_column": null,
      "grid_gap": null,
      "grid_row": null,
      "grid_template_areas": null,
      "grid_template_columns": null,
      "grid_template_rows": null,
      "height": null,
      "justify_content": null,
      "justify_items": null,
      "left": null,
      "margin": null,
      "max_height": null,
      "max_width": null,
      "min_height": null,
      "min_width": null,
      "object_fit": null,
      "object_position": null,
      "order": null,
      "overflow": null,
      "overflow_x": null,
      "overflow_y": null,
      "padding": null,
      "right": null,
      "top": null,
      "visibility": null,
      "width": null
     }
    }
   }
  }
 },
 "nbformat": 4,
 "nbformat_minor": 5
}
